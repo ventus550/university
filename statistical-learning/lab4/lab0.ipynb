{
 "cells": [
  {
   "cell_type": "code",
   "execution_count": 1,
   "metadata": {
    "vscode": {
     "languageId": "r"
    }
   },
   "outputs": [
    {
     "name": "stderr",
     "output_type": "stream",
     "text": [
      "Loading required package: Matrix\n",
      "\n",
      "Loaded glmnet 4.1-8\n",
      "\n",
      "\n",
      "Attaching package: ‘tidyr’\n",
      "\n",
      "\n",
      "The following objects are masked from ‘package:Matrix’:\n",
      "\n",
      "    expand, pack, unpack\n",
      "\n",
      "\n"
     ]
    }
   ],
   "source": [
    "library(glmnet)\n",
    "library(SLOPE)\n",
    "library(bigstep)\n",
    "library(ggplot2)\n",
    "library(tidyr)\n",
    "library(gridExtra)\n",
    "library(knockoff)"
   ]
  },
  {
   "cell_type": "markdown",
   "metadata": {},
   "source": [
    "### Computer project"
   ]
  },
  {
   "cell_type": "code",
   "execution_count": 2,
   "metadata": {
    "vscode": {
     "languageId": "r"
    }
   },
   "outputs": [],
   "source": [
    "generate.data = function(n = 500, p = 450, k = 5) list(\n",
    "\tX = matrix(data = rnorm(n * p, 0, sd=sqrt(1/n)), nrow = n),\n",
    "\tβ = 10 * (1:p %in% seq(1, k))\n",
    ")"
   ]
  },
  {
   "cell_type": "code",
   "execution_count": 3,
   "metadata": {
    "vscode": {
     "languageId": "r"
    }
   },
   "outputs": [],
   "source": [
    "W = function(coefs) {\n",
    "\tn = length(coefs) / 2\n",
    "\treal <- coefs[1:n]\n",
    "\tfake <- coefs[(n+1):(2*n)]\n",
    "\treturn( abs(real) - abs(fake) )\n",
    "} "
   ]
  },
  {
   "cell_type": "code",
   "execution_count": 61,
   "metadata": {
    "vscode": {
     "languageId": "r"
    }
   },
   "outputs": [],
   "source": [
    "W.model = function(alpha) {\n",
    "\treturn(function(X, X_k, y) {\n",
    "\t\tlasso = cv.glmnet(cbind(X, X_k), y, standardize=F, intercept=F, alpha=alpha)\n",
    "\t\tB = coef(lasso, s='lambda.min')[-1]\n",
    "\t\treturn(W(B))\n",
    "\t})\n",
    "}\n",
    "\n",
    "knockoff.ridge = function(X, Xk, y) knockoff.filter(X, y, knockoffs = function(X) Xk, statistic = W.model(0), fdr = 0.2)$selected\n",
    "knockoff.lasso = function(X, Xk, y) knockoff.filter(X, y, knockoffs = function(X) Xk, statistic = W.model(1), fdr = 0.2)$selected"
   ]
  },
  {
   "cell_type": "code",
   "execution_count": 62,
   "metadata": {
    "vscode": {
     "languageId": "r"
    }
   },
   "outputs": [],
   "source": [
    "experiment = function(model, k, n = 500, p = 450, iters=100) {\n",
    "\tdata = generate.data(n = n, p = p, k = k)\n",
    "\tX = data$X\n",
    "\tβ = data$β\n",
    "\tXk <- create.second_order(X)\n",
    "\n",
    "\tmetrics = function(coefs) return(c(\n",
    "\t\tpower = sum(coefs <= k) / k,\n",
    "\t\tfdp = sum(coefs > k) / p\n",
    "\t))\n",
    "\n",
    "\titer = function() {\n",
    "\t\ty = X %*% β + rnorm(n, 0, sd=2)\n",
    "\t\tvariables = model(X, Xk, y)\n",
    "\t\tmetrics(variables)\n",
    "\t\t# knocks = knockoff.filter(X, y, knockoffs = function(X) Xk, statistic = model, fdr = 0.2)$selected\n",
    "\t\t# metrics(knocks)\n",
    "\t}\n",
    "\n",
    "\trowMeans(replicate(iters, iter()))\n",
    "}"
   ]
  },
  {
   "cell_type": "code",
   "execution_count": 63,
   "metadata": {
    "vscode": {
     "languageId": "r"
    }
   },
   "outputs": [
    {
     "data": {
      "text/html": [
       "<style>\n",
       ".dl-inline {width: auto; margin:0; padding: 0}\n",
       ".dl-inline>dt, .dl-inline>dd {float: none; width: auto; display: inline-block}\n",
       ".dl-inline>dt::after {content: \":\\0020\"; padding-right: .5ex}\n",
       ".dl-inline>dt:not(:first-of-type) {padding-left: .5ex}\n",
       "</style><dl class=dl-inline><dt>power</dt><dd>0</dd><dt>fdp</dt><dd>0</dd></dl>\n"
      ],
      "text/latex": [
       "\\begin{description*}\n",
       "\\item[power] 0\n",
       "\\item[fdp] 0\n",
       "\\end{description*}\n"
      ],
      "text/markdown": [
       "power\n",
       ":   0fdp\n",
       ":   0\n",
       "\n"
      ],
      "text/plain": [
       "power   fdp \n",
       "    0     0 "
      ]
     },
     "metadata": {},
     "output_type": "display_data"
    }
   ],
   "source": [
    "experiment(knockoff.lasso, 50, iters=100)"
   ]
  },
  {
   "cell_type": "code",
   "execution_count": null,
   "metadata": {
    "vscode": {
     "languageId": "r"
    }
   },
   "outputs": [],
   "source": [
    "rowMeans(replicate(100, knockoffs.model(alpha = 1, k = 50)))"
   ]
  },
  {
   "cell_type": "markdown",
   "metadata": {},
   "source": [
    "# uwu\n"
   ]
  },
  {
   "cell_type": "code",
   "execution_count": null,
   "metadata": {
    "vscode": {
     "languageId": "r"
    }
   },
   "outputs": [],
   "source": [
    "metrics = function(B) c(\n",
    "\tE1  = sum((B - β)**2),\n",
    "\tE2  = sum((X %*% (B - β))**2),\n",
    "\tFDP = sum(B[21:p] != 0) / sum(B != 0),\n",
    "\tTPP = sum(B[1:20] != 0) / 20\n",
    ") "
   ]
  },
  {
   "cell_type": "code",
   "execution_count": null,
   "metadata": {
    "vscode": {
     "languageId": "r"
    }
   },
   "outputs": [],
   "source": [
    "# use intercept?\n",
    "ridge = cv.glmnet(X, y, alpha=0, intercept = F)\n",
    "ridge.metrics = metrics(coef(ridge)[-1,])"
   ]
  },
  {
   "cell_type": "code",
   "execution_count": null,
   "metadata": {
    "vscode": {
     "languageId": "r"
    }
   },
   "outputs": [],
   "source": [
    "ridge.metrics"
   ]
  },
  {
   "cell_type": "markdown",
   "metadata": {},
   "source": [
    "#### LASSO"
   ]
  },
  {
   "cell_type": "markdown",
   "metadata": {},
   "source": [
    "When fitting a cross-validated lasso model using cv.glmnet, two lambda values are commonly reported:\n",
    "\n",
    "`cv_fit$lambda.min`: The value of lambda that gives the minimum mean cross-validated error. This is often referred to as the \"best\" lambda because it directly minimizes the prediction error on the validation set.\n",
    "\n",
    "`cv_fit$lambda.1se`: The largest value of lambda for which the mean cross-validated error is within one standard error of the minimum. This lambda value usually results in a sparser model (fewer non-zero coefficients), potentially improving interpretability and generalization by favoring simpler models."
   ]
  },
  {
   "cell_type": "code",
   "execution_count": null,
   "metadata": {
    "vscode": {
     "languageId": "r"
    }
   },
   "outputs": [],
   "source": [
    "lasso = cv.glmnet(X, y, alpha=1)\n",
    "lasso.min.metrics = metrics(coef(lasso, s = \"lambda.min\")[-1,])\n",
    "lasso.1se.metrics = metrics(coef(lasso, s = \"lambda.1se\")[-1,])"
   ]
  },
  {
   "cell_type": "code",
   "execution_count": null,
   "metadata": {
    "vscode": {
     "languageId": "r"
    }
   },
   "outputs": [],
   "source": [
    "lasso.min.metrics"
   ]
  },
  {
   "cell_type": "code",
   "execution_count": null,
   "metadata": {
    "vscode": {
     "languageId": "r"
    }
   },
   "outputs": [],
   "source": [
    "lasso.1se.metrics"
   ]
  },
  {
   "cell_type": "code",
   "execution_count": null,
   "metadata": {
    "vscode": {
     "languageId": "r"
    }
   },
   "outputs": [],
   "source": [
    "lasso.arg = glmnet(X, y, alpha=1, lambda = qnorm(1 - 0.1/2/p)/n)"
   ]
  },
  {
   "cell_type": "code",
   "execution_count": null,
   "metadata": {
    "vscode": {
     "languageId": "r"
    }
   },
   "outputs": [],
   "source": [
    "lasso.arg.metrics = metrics(coef(lasso.arg)[-1,])"
   ]
  },
  {
   "cell_type": "code",
   "execution_count": null,
   "metadata": {
    "vscode": {
     "languageId": "r"
    }
   },
   "outputs": [],
   "source": [
    "lasso.arg.metrics"
   ]
  },
  {
   "cell_type": "code",
   "execution_count": null,
   "metadata": {
    "vscode": {
     "languageId": "r"
    }
   },
   "outputs": [],
   "source": [
    "lasso.ols = glmnet(X, y, alpha=1, lambda=0)\n",
    "lasso.ols.metrics = metrics(coef(lasso)[-1,])\n",
    "lasso.ols.metrics"
   ]
  },
  {
   "cell_type": "code",
   "execution_count": null,
   "metadata": {
    "vscode": {
     "languageId": "r"
    }
   },
   "outputs": [],
   "source": [
    "glmnet(X, Y, alpha = 1, lambda = 0)"
   ]
  },
  {
   "cell_type": "markdown",
   "metadata": {},
   "source": [
    "#### SLOPE"
   ]
  },
  {
   "cell_type": "code",
   "execution_count": null,
   "metadata": {
    "vscode": {
     "languageId": "r"
    }
   },
   "outputs": [],
   "source": [
    "# https://cran.r-project.org/web/packages/SLOPE/vignettes/introduction.html\n",
    "slope = SLOPE(X, y, lambda = qnorm(1 - seq(1, 950, 1)*0.1/2/p)/n)"
   ]
  },
  {
   "cell_type": "code",
   "execution_count": null,
   "metadata": {
    "vscode": {
     "languageId": "r"
    }
   },
   "outputs": [],
   "source": [
    "metrics(coef(slope)[,20][-1])"
   ]
  },
  {
   "cell_type": "code",
   "execution_count": null,
   "metadata": {
    "vscode": {
     "languageId": "r"
    }
   },
   "outputs": [],
   "source": [
    "slope = SLOPE(X, y, lambda=rep(0, 950))\n",
    "metrics(coef(slope)[,2][-1])"
   ]
  },
  {
   "cell_type": "code",
   "execution_count": null,
   "metadata": {
    "vscode": {
     "languageId": "r"
    }
   },
   "outputs": [],
   "source": []
  }
 ],
 "metadata": {
  "kernelspec": {
   "display_name": "R",
   "language": "R",
   "name": "ir"
  },
  "language_info": {
   "codemirror_mode": "r",
   "file_extension": ".r",
   "mimetype": "text/x-r-source",
   "name": "R",
   "pygments_lexer": "r",
   "version": "4.3.3"
  }
 },
 "nbformat": 4,
 "nbformat_minor": 2
}
