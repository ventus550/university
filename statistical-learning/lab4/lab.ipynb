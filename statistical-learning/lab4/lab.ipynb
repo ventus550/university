{
 "cells": [
  {
   "cell_type": "code",
   "execution_count": 1,
   "metadata": {
    "vscode": {
     "languageId": "r"
    }
   },
   "outputs": [
    {
     "name": "stderr",
     "output_type": "stream",
     "text": [
      "Loading required package: Matrix\n",
      "\n",
      "Loaded glmnet 4.1-8\n",
      "\n",
      "\n",
      "Attaching package: ‘tidyr’\n",
      "\n",
      "\n",
      "The following objects are masked from ‘package:Matrix’:\n",
      "\n",
      "    expand, pack, unpack\n",
      "\n",
      "\n"
     ]
    }
   ],
   "source": [
    "library(glmnet)\n",
    "library(SLOPE)\n",
    "library(bigstep)\n",
    "library(ggplot2)\n",
    "library(tidyr)\n",
    "library(gridExtra)\n",
    "library(knockoff)"
   ]
  },
  {
   "cell_type": "code",
   "execution_count": null,
   "metadata": {
    "vscode": {
     "languageId": "r"
    }
   },
   "outputs": [],
   "source": []
  },
  {
   "cell_type": "markdown",
   "metadata": {},
   "source": [
    "### Computer project"
   ]
  },
  {
   "cell_type": "code",
   "execution_count": 2,
   "metadata": {
    "vscode": {
     "languageId": "r"
    }
   },
   "outputs": [],
   "source": [
    "generate.data = function(n = 500, p = 450, k = 5) list(\n",
    "\tX = matrix(data = rnorm(n * p, 0, sd=sqrt(1/n)), nrow = n),\n",
    "\tβ = 10 * (1:p %in% seq(1, k))\n",
    ")"
   ]
  },
  {
   "cell_type": "code",
   "execution_count": 3,
   "metadata": {
    "vscode": {
     "languageId": "r"
    }
   },
   "outputs": [],
   "source": [
    "estimate.knockoffs = function(model, k, n = 500, p = 450, iters=100) {\n",
    "\tdata = generate.data(n = n, p = p, k = k)\n",
    "\tX = data$X\n",
    "\tβ = data$β\n",
    "\n",
    "\titer = function() {\n",
    "\t\ty = X %*% β + 2*rnorm(n, 0, 1)\n",
    "\n",
    "\t\tknockoffs = function(X) create.gaussian(X, rep(0, ncol(X)), diag(ncol(X)))\n",
    "\t\tcoefs = knockoff.filter(X, y, knockoffs, statistic = model, fdr = 0.2)$selected\n",
    "\t\tncoefs = length(coefs)\n",
    "\t\t\n",
    "\t\treturn(c(\n",
    "\t\t\tpower = sum(coefs <= k) / k,\n",
    "\t\t\tfdp = sum(coefs > k) / (ncoefs + (ncoefs == 0))\n",
    "\t\t))\n",
    "\t}\n",
    "\tsuppressWarnings(rowMeans(replicate(iters, iter())))\n",
    "}"
   ]
  },
  {
   "cell_type": "markdown",
   "metadata": {},
   "source": [
    "# FDR and power of LASSO, LASSO + knockoffs and ridge"
   ]
  },
  {
   "cell_type": "code",
   "execution_count": 4,
   "metadata": {
    "vscode": {
     "languageId": "r"
    }
   },
   "outputs": [
    {
     "data": {
      "text/html": [
       "<style>\n",
       ".dl-inline {width: auto; margin:0; padding: 0}\n",
       ".dl-inline>dt, .dl-inline>dd {float: none; width: auto; display: inline-block}\n",
       ".dl-inline>dt::after {content: \":\\0020\"; padding-right: .5ex}\n",
       ".dl-inline>dt:not(:first-of-type) {padding-left: .5ex}\n",
       "</style><dl class=dl-inline><dt>power</dt><dd>0.406</dd><dt>fdp</dt><dd>0.123287878787879</dd></dl>\n"
      ],
      "text/latex": [
       "\\begin{description*}\n",
       "\\item[power] 0.406\n",
       "\\item[fdp] 0.123287878787879\n",
       "\\end{description*}\n"
      ],
      "text/markdown": [
       "power\n",
       ":   0.406fdp\n",
       ":   0.123287878787879\n",
       "\n"
      ],
      "text/plain": [
       "    power       fdp \n",
       "0.4060000 0.1232879 "
      ]
     },
     "metadata": {},
     "output_type": "display_data"
    },
    {
     "data": {
      "text/html": [
       "<style>\n",
       ".dl-inline {width: auto; margin:0; padding: 0}\n",
       ".dl-inline>dt, .dl-inline>dd {float: none; width: auto; display: inline-block}\n",
       ".dl-inline>dt::after {content: \":\\0020\"; padding-right: .5ex}\n",
       ".dl-inline>dt:not(:first-of-type) {padding-left: .5ex}\n",
       "</style><dl class=dl-inline><dt>power</dt><dd>0.7445</dd><dt>fdp</dt><dd>0.178789477349367</dd></dl>\n"
      ],
      "text/latex": [
       "\\begin{description*}\n",
       "\\item[power] 0.7445\n",
       "\\item[fdp] 0.178789477349367\n",
       "\\end{description*}\n"
      ],
      "text/markdown": [
       "power\n",
       ":   0.7445fdp\n",
       ":   0.178789477349367\n",
       "\n"
      ],
      "text/plain": [
       "    power       fdp \n",
       "0.7445000 0.1787895 "
      ]
     },
     "metadata": {},
     "output_type": "display_data"
    },
    {
     "data": {
      "text/html": [
       "<style>\n",
       ".dl-inline {width: auto; margin:0; padding: 0}\n",
       ".dl-inline>dt, .dl-inline>dd {float: none; width: auto; display: inline-block}\n",
       ".dl-inline>dt::after {content: \":\\0020\"; padding-right: .5ex}\n",
       ".dl-inline>dt:not(:first-of-type) {padding-left: .5ex}\n",
       "</style><dl class=dl-inline><dt>power</dt><dd>0.6122</dd><dt>fdp</dt><dd>0.211532682100674</dd></dl>\n"
      ],
      "text/latex": [
       "\\begin{description*}\n",
       "\\item[power] 0.6122\n",
       "\\item[fdp] 0.211532682100674\n",
       "\\end{description*}\n"
      ],
      "text/markdown": [
       "power\n",
       ":   0.6122fdp\n",
       ":   0.211532682100674\n",
       "\n"
      ],
      "text/plain": [
       "    power       fdp \n",
       "0.6122000 0.2115327 "
      ]
     },
     "metadata": {},
     "output_type": "display_data"
    }
   ],
   "source": [
    "stat_ridge <- function(X, X_k, y) {\n",
    "  stat.glmnet_coefdiff(X, X_k, y,\n",
    "    alpha = 0,\n",
    "    intercept = FALSE,\n",
    "    standarize = FALSE\n",
    "  )\n",
    "}\n",
    "\n",
    "estimate.knockoffs(stat_ridge, k=5, iters=100)\n",
    "estimate.knockoffs(stat_ridge, k=20, iters=100)\n",
    "estimate.knockoffs(stat_ridge, k=50, iters=100)"
   ]
  },
  {
   "cell_type": "code",
   "execution_count": 5,
   "metadata": {
    "vscode": {
     "languageId": "r"
    }
   },
   "outputs": [
    {
     "data": {
      "text/html": [
       "<style>\n",
       ".dl-inline {width: auto; margin:0; padding: 0}\n",
       ".dl-inline>dt, .dl-inline>dd {float: none; width: auto; display: inline-block}\n",
       ".dl-inline>dt::after {content: \":\\0020\"; padding-right: .5ex}\n",
       ".dl-inline>dt:not(:first-of-type) {padding-left: .5ex}\n",
       "</style><dl class=dl-inline><dt>power</dt><dd>0.782</dd><dt>fdp</dt><dd>0.158150454121042</dd></dl>\n"
      ],
      "text/latex": [
       "\\begin{description*}\n",
       "\\item[power] 0.782\n",
       "\\item[fdp] 0.158150454121042\n",
       "\\end{description*}\n"
      ],
      "text/markdown": [
       "power\n",
       ":   0.782fdp\n",
       ":   0.158150454121042\n",
       "\n"
      ],
      "text/plain": [
       "    power       fdp \n",
       "0.7820000 0.1581505 "
      ]
     },
     "metadata": {},
     "output_type": "display_data"
    },
    {
     "data": {
      "text/html": [
       "<style>\n",
       ".dl-inline {width: auto; margin:0; padding: 0}\n",
       ".dl-inline>dt, .dl-inline>dd {float: none; width: auto; display: inline-block}\n",
       ".dl-inline>dt::after {content: \":\\0020\"; padding-right: .5ex}\n",
       ".dl-inline>dt:not(:first-of-type) {padding-left: .5ex}\n",
       "</style><dl class=dl-inline><dt>power</dt><dd>0.968</dd><dt>fdp</dt><dd>0.174690968396474</dd></dl>\n"
      ],
      "text/latex": [
       "\\begin{description*}\n",
       "\\item[power] 0.968\n",
       "\\item[fdp] 0.174690968396474\n",
       "\\end{description*}\n"
      ],
      "text/markdown": [
       "power\n",
       ":   0.968fdp\n",
       ":   0.174690968396474\n",
       "\n"
      ],
      "text/plain": [
       "   power      fdp \n",
       "0.968000 0.174691 "
      ]
     },
     "metadata": {},
     "output_type": "display_data"
    },
    {
     "data": {
      "text/html": [
       "<style>\n",
       ".dl-inline {width: auto; margin:0; padding: 0}\n",
       ".dl-inline>dt, .dl-inline>dd {float: none; width: auto; display: inline-block}\n",
       ".dl-inline>dt::after {content: \":\\0020\"; padding-right: .5ex}\n",
       ".dl-inline>dt:not(:first-of-type) {padding-left: .5ex}\n",
       "</style><dl class=dl-inline><dt>power</dt><dd>0.9576</dd><dt>fdp</dt><dd>0.186309546237643</dd></dl>\n"
      ],
      "text/latex": [
       "\\begin{description*}\n",
       "\\item[power] 0.9576\n",
       "\\item[fdp] 0.186309546237643\n",
       "\\end{description*}\n"
      ],
      "text/markdown": [
       "power\n",
       ":   0.9576fdp\n",
       ":   0.186309546237643\n",
       "\n"
      ],
      "text/plain": [
       "    power       fdp \n",
       "0.9576000 0.1863095 "
      ]
     },
     "metadata": {},
     "output_type": "display_data"
    }
   ],
   "source": [
    "stat_lasso1 <- function(X, X_k, y) {\n",
    "  stat.glmnet_coefdiff(X, X_k, y,\n",
    "    alpha = 1,\n",
    "    intercept = FALSE,\n",
    "    standarize = FALSE\n",
    "  )\n",
    "}\n",
    "\n",
    "estimate.knockoffs(stat_lasso1, k=5, iters=100)\n",
    "estimate.knockoffs(stat_lasso1, k=20, iters=100)\n",
    "estimate.knockoffs(stat_lasso1, k=50, iters=100)"
   ]
  },
  {
   "cell_type": "code",
   "execution_count": 6,
   "metadata": {
    "vscode": {
     "languageId": "r"
    }
   },
   "outputs": [],
   "source": [
    "estimate.net = function(k, n = 500, p = 450, iters=100, alpha=1) {\n",
    "\tdata = generate.data(n = n, p = p, k = k)\n",
    "\tX = data$X\n",
    "\tβ = data$β\n",
    "\n",
    "\titer = function() {\n",
    "\t\ty = X %*% β + 2*rnorm(n, 0, 1)\n",
    "\t\tB = coef(cv.glmnet(X, y, alpha=alpha, intercept=F, standarize=F))[-1,]\n",
    "\t\tcoefs = which(B != 0)\n",
    "\t\tncoefs = length(coefs)\n",
    "\n",
    "\t\treturn(c(\n",
    "\t\t\tE1  = sum((B - β)**2),\n",
    "\t\t\tE2  = sum((X %*% (B - β))**2),\n",
    "\t\t\tpower = sum(coefs <= k) / k,\n",
    "\t\t\tfdp = sum(coefs > k) / (ncoefs + (ncoefs == 0))\n",
    "\t\t))\n",
    "\t}\n",
    "\tsuppressWarnings(rowMeans(replicate(iters, iter())))\n",
    "}"
   ]
  },
  {
   "cell_type": "code",
   "execution_count": 7,
   "metadata": {
    "vscode": {
     "languageId": "r"
    }
   },
   "outputs": [
    {
     "data": {
      "text/html": [
       "<style>\n",
       ".dl-inline {width: auto; margin:0; padding: 0}\n",
       ".dl-inline>dt, .dl-inline>dd {float: none; width: auto; display: inline-block}\n",
       ".dl-inline>dt::after {content: \":\\0020\"; padding-right: .5ex}\n",
       ".dl-inline>dt:not(:first-of-type) {padding-left: .5ex}\n",
       "</style><dl class=dl-inline><dt>E1</dt><dd>497.269011059843</dd><dt>E2</dt><dd>478.106373554937</dd><dt>power</dt><dd>1</dd><dt>fdp</dt><dd>0.988888888888889</dd></dl>\n"
      ],
      "text/latex": [
       "\\begin{description*}\n",
       "\\item[E1] 497.269011059843\n",
       "\\item[E2] 478.106373554937\n",
       "\\item[power] 1\n",
       "\\item[fdp] 0.988888888888889\n",
       "\\end{description*}\n"
      ],
      "text/markdown": [
       "E1\n",
       ":   497.269011059843E2\n",
       ":   478.106373554937power\n",
       ":   1fdp\n",
       ":   0.988888888888889\n",
       "\n"
      ],
      "text/plain": [
       "         E1          E2       power         fdp \n",
       "497.2690111 478.1063736   1.0000000   0.9888889 "
      ]
     },
     "metadata": {},
     "output_type": "display_data"
    },
    {
     "data": {
      "text/html": [
       "<style>\n",
       ".dl-inline {width: auto; margin:0; padding: 0}\n",
       ".dl-inline>dt, .dl-inline>dd {float: none; width: auto; display: inline-block}\n",
       ".dl-inline>dt::after {content: \":\\0020\"; padding-right: .5ex}\n",
       ".dl-inline>dt:not(:first-of-type) {padding-left: .5ex}\n",
       "</style><dl class=dl-inline><dt>E1</dt><dd>1454.41819039632</dd><dt>E2</dt><dd>995.889223915734</dd><dt>power</dt><dd>1</dd><dt>fdp</dt><dd>0.955555555555556</dd></dl>\n"
      ],
      "text/latex": [
       "\\begin{description*}\n",
       "\\item[E1] 1454.41819039632\n",
       "\\item[E2] 995.889223915734\n",
       "\\item[power] 1\n",
       "\\item[fdp] 0.955555555555556\n",
       "\\end{description*}\n"
      ],
      "text/markdown": [
       "E1\n",
       ":   1454.41819039632E2\n",
       ":   995.889223915734power\n",
       ":   1fdp\n",
       ":   0.955555555555556\n",
       "\n"
      ],
      "text/plain": [
       "          E1           E2        power          fdp \n",
       "1454.4181904  995.8892239    1.0000000    0.9555556 "
      ]
     },
     "metadata": {},
     "output_type": "display_data"
    },
    {
     "data": {
      "text/html": [
       "<style>\n",
       ".dl-inline {width: auto; margin:0; padding: 0}\n",
       ".dl-inline>dt, .dl-inline>dd {float: none; width: auto; display: inline-block}\n",
       ".dl-inline>dt::after {content: \":\\0020\"; padding-right: .5ex}\n",
       ".dl-inline>dt:not(:first-of-type) {padding-left: .5ex}\n",
       "</style><dl class=dl-inline><dt>E1</dt><dd>2376.83405869252</dd><dt>E2</dt><dd>1287.84750354634</dd><dt>power</dt><dd>1</dd><dt>fdp</dt><dd>0.888888888888889</dd></dl>\n"
      ],
      "text/latex": [
       "\\begin{description*}\n",
       "\\item[E1] 2376.83405869252\n",
       "\\item[E2] 1287.84750354634\n",
       "\\item[power] 1\n",
       "\\item[fdp] 0.888888888888889\n",
       "\\end{description*}\n"
      ],
      "text/markdown": [
       "E1\n",
       ":   2376.83405869252E2\n",
       ":   1287.84750354634power\n",
       ":   1fdp\n",
       ":   0.888888888888889\n",
       "\n"
      ],
      "text/plain": [
       "          E1           E2        power          fdp \n",
       "2376.8340587 1287.8475035    1.0000000    0.8888889 "
      ]
     },
     "metadata": {},
     "output_type": "display_data"
    }
   ],
   "source": [
    "# ridge\n",
    "estimate.net(alpha=0, k=5, iters=100)\n",
    "estimate.net(alpha=0, k=20, iters=100)\n",
    "estimate.net(alpha=0, k=50, iters=100)"
   ]
  },
  {
   "cell_type": "code",
   "execution_count": 8,
   "metadata": {
    "vscode": {
     "languageId": "r"
    }
   },
   "outputs": [
    {
     "data": {
      "text/html": [
       "<style>\n",
       ".dl-inline {width: auto; margin:0; padding: 0}\n",
       ".dl-inline>dt, .dl-inline>dd {float: none; width: auto; display: inline-block}\n",
       ".dl-inline>dt::after {content: \":\\0020\"; padding-right: .5ex}\n",
       ".dl-inline>dt:not(:first-of-type) {padding-left: .5ex}\n",
       "</style><dl class=dl-inline><dt>E1</dt><dd>249.849227883555</dd><dt>E2</dt><dd>234.632566755628</dd><dt>power</dt><dd>0.914</dd><dt>fdp</dt><dd>0.205399704870293</dd></dl>\n"
      ],
      "text/latex": [
       "\\begin{description*}\n",
       "\\item[E1] 249.849227883555\n",
       "\\item[E2] 234.632566755628\n",
       "\\item[power] 0.914\n",
       "\\item[fdp] 0.205399704870293\n",
       "\\end{description*}\n"
      ],
      "text/markdown": [
       "E1\n",
       ":   249.849227883555E2\n",
       ":   234.632566755628power\n",
       ":   0.914fdp\n",
       ":   0.205399704870293\n",
       "\n"
      ],
      "text/plain": [
       "         E1          E2       power         fdp \n",
       "249.8492279 234.6325668   0.9140000   0.2053997 "
      ]
     },
     "metadata": {},
     "output_type": "display_data"
    },
    {
     "data": {
      "text/html": [
       "<style>\n",
       ".dl-inline {width: auto; margin:0; padding: 0}\n",
       ".dl-inline>dt, .dl-inline>dd {float: none; width: auto; display: inline-block}\n",
       ".dl-inline>dt::after {content: \":\\0020\"; padding-right: .5ex}\n",
       ".dl-inline>dt:not(:first-of-type) {padding-left: .5ex}\n",
       "</style><dl class=dl-inline><dt>E1</dt><dd>555.95877135391</dd><dt>E2</dt><dd>474.791260782752</dd><dt>power</dt><dd>0.9935</dd><dt>fdp</dt><dd>0.501686469255809</dd></dl>\n"
      ],
      "text/latex": [
       "\\begin{description*}\n",
       "\\item[E1] 555.95877135391\n",
       "\\item[E2] 474.791260782752\n",
       "\\item[power] 0.9935\n",
       "\\item[fdp] 0.501686469255809\n",
       "\\end{description*}\n"
      ],
      "text/markdown": [
       "E1\n",
       ":   555.95877135391E2\n",
       ":   474.791260782752power\n",
       ":   0.9935fdp\n",
       ":   0.501686469255809\n",
       "\n"
      ],
      "text/plain": [
       "         E1          E2       power         fdp \n",
       "555.9587714 474.7912608   0.9935000   0.5016865 "
      ]
     },
     "metadata": {},
     "output_type": "display_data"
    },
    {
     "data": {
      "text/html": [
       "<style>\n",
       ".dl-inline {width: auto; margin:0; padding: 0}\n",
       ".dl-inline>dt, .dl-inline>dd {float: none; width: auto; display: inline-block}\n",
       ".dl-inline>dt::after {content: \":\\0020\"; padding-right: .5ex}\n",
       ".dl-inline>dt:not(:first-of-type) {padding-left: .5ex}\n",
       "</style><dl class=dl-inline><dt>E1</dt><dd>1124.85134589409</dd><dt>E2</dt><dd>780.152656420918</dd><dt>power</dt><dd>0.9938</dd><dt>fdp</dt><dd>0.528609128478565</dd></dl>\n"
      ],
      "text/latex": [
       "\\begin{description*}\n",
       "\\item[E1] 1124.85134589409\n",
       "\\item[E2] 780.152656420918\n",
       "\\item[power] 0.9938\n",
       "\\item[fdp] 0.528609128478565\n",
       "\\end{description*}\n"
      ],
      "text/markdown": [
       "E1\n",
       ":   1124.85134589409E2\n",
       ":   780.152656420918power\n",
       ":   0.9938fdp\n",
       ":   0.528609128478565\n",
       "\n"
      ],
      "text/plain": [
       "          E1           E2        power          fdp \n",
       "1124.8513459  780.1526564    0.9938000    0.5286091 "
      ]
     },
     "metadata": {},
     "output_type": "display_data"
    }
   ],
   "source": [
    "# lasso\n",
    "estimate.net(alpha=1, k=5, iters=100)\n",
    "estimate.net(alpha=1, k=20, iters=100)\n",
    "estimate.net(alpha=1, k=50, iters=100)"
   ]
  },
  {
   "cell_type": "code",
   "execution_count": 9,
   "metadata": {
    "vscode": {
     "languageId": "r"
    }
   },
   "outputs": [],
   "source": [
    "estimate.ols = function(k, n = 500, p = 450, iters=100) {\n",
    "\tdata = generate.data(n = n, p = p, k = k)\n",
    "\tX = data$X\n",
    "\tβ = data$β\n",
    "\n",
    "\titer = function() {\n",
    "\t\ty = X %*% β + 2*rnorm(n, 0, 1)\n",
    "\t\tB = coef(glmnet(X, y, alpha=0, lambda=0, intercept=F, standarize=F))[-1,]\n",
    "\n",
    "\t\treturn(c(\n",
    "\t\t\tE1  = sum((B - β)**2),\n",
    "\t\t\tE2  = sum((X %*% (B - β))**2)\n",
    "\t\t))\n",
    "\t}\n",
    "\tsuppressWarnings(rowMeans(replicate(iters, iter())))\n",
    "}"
   ]
  },
  {
   "cell_type": "code",
   "execution_count": 10,
   "metadata": {
    "vscode": {
     "languageId": "r"
    }
   },
   "outputs": [
    {
     "data": {
      "text/html": [
       "<style>\n",
       ".dl-inline {width: auto; margin:0; padding: 0}\n",
       ".dl-inline>dt, .dl-inline>dd {float: none; width: auto; display: inline-block}\n",
       ".dl-inline>dt::after {content: \":\\0020\"; padding-right: .5ex}\n",
       ".dl-inline>dt:not(:first-of-type) {padding-left: .5ex}\n",
       "</style><dl class=dl-inline><dt>E1</dt><dd>16577.1033785744</dd><dt>E2</dt><dd>1790.69360855973</dd></dl>\n"
      ],
      "text/latex": [
       "\\begin{description*}\n",
       "\\item[E1] 16577.1033785744\n",
       "\\item[E2] 1790.69360855973\n",
       "\\end{description*}\n"
      ],
      "text/markdown": [
       "E1\n",
       ":   16577.1033785744E2\n",
       ":   1790.69360855973\n",
       "\n"
      ],
      "text/plain": [
       "       E1        E2 \n",
       "16577.103  1790.694 "
      ]
     },
     "metadata": {},
     "output_type": "display_data"
    },
    {
     "data": {
      "text/html": [
       "<style>\n",
       ".dl-inline {width: auto; margin:0; padding: 0}\n",
       ".dl-inline>dt, .dl-inline>dd {float: none; width: auto; display: inline-block}\n",
       ".dl-inline>dt::after {content: \":\\0020\"; padding-right: .5ex}\n",
       ".dl-inline>dt:not(:first-of-type) {padding-left: .5ex}\n",
       "</style><dl class=dl-inline><dt>E1</dt><dd>16709.4273694072</dd><dt>E2</dt><dd>1816.23594016927</dd></dl>\n"
      ],
      "text/latex": [
       "\\begin{description*}\n",
       "\\item[E1] 16709.4273694072\n",
       "\\item[E2] 1816.23594016927\n",
       "\\end{description*}\n"
      ],
      "text/markdown": [
       "E1\n",
       ":   16709.4273694072E2\n",
       ":   1816.23594016927\n",
       "\n"
      ],
      "text/plain": [
       "       E1        E2 \n",
       "16709.427  1816.236 "
      ]
     },
     "metadata": {},
     "output_type": "display_data"
    },
    {
     "data": {
      "text/html": [
       "<style>\n",
       ".dl-inline {width: auto; margin:0; padding: 0}\n",
       ".dl-inline>dt, .dl-inline>dd {float: none; width: auto; display: inline-block}\n",
       ".dl-inline>dt::after {content: \":\\0020\"; padding-right: .5ex}\n",
       ".dl-inline>dt:not(:first-of-type) {padding-left: .5ex}\n",
       "</style><dl class=dl-inline><dt>E1</dt><dd>15558.6414118049</dd><dt>E2</dt><dd>1779.81564218144</dd></dl>\n"
      ],
      "text/latex": [
       "\\begin{description*}\n",
       "\\item[E1] 15558.6414118049\n",
       "\\item[E2] 1779.81564218144\n",
       "\\end{description*}\n"
      ],
      "text/markdown": [
       "E1\n",
       ":   15558.6414118049E2\n",
       ":   1779.81564218144\n",
       "\n"
      ],
      "text/plain": [
       "       E1        E2 \n",
       "15558.641  1779.816 "
      ]
     },
     "metadata": {},
     "output_type": "display_data"
    }
   ],
   "source": [
    "estimate.ols(k=5, iters=100)\n",
    "estimate.ols(k=20, iters=100)\n",
    "estimate.ols(k=50, iters=100)"
   ]
  },
  {
   "cell_type": "code",
   "execution_count": null,
   "metadata": {
    "vscode": {
     "languageId": "r"
    }
   },
   "outputs": [],
   "source": []
  }
 ],
 "metadata": {
  "kernelspec": {
   "display_name": "R",
   "language": "R",
   "name": "ir"
  },
  "language_info": {
   "codemirror_mode": "r",
   "file_extension": ".r",
   "mimetype": "text/x-r-source",
   "name": "R",
   "pygments_lexer": "r",
   "version": "4.3.3"
  }
 },
 "nbformat": 4,
 "nbformat_minor": 2
}
