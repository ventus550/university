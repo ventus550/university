{
 "cells": [
  {
   "cell_type": "code",
   "execution_count": 1,
   "metadata": {
    "vscode": {
     "languageId": "r"
    }
   },
   "outputs": [
    {
     "name": "stderr",
     "output_type": "stream",
     "text": [
      "Loading required package: Matrix\n",
      "\n",
      "Loaded glmnet 4.1-8\n",
      "\n",
      "\n",
      "Attaching package: ‘tidyr’\n",
      "\n",
      "\n",
      "The following objects are masked from ‘package:Matrix’:\n",
      "\n",
      "    expand, pack, unpack\n",
      "\n",
      "\n"
     ]
    }
   ],
   "source": [
    "library(glmnet)\n",
    "library(SLOPE)\n",
    "library(bigstep)\n",
    "library(ggplot2)\n",
    "library(tidyr)\n",
    "library(gridExtra)\n",
    "library(knockoff)"
   ]
  },
  {
   "cell_type": "markdown",
   "metadata": {},
   "source": [
    "### Computer project"
   ]
  },
  {
   "cell_type": "code",
   "execution_count": 2,
   "metadata": {
    "vscode": {
     "languageId": "r"
    }
   },
   "outputs": [],
   "source": [
    "generate.data = function(n = 500, p = 450, k = 5) list(\n",
    "\tX = matrix(data = rnorm(n * p, 0, sd=sqrt(1/n)), nrow = n),\n",
    "\tβ = 10 * (1:p %in% seq(1, k))\n",
    ")"
   ]
  },
  {
   "cell_type": "code",
   "execution_count": 3,
   "metadata": {
    "vscode": {
     "languageId": "r"
    }
   },
   "outputs": [],
   "source": [
    "estimate.knockoffs = function(model, k, n = 500, p = 450, iters=100) {\n",
    "\tdata = generate.data(n = n, p = p, k = k)\n",
    "\tX = data$X\n",
    "\tβ = data$β\n",
    "\n",
    "\titer = function() {\n",
    "\t\ty = X %*% β + 2*rnorm(n, 0, 1)\n",
    "\n",
    "\t\tknockoffs = function(X) create.gaussian(X, rep(0, ncol(X)), diag(ncol(X)))\n",
    "\t\tcoefs = knockoff.filter(X, y, knockoffs, statistic = model, fdr = 0.2)$selected\n",
    "\t\tncoefs = length(coefs)\n",
    "\t\t\n",
    "\t\treturn(c(\n",
    "\t\t\tpower = sum(coefs <= k) / k,\n",
    "\t\t\tfdp = sum(coefs > k) / (ncoefs + (ncoefs == 0))\n",
    "\t\t))\n",
    "\t}\n",
    "\tsuppressWarnings(rowMeans(replicate(iters, iter())))\n",
    "}"
   ]
  },
  {
   "cell_type": "markdown",
   "metadata": {},
   "source": [
    "# FDR and power of LASSO, LASSO + knockoffs and ridge"
   ]
  },
  {
   "cell_type": "code",
   "execution_count": 4,
   "metadata": {
    "vscode": {
     "languageId": "r"
    }
   },
   "outputs": [
    {
     "data": {
      "text/html": [
       "<style>\n",
       ".dl-inline {width: auto; margin:0; padding: 0}\n",
       ".dl-inline>dt, .dl-inline>dd {float: none; width: auto; display: inline-block}\n",
       ".dl-inline>dt::after {content: \":\\0020\"; padding-right: .5ex}\n",
       ".dl-inline>dt:not(:first-of-type) {padding-left: .5ex}\n",
       "</style><dl class=dl-inline><dt>power</dt><dd>0.32</dd><dt>fdp</dt><dd>0.168286013006601</dd></dl>\n"
      ],
      "text/latex": [
       "\\begin{description*}\n",
       "\\item[power] 0.32\n",
       "\\item[fdp] 0.168286013006601\n",
       "\\end{description*}\n"
      ],
      "text/markdown": [
       "power\n",
       ":   0.32fdp\n",
       ":   0.168286013006601\n",
       "\n"
      ],
      "text/plain": [
       "   power      fdp \n",
       "0.320000 0.168286 "
      ]
     },
     "metadata": {},
     "output_type": "display_data"
    },
    {
     "data": {
      "text/html": [
       "<style>\n",
       ".dl-inline {width: auto; margin:0; padding: 0}\n",
       ".dl-inline>dt, .dl-inline>dd {float: none; width: auto; display: inline-block}\n",
       ".dl-inline>dt::after {content: \":\\0020\"; padding-right: .5ex}\n",
       ".dl-inline>dt:not(:first-of-type) {padding-left: .5ex}\n",
       "</style><dl class=dl-inline><dt>power</dt><dd>0.62</dd><dt>fdp</dt><dd>0.151255140020213</dd></dl>\n"
      ],
      "text/latex": [
       "\\begin{description*}\n",
       "\\item[power] 0.62\n",
       "\\item[fdp] 0.151255140020213\n",
       "\\end{description*}\n"
      ],
      "text/markdown": [
       "power\n",
       ":   0.62fdp\n",
       ":   0.151255140020213\n",
       "\n"
      ],
      "text/plain": [
       "    power       fdp \n",
       "0.6200000 0.1512551 "
      ]
     },
     "metadata": {},
     "output_type": "display_data"
    },
    {
     "data": {
      "text/html": [
       "<style>\n",
       ".dl-inline {width: auto; margin:0; padding: 0}\n",
       ".dl-inline>dt, .dl-inline>dd {float: none; width: auto; display: inline-block}\n",
       ".dl-inline>dt::after {content: \":\\0020\"; padding-right: .5ex}\n",
       ".dl-inline>dt:not(:first-of-type) {padding-left: .5ex}\n",
       "</style><dl class=dl-inline><dt>power</dt><dd>0.6382</dd><dt>fdp</dt><dd>0.161332635229386</dd></dl>\n"
      ],
      "text/latex": [
       "\\begin{description*}\n",
       "\\item[power] 0.6382\n",
       "\\item[fdp] 0.161332635229386\n",
       "\\end{description*}\n"
      ],
      "text/markdown": [
       "power\n",
       ":   0.6382fdp\n",
       ":   0.161332635229386\n",
       "\n"
      ],
      "text/plain": [
       "    power       fdp \n",
       "0.6382000 0.1613326 "
      ]
     },
     "metadata": {},
     "output_type": "display_data"
    }
   ],
   "source": [
    "stat_ridge <- function(X, X_k, y) {\n",
    "  stat.glmnet_coefdiff(X, X_k, y,\n",
    "    alpha = 0,\n",
    "    intercept = FALSE,\n",
    "    standarize = FALSE\n",
    "  )\n",
    "}\n",
    "\n",
    "estimate.knockoffs(stat_ridge, k=5, iters=100)\n",
    "estimate.knockoffs(stat_ridge, k=20, iters=100)\n",
    "estimate.knockoffs(stat_ridge, k=50, iters=100)"
   ]
  },
  {
   "cell_type": "code",
   "execution_count": 5,
   "metadata": {
    "vscode": {
     "languageId": "r"
    }
   },
   "outputs": [],
   "source": [
    "stat_lasso1 <- function(X, X_k, y) {\n",
    "  stat.glmnet_coefdiff(X, X_k, y,\n",
    "    alpha = 1,\n",
    "    intercept = FALSE,\n",
    "    standarize = FALSE\n",
    "  )\n",
    "}\n",
    "\n",
    "estimate.knockoffs(stat_lasso1, k=5, iters=100)\n",
    "estimate.knockoffs(stat_lasso1, k=20, iters=100)\n",
    "estimate.knockoffs(stat_lasso1, k=50, iters=100)"
   ]
  },
  {
   "cell_type": "code",
   "execution_count": null,
   "metadata": {
    "vscode": {
     "languageId": "r"
    }
   },
   "outputs": [],
   "source": [
    "estimate.net = function(k, n = 500, p = 450, iters=100, alpha=1) {\n",
    "\tdata = generate.data(n = n, p = p, k = k)\n",
    "\tX = data$X\n",
    "\tβ = data$β\n",
    "\n",
    "\titer = function() {\n",
    "\t\ty = X %*% β + 2*rnorm(n, 0, 1)\n",
    "\t\tB = coef(cv.glmnet(X, y, alpha=alpha, intercept=F, standarize=F))[-1,]\n",
    "\t\tcoefs = which(B != 0)\n",
    "\t\tncoefs = length(coefs)\n",
    "\n",
    "\t\treturn(c(\n",
    "\t\t\tE1  = sum((B - β)**2),\n",
    "\t\t\tE2  = sum((X %*% (B - β))**2),\n",
    "\t\t\tpower = sum(coefs <= k) / k,\n",
    "\t\t\tfdp = sum(coefs > k) / (ncoefs + (ncoefs == 0))\n",
    "\t\t))\n",
    "\t}\n",
    "\tsuppressWarnings(rowMeans(replicate(iters, iter())))\n",
    "}"
   ]
  },
  {
   "cell_type": "code",
   "execution_count": null,
   "metadata": {
    "vscode": {
     "languageId": "r"
    }
   },
   "outputs": [
    {
     "data": {
      "text/html": [
       "<style>\n",
       ".dl-inline {width: auto; margin:0; padding: 0}\n",
       ".dl-inline>dt, .dl-inline>dd {float: none; width: auto; display: inline-block}\n",
       ".dl-inline>dt::after {content: \":\\0020\"; padding-right: .5ex}\n",
       ".dl-inline>dt:not(:first-of-type) {padding-left: .5ex}\n",
       "</style><dl class=dl-inline><dt>E1</dt><dd>495.992212766367</dd><dt>E2</dt><dd>471.646748678332</dd><dt>power</dt><dd>1</dd><dt>fdp</dt><dd>0.988888888888889</dd></dl>\n"
      ],
      "text/latex": [
       "\\begin{description*}\n",
       "\\item[E1] 495.992212766367\n",
       "\\item[E2] 471.646748678332\n",
       "\\item[power] 1\n",
       "\\item[fdp] 0.988888888888889\n",
       "\\end{description*}\n"
      ],
      "text/markdown": [
       "E1\n",
       ":   495.992212766367E2\n",
       ":   471.646748678332power\n",
       ":   1fdp\n",
       ":   0.988888888888889\n",
       "\n"
      ],
      "text/plain": [
       "         E1          E2       power         fdp \n",
       "495.9922128 471.6467487   1.0000000   0.9888889 "
      ]
     },
     "metadata": {},
     "output_type": "display_data"
    }
   ],
   "source": [
    "# ridge\n",
    "estimate.net(alpha=0, k=5, iters=100)\n",
    "estimate.net(alpha=0, k=20, iters=100)\n",
    "estimate.net(alpha=0, k=50, iters=100)"
   ]
  },
  {
   "cell_type": "code",
   "execution_count": null,
   "metadata": {
    "vscode": {
     "languageId": "r"
    }
   },
   "outputs": [],
   "source": [
    "# lasso\n",
    "estimate.net(alpha=1, k=5, iters=100)\n",
    "estimate.net(alpha=1, k=20, iters=100)\n",
    "estimate.net(alpha=1, k=50, iters=100)"
   ]
  },
  {
   "cell_type": "code",
   "execution_count": null,
   "metadata": {
    "vscode": {
     "languageId": "r"
    }
   },
   "outputs": [],
   "source": [
    "estimate.ols = function(k, n = 500, p = 450, iters=100) {\n",
    "\tdata = generate.data(n = n, p = p, k = k)\n",
    "\tX = data$X\n",
    "\tβ = data$β\n",
    "\n",
    "\titer = function() {\n",
    "\t\ty = X %*% β + 2*rnorm(n, 0, 1)\n",
    "\t\tB = coef(glmnet(X, y, alpha=0, lambda=0, intercept=F, standarize=F))[-1,]\n",
    "\n",
    "\t\treturn(c(\n",
    "\t\t\tE1  = sum((B - β)**2),\n",
    "\t\t\tE2  = sum((X %*% (B - β))**2)\n",
    "\t\t))\n",
    "\t}\n",
    "\tsuppressWarnings(rowMeans(replicate(iters, iter())))\n",
    "}"
   ]
  },
  {
   "cell_type": "code",
   "execution_count": null,
   "metadata": {
    "vscode": {
     "languageId": "r"
    }
   },
   "outputs": [
    {
     "data": {
      "text/html": [
       "<style>\n",
       ".dl-inline {width: auto; margin:0; padding: 0}\n",
       ".dl-inline>dt, .dl-inline>dd {float: none; width: auto; display: inline-block}\n",
       ".dl-inline>dt::after {content: \":\\0020\"; padding-right: .5ex}\n",
       ".dl-inline>dt:not(:first-of-type) {padding-left: .5ex}\n",
       "</style><dl class=dl-inline><dt>E1</dt><dd>17384.7395157522</dd><dt>E2</dt><dd>1797.80830803288</dd></dl>\n"
      ],
      "text/latex": [
       "\\begin{description*}\n",
       "\\item[E1] 17384.7395157522\n",
       "\\item[E2] 1797.80830803288\n",
       "\\end{description*}\n"
      ],
      "text/markdown": [
       "E1\n",
       ":   17384.7395157522E2\n",
       ":   1797.80830803288\n",
       "\n"
      ],
      "text/plain": [
       "       E1        E2 \n",
       "17384.740  1797.808 "
      ]
     },
     "metadata": {},
     "output_type": "display_data"
    },
    {
     "data": {
      "text/html": [
       "<style>\n",
       ".dl-inline {width: auto; margin:0; padding: 0}\n",
       ".dl-inline>dt, .dl-inline>dd {float: none; width: auto; display: inline-block}\n",
       ".dl-inline>dt::after {content: \":\\0020\"; padding-right: .5ex}\n",
       ".dl-inline>dt:not(:first-of-type) {padding-left: .5ex}\n",
       "</style><dl class=dl-inline><dt>E1</dt><dd>15476.9613826374</dd><dt>E2</dt><dd>1792.30888847647</dd></dl>\n"
      ],
      "text/latex": [
       "\\begin{description*}\n",
       "\\item[E1] 15476.9613826374\n",
       "\\item[E2] 1792.30888847647\n",
       "\\end{description*}\n"
      ],
      "text/markdown": [
       "E1\n",
       ":   15476.9613826374E2\n",
       ":   1792.30888847647\n",
       "\n"
      ],
      "text/plain": [
       "       E1        E2 \n",
       "15476.961  1792.309 "
      ]
     },
     "metadata": {},
     "output_type": "display_data"
    },
    {
     "data": {
      "text/html": [
       "<style>\n",
       ".dl-inline {width: auto; margin:0; padding: 0}\n",
       ".dl-inline>dt, .dl-inline>dd {float: none; width: auto; display: inline-block}\n",
       ".dl-inline>dt::after {content: \":\\0020\"; padding-right: .5ex}\n",
       ".dl-inline>dt:not(:first-of-type) {padding-left: .5ex}\n",
       "</style><dl class=dl-inline><dt>E1</dt><dd>15581.0344382991</dd><dt>E2</dt><dd>1782.02347733523</dd></dl>\n"
      ],
      "text/latex": [
       "\\begin{description*}\n",
       "\\item[E1] 15581.0344382991\n",
       "\\item[E2] 1782.02347733523\n",
       "\\end{description*}\n"
      ],
      "text/markdown": [
       "E1\n",
       ":   15581.0344382991E2\n",
       ":   1782.02347733523\n",
       "\n"
      ],
      "text/plain": [
       "       E1        E2 \n",
       "15581.034  1782.023 "
      ]
     },
     "metadata": {},
     "output_type": "display_data"
    }
   ],
   "source": [
    "estimate.ols(k=5, iters=100)\n",
    "estimate.ols(k=20, iters=100)\n",
    "estimate.ols(k=50, iters=100)"
   ]
  },
  {
   "cell_type": "code",
   "execution_count": null,
   "metadata": {
    "vscode": {
     "languageId": "r"
    }
   },
   "outputs": [],
   "source": []
  }
 ],
 "metadata": {
  "kernelspec": {
   "display_name": "R",
   "language": "R",
   "name": "ir"
  },
  "language_info": {
   "codemirror_mode": "r",
   "file_extension": ".r",
   "mimetype": "text/x-r-source",
   "name": "R",
   "pygments_lexer": "r",
   "version": "4.3.3"
  }
 },
 "nbformat": 4,
 "nbformat_minor": 2
}
