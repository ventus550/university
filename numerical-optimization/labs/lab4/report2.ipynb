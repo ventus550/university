{
 "cells": [
  {
   "cell_type": "code",
   "execution_count": 1,
   "metadata": {},
   "outputs": [],
   "source": [
    "import numpy as np\n",
    "import cvxpy as cp\n",
    "np.set_printoptions(precision=2, suppress=True)"
   ]
  },
  {
   "cell_type": "markdown",
   "metadata": {},
   "source": [
    "## Linear program formulation\n",
    "$ \\max{\\sum_t{1(wood_t - swood_{t+1}) + 2(stone_t - sstone_{t+1}) + 3(iron_t - siron_{t+1}) + 5(tools_t + tools_{t+1}) + 10score\\_housing_t}} $\n",
    "\n",
    "\n",
    "**Constraints**\n",
    "\n",
    "<u> The resource amount we are left with at each turn must be valid </u>\n",
    "$\\\\ stockpiles, production \\ge 0$\n",
    "$ \\\\ wood_t = pwood_t + swood_t - wood\\_cost_t \\ge 0$\n",
    "$ \\\\ stone_t = pstone_t + sstone_t - stone\\_cost_t \\ge 0$\n",
    "$ \\\\ iron_t = piron_t + siron_t - iron\\_cost_t \\ge 0$\n",
    "$ \\\\ tools_t = ptools_t + stools_t - tools\\_cost_t \\ge 0$\n",
    "\n",
    "<u> Stockpile capacity </u>\n",
    "$ \\\\ swood_t + sstone_t + siron_t + stools_t \\le 30 $\n",
    "\n",
    "<u> Initial stockpile </u>\n",
    "$ \\\\ swood_1, sstone_1, siron_1, stools_1 = 5 $\n",
    "\n",
    "<u> The future stockpile can stock only up to the amount of the currently available resource </u>\n",
    "$ \\\\ swood_{t+1} \\le wood_t $\n",
    "$ \\\\ sstone_{t+1} \\le stone_t $\n",
    "$ \\\\ siron_{t+1} \\le iron_t $\n",
    "$ \\\\ stools_{t+1} \\le tools_t $\n",
    "\n",
    "<u> Mining constraint </u>\n",
    "$ \\\\ stone_1 \\le 5 $\n",
    "$ \\\\ stone_{t+1} \\le 5 + 5 \\cdot mining_t $\n",
    "\n",
    "<u> Labour constraint </u>\n",
    "$ \\\\ labour\\_cost_1 \\le 50 $\n",
    "$ \\\\ labour\\_cost_{t+1} \\le 50 + 10 \\cdot labour\\_housing_t $\n",
    "\n",
    "**Variables**\n",
    "\n",
    "$\n",
    "stockpiles = \\begin{bmatrix} swood \\space sstone \\space siron \\space stools \\end{bmatrix}^T\n",
    "$\n",
    "\n",
    "$\n",
    "production = \\begin{bmatrix} pwood \\space pstone \\space piron \\space ptools \\space mining \\space labour\\_housing \\space score\\_housing \\end{bmatrix}^T\n",
    "$"
   ]
  },
  {
   "cell_type": "code",
   "execution_count": 2,
   "metadata": {},
   "outputs": [],
   "source": [
    "stockpile = cp.Variable((4, 5), nonneg=True)\n",
    "production = cp.Variable((6, 5), nonneg=True)\n",
    "points = cp.Variable((5, 5), nonneg=True)"
   ]
  },
  {
   "cell_type": "code",
   "execution_count": 3,
   "metadata": {},
   "outputs": [],
   "source": [
    "costs = np.array([\n",
    "\t[0, 0, 0, 0.1, 1], # wood\n",
    "\t[0, 0, 0, 0.1, 3], # stone\n",
    "\t[0, 0, 0, 0.1, 2], # iron\n",
    "\t[1, 0, 1, 0.1, 1], # tools\n",
    "\t[2, 3, 0, 0.2, 2], # housing\n",
    "\t[0, 0, 0, 0.2, 1], # mining\n",
    "])\n",
    "\n",
    "scores = np.array([1, 2, 3, 5, 10])"
   ]
  },
  {
   "cell_type": "code",
   "execution_count": 4,
   "metadata": {},
   "outputs": [],
   "source": [
    "resource_cost = (costs.T @ production)[:4]\n",
    "labour_cost = (costs.T @ production)[4]"
   ]
  },
  {
   "cell_type": "code",
   "execution_count": 5,
   "metadata": {},
   "outputs": [],
   "source": [
    "resource_production = production[:4]\n",
    "housing, mining = production[4:]\n",
    "iron_production = production[2]\n",
    "resource_points = points[:4]\n",
    "housing_points = points[4]"
   ]
  },
  {
   "cell_type": "code",
   "execution_count": 6,
   "metadata": {},
   "outputs": [],
   "source": [
    "constraints = [\n",
    "    # Sell only resource in possession\n",
    "    points <= production[:5],\n",
    "\n",
    "    # Use only the stockpiled resource\n",
    "    resource_cost <= stockpile,\n",
    "\n",
    "    # Stockpile capacity\n",
    "    stockpile.sum(axis=0) <= 30,\n",
    "    \n",
    "    # Initialize stockpile\n",
    "    stockpile.T[0] == 5,\n",
    "    \n",
    "    # The future stockpile can stock only up to the amount of the currently available resource\n",
    "    stockpile.T[1:] == resource_production.T[:4] - points[:4].T[:4],\n",
    "\n",
    "    # Labour constraints\n",
    "    labour_cost[0] <= 50,\n",
    "\tlabour_cost[1:] <= 50 + 10*(housing - housing_points)[:4].cumsum(),\n",
    "\n",
    "    # Mining constraints\n",
    "    iron_production[0] <= 5,\n",
    "    iron_production[1:] <= 5 + mining[:4].cumsum()\n",
    "]\n"
   ]
  },
  {
   "cell_type": "code",
   "execution_count": 7,
   "metadata": {},
   "outputs": [
    {
     "name": "stderr",
     "output_type": "stream",
     "text": [
      "/home/ventus/.local/lib/python3.11/site-packages/cvxpy/reductions/solvers/solving_chain.py:336: FutureWarning: \n",
      "    Your problem is being solved with the ECOS solver by default. Starting in \n",
      "    CVXPY 1.5.0, Clarabel will be used as the default solver instead. To continue \n",
      "    using ECOS, specify the ECOS solver explicitly using the ``solver=cp.ECOS`` \n",
      "    argument to the ``problem.solve`` method.\n",
      "    \n",
      "  warnings.warn(ECOS_DEPRECATION_MSG, FutureWarning)\n"
     ]
    },
    {
     "data": {
      "text/plain": [
       "310.47794115863434"
      ]
     },
     "execution_count": 7,
     "metadata": {},
     "output_type": "execute_result"
    }
   ],
   "source": [
    "cp.Problem(cp.Maximize((scores @ points).sum()), constraints).solve()"
   ]
  },
  {
   "cell_type": "code",
   "execution_count": null,
   "metadata": {},
   "outputs": [],
   "source": []
  }
 ],
 "metadata": {
  "kernelspec": {
   "display_name": "Python 3",
   "language": "python",
   "name": "python3"
  },
  "language_info": {
   "codemirror_mode": {
    "name": "ipython",
    "version": 3
   },
   "file_extension": ".py",
   "mimetype": "text/x-python",
   "name": "python",
   "nbconvert_exporter": "python",
   "pygments_lexer": "ipython3",
   "version": "3.11.8"
  }
 },
 "nbformat": 4,
 "nbformat_minor": 2
}
