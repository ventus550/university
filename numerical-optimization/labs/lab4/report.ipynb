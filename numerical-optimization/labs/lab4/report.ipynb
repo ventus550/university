{
 "cells": [
  {
   "cell_type": "code",
   "execution_count": 22,
   "metadata": {},
   "outputs": [],
   "source": [
    "import numpy as np\n",
    "import cvxpy as cp\n",
    "np.set_printoptions(precision=2, suppress=True)"
   ]
  },
  {
   "cell_type": "markdown",
   "metadata": {},
   "source": [
    "# Problem 1"
   ]
  },
  {
   "cell_type": "markdown",
   "metadata": {},
   "source": [
    "## Linear program formulation\n",
    "$\\max\\{1\\cdot wood + 2\\cdot stone + 3\\cdot iron + 5\\cdot tools + 10\\cdot housing\\} \\\\$\n",
    "\n",
    "**Constraints**\n",
    "$\\\\ wood = 10 - 1\\cdot tools - 2\\cdot housing$\n",
    "$\\\\ stone = 10 - 3\\cdot housing$\n",
    "$\\\\ iron = 10 - 1\\cdot tools$\n",
    "$\\\\ wood, stone, iron, tools, housing \\ge 0$\n",
    "\n",
    "**Variables**\n",
    "$\\\\ tools, housing $"
   ]
  },
  {
   "cell_type": "code",
   "execution_count": 23,
   "metadata": {},
   "outputs": [],
   "source": [
    "tools, housing = cp.Variable(2, nonneg=True)\n",
    "\n",
    "constraints = [\n",
    "\t(wood := 10 - tools - 2*housing) >= 0,\n",
    "\t(stone := 10 - 3 * housing) >= 0,\n",
    "\t(iron := 10 - tools) >= 0,\n",
    "]\n",
    "\n",
    "objective = cp.Maximize(1*wood + 2*stone + 3*iron + 5*tools + 10*housing)\n",
    "problem = cp.Problem(objective, constraints)"
   ]
  },
  {
   "cell_type": "code",
   "execution_count": 24,
   "metadata": {},
   "outputs": [
    {
     "data": {
      "text/plain": [
       "69.99999999843806"
      ]
     },
     "execution_count": 24,
     "metadata": {},
     "output_type": "execute_result"
    }
   ],
   "source": [
    "problem.solve()"
   ]
  },
  {
   "cell_type": "markdown",
   "metadata": {},
   "source": [
    "# Problem 2"
   ]
  },
  {
   "cell_type": "markdown",
   "metadata": {},
   "source": [
    "## Linear program formulation\n",
    "$\\max\\{1\\cdot wood + 2\\cdot stone + 3\\cdot iron + 5\\cdot tools + 10\\cdot housing\\} \\\\$\n",
    "\n",
    "**Constraints**\n",
    "$\\\\ labour = 100 - wood - 3\\cdot stone - 2\\cdot iron - 1\\cdot tools - 2\\cdot housing$\n",
    "$\\\\ iron \\le 10$\n",
    "$\\\\ labour \\ge 0$\n",
    "\n",
    "**Variables**\n",
    "$\\\\ wood, stone, iron, tools, housing \\ge 0$"
   ]
  },
  {
   "cell_type": "code",
   "execution_count": 25,
   "metadata": {},
   "outputs": [],
   "source": [
    "wood, stone, iron, tools, housing = cp.Variable(5, nonneg=True)\n",
    "\n",
    "constraints = [\n",
    "\t(labour := 100 - wood - 3*stone - 2*iron - 1*tools - 2*housing) >= 0,\n",
    "\n",
    "\t(w := wood - tools - 2*housing) >= 0,\n",
    "\t(s := stone - 3 * housing) >= 0,\n",
    "\t(i := iron - tools) >= 0,\n",
    "\n",
    "\tiron <= 10 - tools,\n",
    "]\n",
    "\n",
    "objective = cp.Maximize(1*w + 2*s + 3*i + 5*tools + 10*housing)\n",
    "problem = cp.Problem(objective, constraints)"
   ]
  },
  {
   "cell_type": "code",
   "execution_count": 26,
   "metadata": {},
   "outputs": [
    {
     "data": {
      "text/plain": [
       "109.99999971369901"
      ]
     },
     "execution_count": 26,
     "metadata": {},
     "output_type": "execute_result"
    }
   ],
   "source": [
    "problem.solve()"
   ]
  },
  {
   "cell_type": "code",
   "execution_count": 27,
   "metadata": {},
   "outputs": [
    {
     "data": {
      "text/plain": [
       "1.201263719702975e-07"
      ]
     },
     "execution_count": 27,
     "metadata": {},
     "output_type": "execute_result"
    }
   ],
   "source": [
    "labour.value"
   ]
  },
  {
   "cell_type": "markdown",
   "metadata": {},
   "source": [
    "# Problem 3"
   ]
  },
  {
   "cell_type": "markdown",
   "metadata": {},
   "source": [
    "## Linear program formulation\n",
    "$ \\max{\\sum_t{1(wood_t - swood_{t+1}) + 2(stone_t - sstone_{t+1}) + 3(iron_t - siron_{t+1}) + 5(tools_t + tools_{t+1}) + 10score\\_housing_t}} $\n",
    "\n",
    "\n",
    "**Constraints**\n",
    "\n",
    "<u> The resource amount we are left with at each turn must be valid </u>\n",
    "$\\\\ stockpiles, production \\ge 0$\n",
    "$ \\\\ wood_t = pwood_t + swood_t - wood\\_cost_t \\ge 0$\n",
    "$ \\\\ stone_t = pstone_t + sstone_t - stone\\_cost_t \\ge 0$\n",
    "$ \\\\ iron_t = piron_t + siron_t - iron\\_cost_t \\ge 0$\n",
    "$ \\\\ tools_t = ptools_t + stools_t - tools\\_cost_t \\ge 0$\n",
    "\n",
    "<u> Stockpile capacity </u>\n",
    "$ \\\\ swood_t + sstone_t + siron_t + stools_t \\le 30 $\n",
    "\n",
    "<u> Initial stockpile </u>\n",
    "$ \\\\ swood_1, sstone_1, siron_1, stools_1 = 5 $\n",
    "\n",
    "<u> The future stockpile can stock only up to the amount of the currently available resource </u>\n",
    "$ \\\\ swood_{t+1} \\le wood_t $\n",
    "$ \\\\ sstone_{t+1} \\le stone_t $\n",
    "$ \\\\ siron_{t+1} \\le iron_t $\n",
    "$ \\\\ stools_{t+1} \\le tools_t $\n",
    "\n",
    "<u> Mining constraint </u>\n",
    "$ \\\\ stone_1 \\le 5 $\n",
    "$ \\\\ stone_{t+1} \\le 5 + 5 \\cdot mining_t $\n",
    "\n",
    "<u> Labour constraint </u>\n",
    "$ \\\\ labour\\_cost_1 \\le 50 $\n",
    "$ \\\\ labour\\_cost_{t+1} \\le 50 + 10 \\cdot labour\\_housing_t $\n",
    "\n",
    "**Variables**\n",
    "\n",
    "$\n",
    "stockpiles = \\begin{bmatrix} swood \\space sstone \\space siron \\space stools \\end{bmatrix}^T\n",
    "$\n",
    "\n",
    "$\n",
    "production = \\begin{bmatrix} pwood \\space pstone \\space piron \\space ptools \\space mining \\space labour\\_housing \\space score\\_housing \\end{bmatrix}^T\n",
    "$"
   ]
  },
  {
   "cell_type": "code",
   "execution_count": 28,
   "metadata": {},
   "outputs": [],
   "source": [
    "stockpiles = cp.Variable((4, 5), nonneg=True)\n",
    "production = cp.Variable((7, 5), nonneg=True)"
   ]
  },
  {
   "cell_type": "code",
   "execution_count": 29,
   "metadata": {},
   "outputs": [],
   "source": [
    "costs = np.array([\n",
    "\t[0, 0, 0, 0.1, 1], # wood\n",
    "\t[0, 0, 0, 0.1, 3], # stone\n",
    "\t[0, 0, 0, 0.1, 2], # iron\n",
    "\t[1, 0, 1, 0.1, 1], # tools\n",
    "\t[0, 0, 0, 0.2, 1], # mining\n",
    "\t[2, 3, 0, 0.2, 2], # labor_housing\n",
    "\t[2, 3, 0, 0.2, 2], # score_housing\n",
    "])\n",
    "\n",
    "scores = np.array([1, 2, 3, 5, 10])"
   ]
  },
  {
   "cell_type": "code",
   "execution_count": 30,
   "metadata": {},
   "outputs": [],
   "source": [
    "resource_cost = (costs.T @ production)[:4]\n",
    "labour_cost = (costs.T @ production)[4]"
   ]
  },
  {
   "cell_type": "code",
   "execution_count": 31,
   "metadata": {},
   "outputs": [],
   "source": [
    "resource_production = production[:4]\n",
    "mining, labour_housing, score_housing = production[4:]\n",
    "iron_production = production[2]"
   ]
  },
  {
   "cell_type": "code",
   "execution_count": 32,
   "metadata": {},
   "outputs": [
    {
     "data": {
      "text/plain": [
       "(4, 5)"
      ]
     },
     "execution_count": 32,
     "metadata": {},
     "output_type": "execute_result"
    }
   ],
   "source": [
    "resource_cost.shape"
   ]
  },
  {
   "cell_type": "code",
   "execution_count": 53,
   "metadata": {},
   "outputs": [],
   "source": [
    "# wood = pwood + swood - cwood\n",
    "# stone = pstone + sstone - cstone\n",
    "# iron = piron + siron - ciron\n",
    "# tools = ptools + stools - ctools\n",
    "resources = resource_production.T - resource_cost\n",
    "# resources = resource_production + stockpiles - resource_cost"
   ]
  },
  {
   "cell_type": "code",
   "execution_count": 54,
   "metadata": {},
   "outputs": [],
   "source": [
    "constraints = [\n",
    "\t# The resource amount we are left with at each turn must be valid\n",
    "\tresources >= 0,\n",
    "\n",
    "\t# ???\n",
    "\tresource_cost <= stockpiles,\n",
    "\n",
    "\t# Stockpile capacity\n",
    "\tstockpiles.sum(axis=0) <= 30,\n",
    "\n",
    "\t# Initialize stockpile\n",
    "\tstockpiles.T[0] == 5,\n",
    "\n",
    "\t# The future stockpile can stock only up to the amount of the currently available resource\n",
    "\tstockpiles.T[1:] <= resources.T[:4],\n",
    "\n",
    "\t# Mining constraint\n",
    "\tiron_production[0] <= 5,\n",
    "\tiron_production[1:] <= 5 + mining[:4].cumsum(),\n",
    "\n",
    "\t# Labour constraint\n",
    "\tlabour_cost[0] <= 50,\n",
    "\tlabour_cost[1:] <= 50 + 10*labour_housing[:4].cumsum(),\n",
    "]"
   ]
  },
  {
   "cell_type": "code",
   "execution_count": 55,
   "metadata": {},
   "outputs": [],
   "source": [
    "# score_resources = resources.T[-1] + (resources.T[:-1] - stockpiles.T[1:]).sum(axis=0)\n",
    "# problem = cp.Problem(cp.Maximize(score_resources @ scores[:4] + score_housing.sum() * scores[4]), constraints)"
   ]
  },
  {
   "cell_type": "code",
   "execution_count": 56,
   "metadata": {},
   "outputs": [],
   "source": [
    "rwood, rstone, riron, rtools = resources\n",
    "swood, sstone, siron, stools = stockpiles\n",
    "\n",
    "resource_add_score = 1 * rwood.sum() + 2 * rstone.sum() + 3 * riron.sum() + 5 * rtools.sum()\n",
    "resource_sub_score = 1 * swood.sum() + 2 * sstone.sum() + 3 * siron.sum() + 5 * stools.sum()\n",
    "housing_score = 10 * score_housing.sum()\n",
    "\n",
    "problem = cp.Problem(cp.Maximize(resource_add_score - resource_sub_score + housing_score), constraints)"
   ]
  },
  {
   "cell_type": "code",
   "execution_count": 57,
   "metadata": {},
   "outputs": [
    {
     "data": {
      "text/plain": [
       "270.1980344798834"
      ]
     },
     "execution_count": 57,
     "metadata": {},
     "output_type": "execute_result"
    }
   ],
   "source": [
    "problem.solve()"
   ]
  },
  {
   "cell_type": "code",
   "execution_count": 47,
   "metadata": {},
   "outputs": [
    {
     "data": {
      "text/plain": [
       "array([52.61, 74.74, 74.74, 74.74])"
      ]
     },
     "execution_count": 47,
     "metadata": {},
     "output_type": "execute_result"
    }
   ],
   "source": [
    "50 + 10*labour_housing[:4].cumsum().value"
   ]
  },
  {
   "cell_type": "code",
   "execution_count": 39,
   "metadata": {},
   "outputs": [
    {
     "data": {
      "text/plain": [
       "array([50.  , 52.61, 74.74, 74.74, 74.74])"
      ]
     },
     "execution_count": 39,
     "metadata": {},
     "output_type": "execute_result"
    }
   ],
   "source": [
    "labour_cost.value"
   ]
  },
  {
   "cell_type": "code",
   "execution_count": 40,
   "metadata": {},
   "outputs": [
    {
     "data": {
      "text/plain": [
       "array([ 5.  , 16.66, 25.49, 35.53, 35.53])"
      ]
     },
     "execution_count": 40,
     "metadata": {},
     "output_type": "execute_result"
    }
   ],
   "source": [
    "iron_production.value"
   ]
  },
  {
   "cell_type": "code",
   "execution_count": 41,
   "metadata": {},
   "outputs": [],
   "source": [
    "def show(model, t=1):\n",
    "\tprint(stockpiles.T[t].value)\n",
    "\tprint(resources.T[t].value)\n",
    "\tprint(resource_production.T[t].value)"
   ]
  },
  {
   "cell_type": "code",
   "execution_count": 42,
   "metadata": {},
   "outputs": [
    {
     "name": "stdout",
     "output_type": "stream",
     "text": [
      "[13.36  6.64  5.52  4.48]\n",
      "[ 3.92  0.   16.66  5.52]\n",
      "[ 0.51  0.   16.66  5.52]\n"
     ]
    }
   ],
   "source": [
    "show(problem)"
   ]
  },
  {
   "cell_type": "code",
   "execution_count": null,
   "metadata": {},
   "outputs": [],
   "source": []
  }
 ],
 "metadata": {
  "kernelspec": {
   "display_name": "Python 3 (ipykernel)",
   "language": "python",
   "name": "python3"
  },
  "language_info": {
   "codemirror_mode": {
    "name": "ipython",
    "version": 3
   },
   "file_extension": ".py",
   "mimetype": "text/x-python",
   "name": "python",
   "nbconvert_exporter": "python",
   "pygments_lexer": "ipython3",
   "version": "3.11.8"
  }
 },
 "nbformat": 4,
 "nbformat_minor": 2
}
