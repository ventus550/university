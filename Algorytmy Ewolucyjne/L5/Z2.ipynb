{
  "cells": [
    {
      "cell_type": "code",
      "execution_count": 1,
      "metadata": {
        "id": "a0NzbYgoH7VJ"
      },
      "outputs": [],
      "source": [
        "import numpy as np\n",
        "from scipy.stats import entropy\n",
        "from itertools import product\n",
        "import pandas as pd\n",
        "import utils\n",
        "from collections import namedtuple\n",
        "import matplotlib.pyplot as plt\n",
        "from IPython.display import display, clear_output\n",
        "np.set_printoptions(precision=1)"
      ]
    },
    {
      "cell_type": "code",
      "execution_count": 2,
      "metadata": {},
      "outputs": [],
      "source": [
        "from utils import counting\n",
        "\n",
        "@counting\n",
        "def onemax(x):\n",
        "\treturn -sum(x)\n",
        "\n",
        "@counting\n",
        "def deceptive_onemax(x):\n",
        "\treturn -( (sum(x) - 1) % (len(x) + 1) )\n",
        "\n",
        "@counting\n",
        "def kdeceptive_onemax(x, k = 4):\n",
        "\tdec = deceptive_onemax()\n",
        "\tdef rec(x):\n",
        "\t\tif len(x) >= k: return dec(x)\n",
        "\t\treturn rec(x[:len(x)//2]) + rec(x[len(x)//2:])\n",
        "\treturn rec(x)"
      ]
    },
    {
      "cell_type": "code",
      "execution_count": 3,
      "metadata": {},
      "outputs": [],
      "source": [
        "labels = (\"min\", \"max\", \"mean\", \"calls\")\n",
        "State = namedtuple(\"State\", labels)\n",
        "\n",
        "def train(algorithm, f, max_evaluations = np.inf, **kwargs):\n",
        "\tF = f()\n",
        "\tA = algorithm(F, **kwargs)\n",
        "\ttraining_data = []\n",
        "\tutils.progress_bar\n",
        "\twhile F.calls < max_evaluations:\n",
        "\t\ttraining_data.append(next(A))\n",
        "\treturn pd.DataFrame.from_records(training_data, columns = labels)"
      ]
    },
    {
      "cell_type": "markdown",
      "metadata": {},
      "source": [
        "## Mimic Implementation"
      ]
    },
    {
      "cell_type": "code",
      "execution_count": 4,
      "metadata": {
        "id": "YrNXOmbCIBuZ"
      },
      "outputs": [],
      "source": [
        "def marginal_probabilities(X):\n",
        "    return np.apply_along_axis(lambda x: np.bincount(np.int32(x), minlength=2), axis=1, arr=X.T) / len(X.T[0])"
      ]
    },
    {
      "cell_type": "code",
      "execution_count": 5,
      "metadata": {
        "id": "BQg3HiclID8B"
      },
      "outputs": [],
      "source": [
        "def relative_entropy(X):\n",
        "    n = len(X.T); re = np.zeros((n, n))\n",
        "    p = marginal_probabilities(X)\n",
        "    for i,j in product(range(n), range(n)):\n",
        "        re[i, j] = entropy(p[i], p[j])\n",
        "    return re"
      ]
    },
    {
      "cell_type": "code",
      "execution_count": 6,
      "metadata": {
        "id": "3xGlQFXoJaF0"
      },
      "outputs": [],
      "source": [
        "def least_entropic(X):\n",
        "    return np.argmin(np.apply_along_axis(entropy, axis=1, arr=marginal_probabilities(X)))"
      ]
    },
    {
      "cell_type": "code",
      "execution_count": 7,
      "metadata": {
        "id": "JeY1g-ANJaWf"
      },
      "outputs": [],
      "source": [
        "def conditional_probabilities(X):\n",
        "    X = X.T\n",
        "    n = len(X)\n",
        "    probs = np.zeros((n, n))\n",
        "    for i,j in product(range(n), range(n)):\n",
        "        # P(i|j) = P(i, j) / P(j)\n",
        "        Pij = np.bincount(X[i] * X[j], minlength=2)\n",
        "        Pj = np.bincount(X[j], minlength=2)\n",
        "        probs[i,j] = np.divide(Pij, Pj, where=Pj!=0)[1]\n",
        "    return probs"
      ]
    },
    {
      "cell_type": "code",
      "execution_count": 8,
      "metadata": {
        "id": "7t_x3fegJclW"
      },
      "outputs": [],
      "source": [
        "def sample(order, probs):\n",
        "    r = np.zeros_like(probs[0][0])\n",
        "\n",
        "    j = order[0]\n",
        "    test = 1\n",
        "    for i in order:\n",
        "        roll = np.random.random()\n",
        "        test = int(roll <= probs[test][i, j])\n",
        "        r[i] = test\n",
        "        j = i\n",
        "    return r"
      ]
    },
    {
      "cell_type": "code",
      "execution_count": 9,
      "metadata": {
        "id": "gEGJgBKIJ5GR"
      },
      "outputs": [],
      "source": [
        "def sample_population(X, N):\n",
        "    re = relative_entropy(X)\n",
        "    root = least_entropic(X)\n",
        "    \n",
        "    order = [root]\n",
        "    for _ in range(len(X[0]) - 1):\n",
        "        s = np.argsort(re[:, order[-1]])\n",
        "        i = next(filter(lambda x: x not in order, s))\n",
        "        order.append(i)\n",
        "\n",
        "    p1 = conditional_probabilities(X)\n",
        "    p0 = 1 - conditional_probabilities(-X + 1)\n",
        "\n",
        "    np.fill_diagonal(p1, marginal_probabilities(X)[:, 1])\n",
        "\n",
        "    probs = [p0, p1]\n",
        "\n",
        "    population = np.zeros((N, len(X[0])), dtype=np.int64)\n",
        "    for i in range(N):\n",
        "        population[i] = sample(order, probs)\n",
        "    return population, order"
      ]
    },
    {
      "cell_type": "code",
      "execution_count": 10,
      "metadata": {
        "id": "urZ9eYiBMEWd"
      },
      "outputs": [],
      "source": [
        "def select(population, fitness, theta):\n",
        "    return population[fitness <= theta]"
      ]
    },
    {
      "cell_type": "code",
      "execution_count": 11,
      "metadata": {
        "id": "ogbNE78aJkKt"
      },
      "outputs": [],
      "source": [
        "labels = (\"best\", \"worst\", \"mean\", \"calls\")\n",
        "State = namedtuple(\"State\", labels)\n",
        "\n",
        "def MIMIC(F, N=100, P=50, n=5, verbose=False):\n",
        "    \"\"\"Minimize fitness function F\"\"\"\n",
        "    population = np.random.randint(0, 2, (N, n))\n",
        "    fitness = np.apply_along_axis(F, 1, population)\n",
        "    theta = np.percentile(fitness, 50)\n",
        "\n",
        "    while True:\n",
        "        selection = select(population, fitness, theta)\n",
        "        population, order = sample_population(selection, N)\n",
        "        fitness = np.apply_along_axis(F, 1, population)\n",
        "        theta = np.percentile(fitness, P)\n",
        "        yield State(np.min(fitness), np.max(fitness), np.average(fitness), F.calls)\n",
        "        if verbose: clear_output(wait=True); print(order)\n"
      ]
    },
    {
      "cell_type": "markdown",
      "metadata": {},
      "source": [
        "## Benchmarks"
      ]
    },
    {
      "cell_type": "code",
      "execution_count": 12,
      "metadata": {},
      "outputs": [],
      "source": [
        "def test(algorithm, f, max_evaluations = 10000, cases = 10, **kwargs):\n",
        "\tcalls = []\n",
        "\tmn = []\n",
        "\tmx = []\n",
        "\tmean = []\n",
        "\tfor i in range(cases):\n",
        "\t\tdata = train(algorithm, f, max_evaluations, **kwargs)\n",
        "\t\tcalls.append(data[\"calls\"].to_numpy())\n",
        "\t\tmn.append(-data[\"best\"].to_numpy())\n",
        "\t\tmx.append(-data[\"worst\"].to_numpy())\n",
        "\t\tmean.append(-data[\"mean\"].to_numpy())\n",
        "\treturn np.mean(calls, axis=0), np.mean(mn, axis=0), np.mean(mx, axis=0), np.mean(mean, axis=0)"
      ]
    },
    {
      "cell_type": "code",
      "execution_count": 17,
      "metadata": {},
      "outputs": [
        {
          "name": "stdout",
          "output_type": "stream",
          "text": [
            "[0, 1, 2, 3, 4, 5, 6, 7, 8, 9, 10, 11, 12, 13, 14, 15]\n"
          ]
        }
      ],
      "source": [
        "calls, b, w, m = test(MIMIC, kdeceptive_onemax, max_evaluations=20000, N = 1000, n = 16, verbose = True)"
      ]
    },
    {
      "cell_type": "code",
      "execution_count": 18,
      "metadata": {},
      "outputs": [
        {
          "data": {
            "image/png": "[encoded data removed]",
            "text/plain": [
              "<Figure size 640x480 with 1 Axes>"
            ]
          },
          "metadata": {},
          "output_type": "display_data"
        }
      ],
      "source": [
        "plt.plot(calls, b, \"r-\")\n",
        "plt.plot(calls, w, \"r-\")\n",
        "plt.plot(calls, m, \"r-\")\n",
        "plt.show()"
      ]
    },
    {
      "cell_type": "code",
      "execution_count": 20,
      "metadata": {},
      "outputs": [
        {
          "name": "stdout",
          "output_type": "stream",
          "text": [
            "[0, 29, 28, 27, 26, 25, 24, 23, 22, 21, 20, 19, 18, 17, 16, 15, 14, 13, 12, 11, 10, 9, 8, 7, 6, 5, 4, 3, 2, 1, 30, 31]\n"
          ]
        }
      ],
      "source": [
        "calls, b, w, m = test(MIMIC, kdeceptive_onemax, max_evaluations=80000, N = 1000, n = 32, verbose = True)"
      ]
    },
    {
      "cell_type": "code",
      "execution_count": 21,
      "metadata": {},
      "outputs": [
        {
          "name": "stdout",
          "output_type": "stream",
          "text": [
            "[0, 34, 35, 36, 37, 38, 39, 40, 41, 42, 43, 44, 45, 46, 33, 47, 49, 50, 51, 52, 53, 54, 55, 56, 57, 58, 59, 60, 61, 48, 32, 31, 30, 1, 2, 3, 4, 5, 6, 7, 8, 9, 10, 11, 12, 13, 14, 15, 16, 17, 18, 19, 20, 21, 22, 23, 24, 25, 26, 27, 28, 29, 62, 63]\n"
          ]
        }
      ],
      "source": [
        "calls, b, w, m = test(MIMIC, kdeceptive_onemax, max_evaluations=80000, N = 1000, n = 64, verbose = True)"
      ]
    },
    {
      "cell_type": "code",
      "execution_count": 24,
      "metadata": {},
      "outputs": [],
      "source": [
        "calls, b, w, m = test(MIMIC, kdeceptive_onemax, max_evaluations=10000, N = 500, n = 256)"
      ]
    },
    {
      "cell_type": "code",
      "execution_count": 25,
      "metadata": {},
      "outputs": [
        {
          "data": {
            "image/png": "[encoded data removed]",
            "text/plain": [
              "<Figure size 640x480 with 1 Axes>"
            ]
          },
          "metadata": {},
          "output_type": "display_data"
        }
      ],
      "source": [
        "plt.plot(calls, b, \"r-\")\n",
        "plt.plot(calls, w, \"r-\")\n",
        "plt.plot(calls, m, \"r-\")\n",
        "plt.show()"
      ]
    },
    {
      "cell_type": "code",
      "execution_count": null,
      "metadata": {},
      "outputs": [],
      "source": []
    }
  ],
  "metadata": {
    "colab": {
      "provenance": []
    },
    "kernelspec": {
      "display_name": "Python 3.10.8 64-bit",
      "language": "python",
      "name": "python3"
    },
    "language_info": {
      "codemirror_mode": {
        "name": "ipython",
        "version": 3
      },
      "file_extension": ".py",
      "mimetype": "text/x-python",
      "name": "python",
      "nbconvert_exporter": "python",
      "pygments_lexer": "ipython3",
      "version": "3.10.8"
    },
    "vscode": {
      "interpreter": {
        "hash": "e7370f93d1d0cde622a1f8e1c04877d8463912d04d973331ad4851f04de6915a"
      }
    }
  },
  "nbformat": 4,
  "nbformat_minor": 0
}
