{
 "cells": [
  {
   "cell_type": "markdown",
   "metadata": {},
   "source": [
    "UWAGI:\n",
    "Organizacja powinna być inna - najpierw advanced numpy, potem Internal Organization... potem memory [strides, changing shape, np data structures]"
   ]
  },
  {
   "cell_type": "code",
   "execution_count": 1,
   "metadata": {},
   "outputs": [],
   "source": [
    "import numpy as np"
   ]
  },
  {
   "cell_type": "markdown",
   "metadata": {},
   "source": [
    "# Advanced NumPy"
   ]
  },
  {
   "cell_type": "markdown",
   "metadata": {},
   "source": [
    "## broadcasting\n",
    "\n",
    "The term **broadcasting** describes how NumPy treats arrays with different shapes during arithmetic operations. Subject to certain constraints, the smaller array is “broadcast” across the larger array so that they have compatible shapes.\n",
    "\n",
    "NumPy operations are usually done on pairs of arrays on an element-by-element basis. In the simplest case, the two arrays must have exactly the same shape, as in the following example:"
   ]
  },
  {
   "cell_type": "code",
   "execution_count": 2,
   "metadata": {},
   "outputs": [
    {
     "data": {
      "text/plain": [
       "array([2., 4., 6.])"
      ]
     },
     "execution_count": 2,
     "metadata": {},
     "output_type": "execute_result"
    }
   ],
   "source": [
    "a = np.array([1.0, 2.0, 3.0])\n",
    "b = np.array([2.0, 2.0, 2.0])\n",
    "a * b"
   ]
  },
  {
   "cell_type": "markdown",
   "metadata": {},
   "source": [
    "NumPy’s broadcasting rule relaxes this constraint when the arrays’ shapes meet certain constraints. The simplest broadcasting example occurs when an array and a scalar value are combined in an operation:"
   ]
  },
  {
   "cell_type": "code",
   "execution_count": 3,
   "metadata": {},
   "outputs": [
    {
     "data": {
      "text/plain": [
       "array([2., 4., 6.])"
      ]
     },
     "execution_count": 3,
     "metadata": {},
     "output_type": "execute_result"
    }
   ],
   "source": [
    "a = np.array([1.0, 2.0, 3.0])\n",
    "b = 2.0\n",
    "a * b"
   ]
  },
  {
   "cell_type": "markdown",
   "metadata": {},
   "source": [
    "The result matches the previous example where `b` was an array. Conceptually, `b` is stretched to match `a`'s shape, with copies of the scalar. However, NumPy optimizes this without creating actual copies, ensuring efficient memory and computation.\n",
    "\n",
    "![Broadcasting](Images/broadcasting.png)"
   ]
  },
  {
   "cell_type": "markdown",
   "metadata": {},
   "source": [
    "### General broadcasting rules\n",
    "\n",
    "When operating on two arrays, NumPy compares their shapes element-wise. It starts with the trailing (i.e. rightmost) dimension and works its way left. Two dimensions are compatible when\n",
    "\n",
    "1. they are equal, or\n",
    "2. one of them is 1.\n",
    "\n",
    "Input arrays can have different dimensions. The result matches the array with the most dimensions, using the largest size per dimension, assuming missing dimensions are size one."
   ]
  },
  {
   "cell_type": "markdown",
   "metadata": {},
   "source": [
    "### Example 1\n",
    "\n",
    "Scaling RGB values for an image"
   ]
  },
  {
   "cell_type": "code",
   "execution_count": 4,
   "metadata": {},
   "outputs": [
    {
     "name": "stdout",
     "output_type": "stream",
     "text": [
      "Image shape: (256, 256, 3)\n",
      "Scale shape: (3,)\n",
      "Result shape: (256, 256, 3)\n",
      "\n"
     ]
    }
   ],
   "source": [
    "image = np.random.rand(256, 256, 3)  # 256x256 image with 3 color channels\n",
    "scale = np.array([0.5, 1.0, 1.5])  # Different scaling factors for each channel\n",
    "\n",
    "# Broadcasting operation\n",
    "scaled_image = image * scale\n",
    "\n",
    "print(\"Image shape:\", image.shape)\n",
    "print(\"Scale shape:\", scale.shape)\n",
    "print(\"Result shape:\", scaled_image.shape)\n",
    "print()"
   ]
  },
  {
   "cell_type": "markdown",
   "metadata": {},
   "source": [
    "### Example 2\n",
    "\n",
    "Broadcasting with different shaped arrays"
   ]
  },
  {
   "cell_type": "code",
   "execution_count": 5,
   "metadata": {},
   "outputs": [
    {
     "name": "stdout",
     "output_type": "stream",
     "text": [
      "A shape: (8, 1, 6, 1)\n",
      "B shape: (7, 1, 5)\n",
      "Result shape: (8, 7, 6, 5)\n"
     ]
    }
   ],
   "source": [
    "A = np.random.rand(8, 1, 6, 1)  # 4D array\n",
    "B = np.random.rand(   7, 1, 5)  # 3D array\n",
    "\n",
    "# Broadcasting operation\n",
    "result = A * B\n",
    "\n",
    "print(\"A shape:\", A.shape)\n",
    "print(\"B shape:\", B.shape)\n",
    "print(\"Result shape:\", result.shape)"
   ]
  },
  {
   "cell_type": "markdown",
   "metadata": {},
   "source": [
    "### Example 3\n",
    "\n",
    "Examples of Arrays that can`t be broadcast."
   ]
  },
  {
   "cell_type": "code",
   "execution_count": 6,
   "metadata": {},
   "outputs": [
    {
     "name": "stdout",
     "output_type": "stream",
     "text": [
      "operands could not be broadcast together with shapes (3,) (4,) \n"
     ]
    }
   ],
   "source": [
    "try:\n",
    "    A = np.random.rand(3)\n",
    "    B = np.random.rand(4)\n",
    "    result = A + B \n",
    "except ValueError as e:\n",
    "    print(e)"
   ]
  },
  {
   "cell_type": "code",
   "execution_count": 7,
   "metadata": {},
   "outputs": [
    {
     "name": "stdout",
     "output_type": "stream",
     "text": [
      "operands could not be broadcast together with shapes (2,1) (8,4,3) \n"
     ]
    }
   ],
   "source": [
    "try:\n",
    "    A = np.random.rand(   2, 1)\n",
    "    B = np.random.rand(8, 4, 3)\n",
    "    result = A + B \n",
    "except ValueError as e:\n",
    "    print(e)"
   ]
  },
  {
   "cell_type": "markdown",
   "metadata": {},
   "source": [
    "### Example 4\n",
    "\n",
    "Broadcasting when a 1-d array is added to a 2-d array"
   ]
  },
  {
   "cell_type": "code",
   "execution_count": 8,
   "metadata": {},
   "outputs": [
    {
     "data": {
      "text/plain": [
       "array([[ 1.,  2.,  3.],\n",
       "       [11., 12., 13.],\n",
       "       [21., 22., 23.],\n",
       "       [31., 32., 33.]])"
      ]
     },
     "execution_count": 8,
     "metadata": {},
     "output_type": "execute_result"
    }
   ],
   "source": [
    "A = np.array([[ 0.0,  0.0,  0.0],\n",
    "              [10.0, 10.0, 10.0],\n",
    "              [20.0, 20.0, 20.0],\n",
    "              [30.0, 30.0, 30.0]])\n",
    "B = np.array([1.0, 2.0, 3.0])\n",
    "A + B"
   ]
  },
  {
   "cell_type": "markdown",
   "metadata": {},
   "source": [
    "![Broadcastin1D2D](Images/broadcasting_2.png)"
   ]
  },
  {
   "cell_type": "markdown",
   "metadata": {},
   "source": [
    "### Example 5\n",
    "\n",
    "Broadcasting provides a convenient way of taking the outer product (or any other outer operation) of two arrays. The following example shows an outer addition operation of two 1-d arrays"
   ]
  },
  {
   "cell_type": "code",
   "execution_count": 9,
   "metadata": {},
   "outputs": [
    {
     "data": {
      "text/plain": [
       "array([[ 1.,  2.,  3.],\n",
       "       [11., 12., 13.],\n",
       "       [21., 22., 23.],\n",
       "       [31., 32., 33.]])"
      ]
     },
     "execution_count": 9,
     "metadata": {},
     "output_type": "execute_result"
    }
   ],
   "source": [
    "a = np.array([0.0, 10.0, 20.0, 30.0])\n",
    "b = np.array([1.0, 2.0, 3.0])\n",
    "a[:, np.newaxis] + b"
   ]
  },
  {
   "cell_type": "markdown",
   "metadata": {},
   "source": [
    "![Broadcasting](Images/broadcasting_4.png)\n",
    "\n",
    "Here the newaxis index operator inserts a new axis into a, making it a two-dimensional 4x1 array. Combining the 4x1 array with b, which has shape (3,), yields a 4x3 array."
   ]
  },
  {
   "cell_type": "markdown",
   "metadata": {},
   "source": [
    "## structured arrays"
   ]
  },
  {
   "cell_type": "markdown",
   "metadata": {},
   "source": [
    "Structured arrays are ndarrays whose datatype is a composition of simpler datatypes organized as a sequence of named fields. For example:"
   ]
  },
  {
   "cell_type": "code",
   "execution_count": 10,
   "metadata": {},
   "outputs": [
    {
     "data": {
      "text/plain": [
       "array([((10,  0), 2.), ((10, 30), 3.), ((11,  0), 5.)],\n",
       "      dtype=[('time', [('min', '<i8'), ('sec', '<i8')]), ('temp', '<f8')])"
      ]
     },
     "execution_count": 10,
     "metadata": {},
     "output_type": "execute_result"
    }
   ],
   "source": [
    "dt = np.dtype([('time', [('min', np.int64), ('sec', np.int64)]),\n",
    "               ('temp', float)])\n",
    "x = np.array([((10, 0), 2), ((10,30), 3), ((11,00), 5)], \n",
    "             dtype=dt)\n",
    "x"
   ]
  },
  {
   "cell_type": "code",
   "execution_count": 11,
   "metadata": {},
   "outputs": [
    {
     "name": "stdout",
     "output_type": "stream",
     "text": [
      "x[time]: [(10,  0) (10, 30) (11,  0)]\n"
     ]
    }
   ],
   "source": [
    "print(f'x[time]: {x[\"time\"]}')"
   ]
  },
  {
   "cell_type": "code",
   "execution_count": 12,
   "metadata": {},
   "outputs": [
    {
     "name": "stdout",
     "output_type": "stream",
     "text": [
      "x[temp]: [2. 3. 5.]\n"
     ]
    }
   ],
   "source": [
    "print(f'x[temp]: {x[\"temp\"]}')"
   ]
  },
  {
   "cell_type": "markdown",
   "metadata": {},
   "source": [
    "### numpy.fromfile\n",
    "\n",
    "Construct an array from data in a text or binary file."
   ]
  },
  {
   "cell_type": "code",
   "execution_count": 13,
   "metadata": {},
   "outputs": [],
   "source": [
    "import tempfile\n",
    "fname = tempfile.mkstemp()[1]\n",
    "x.tofile(fname)"
   ]
  },
  {
   "cell_type": "code",
   "execution_count": 14,
   "metadata": {},
   "outputs": [
    {
     "data": {
      "text/plain": [
       "array([((10,  0), 2.), ((10, 30), 3.), ((11,  0), 5.)],\n",
       "      dtype=[('time', [('min', '<i8'), ('sec', '<i8')]), ('temp', '<f8')])"
      ]
     },
     "execution_count": 14,
     "metadata": {},
     "output_type": "execute_result"
    }
   ],
   "source": [
    "np.fromfile(fname, dtype=dt)"
   ]
  },
  {
   "cell_type": "markdown",
   "metadata": {},
   "source": [
    "## copies and views\n",
    "\n",
    "The main difference between a copy and a view of an array is that the copy is a new array, and the view is just a view of the original array.\n",
    "\n",
    "The **copy** owns the data and any changes made to the copy will not affect original array, and any changes made to the original array will not affect the copy.\n",
    "\n",
    "The **view** does not own the data and any changes made to the view will affect the original array, and any changes made to the original array will affect the view."
   ]
  },
  {
   "cell_type": "markdown",
   "metadata": {},
   "source": [
    "### np.view()"
   ]
  },
  {
   "cell_type": "code",
   "execution_count": 15,
   "metadata": {},
   "outputs": [
    {
     "name": "stdout",
     "output_type": "stream",
     "text": [
      "x: [0 1 2 3 4 5 6 7 8 9]\n",
      "x.view(): [0 1 2 3 4 5 6 7 8 9]\n",
      "x[1:3]: [1 2 3 4]\n"
     ]
    }
   ],
   "source": [
    "x = np.arange(10)\n",
    "arr_view1 = x.view()\n",
    "arr_view2 = x[1:5]\n",
    "\n",
    "print(f'x: {x}')\n",
    "print(f'x.view(): {arr_view1}')\n",
    "print(f'x[1:3]: {arr_view2}')"
   ]
  },
  {
   "cell_type": "code",
   "execution_count": 16,
   "metadata": {},
   "outputs": [
    {
     "name": "stdout",
     "output_type": "stream",
     "text": [
      "x: [ 0  1  2 10  4  5  6  7  8  9]\n",
      "x.view(): [ 0  1  2 10  4  5  6  7  8  9]\n",
      "x[1:3]: [ 1  2 10  4]\n"
     ]
    }
   ],
   "source": [
    "x[3] = 10\n",
    "\n",
    "print(f'x: {x}')\n",
    "print(f'x.view(): {arr_view1}')\n",
    "print(f'x[1:3]: {arr_view2}')"
   ]
  },
  {
   "cell_type": "code",
   "execution_count": 17,
   "metadata": {},
   "outputs": [
    {
     "name": "stdout",
     "output_type": "stream",
     "text": [
      "x: [  0   1   2  10 123   5   6   7   8   9]\n",
      "x.view(): [  0   1   2  10 123   5   6   7   8   9]\n",
      "x[1:3]: [  1   2  10 123]\n"
     ]
    }
   ],
   "source": [
    "arr_view1[4] = 123\n",
    "\n",
    "print(f'x: {x}')\n",
    "print(f'x.view(): {arr_view1}')\n",
    "print(f'x[1:3]: {arr_view2}')"
   ]
  },
  {
   "cell_type": "markdown",
   "metadata": {},
   "source": [
    "### np.copy()"
   ]
  },
  {
   "cell_type": "code",
   "execution_count": 18,
   "metadata": {},
   "outputs": [
    {
     "name": "stdout",
     "output_type": "stream",
     "text": [
      "x: [0 1 2 3 4 5 6 7 8 9]\n",
      "x.copy(): [0 1 2 3 4 5 6 7 8 9]\n"
     ]
    }
   ],
   "source": [
    "x = np.arange(10)\n",
    "arr_copy = x.copy()\n",
    "\n",
    "print(f'x: {x}')\n",
    "print(f'x.copy(): {arr_copy}')"
   ]
  },
  {
   "cell_type": "code",
   "execution_count": 19,
   "metadata": {},
   "outputs": [
    {
     "name": "stdout",
     "output_type": "stream",
     "text": [
      "x: [ 0  1  2 10  4  5  6  7  8  9]\n",
      "x.copy(): [0 1 2 3 4 5 6 7 8 9]\n"
     ]
    }
   ],
   "source": [
    "x[3] = 10\n",
    "\n",
    "print(f'x: {x}')\n",
    "print(f'x.copy(): {arr_copy}')"
   ]
  },
  {
   "cell_type": "markdown",
   "metadata": {},
   "source": [
    "### How to tell if the array is a view or a copy\n",
    "\n",
    "The *base* attribute of the ndarray makes it easy to tell if an array is a view or a copy. The base attribute of a view returns the original array while it returns None for a copy."
   ]
  },
  {
   "cell_type": "code",
   "execution_count": 20,
   "metadata": {},
   "outputs": [
    {
     "name": "stdout",
     "output_type": "stream",
     "text": [
      "x.base: None\n",
      "arr_view1.base: [  0   1   2  10 123   5   6   7   8   9]\n",
      "arr_copy.base: None\n"
     ]
    }
   ],
   "source": [
    "print(f'x.base: {x.base}')\n",
    "print(f'arr_view1.base: {arr_view1.base}')\n",
    "print(f'arr_copy.base: {arr_copy.base}')"
   ]
  },
  {
   "cell_type": "markdown",
   "metadata": {},
   "source": [
    "### Copy library \n",
    "\n",
    "Lets compare np.copy() and np.view() with copy.deepcopy(), copy.copy()."
   ]
  },
  {
   "cell_type": "markdown",
   "metadata": {},
   "source": [
    "Shallow copy creates a new object that references the same inner objects as the original, sharing data references. Changes to inner objects affect all references, but changes to top-level objects may not.\n",
    "\n",
    "When you change the inner item (origin[1][0]), all collections reflect the change:"
   ]
  },
  {
   "cell_type": "code",
   "execution_count": 21,
   "metadata": {},
   "outputs": [
    {
     "name": "stdout",
     "output_type": "stream",
     "text": [
      "[[1], [0], [3]]\n",
      "[[1], [0], [3]]\n",
      "[[1], [0], [3]]\n"
     ]
    }
   ],
   "source": [
    "from copy import copy\n",
    "\n",
    "# changing inner item\n",
    "origin = [[1], [2], [3]]\n",
    "shallow_copy = copy(origin)\n",
    "referenced = origin\n",
    "origin[1][0] = 0\n",
    "\n",
    "print(origin)     \n",
    "print(shallow_copy) \n",
    "print(referenced) "
   ]
  },
  {
   "cell_type": "markdown",
   "metadata": {},
   "source": [
    "When you change a top-level item (origin[1]), the reference reflects the change, but the shallow copy remains unchanged because it shares references to the inner lists:"
   ]
  },
  {
   "cell_type": "code",
   "execution_count": 22,
   "metadata": {},
   "outputs": [
    {
     "name": "stdout",
     "output_type": "stream",
     "text": [
      "[[1], 0, [3]]\n",
      "[[1], [2], [3]]\n",
      "[[1], 0, [3]]\n"
     ]
    }
   ],
   "source": [
    "# changing a top-level item\n",
    "origin = [[1], [2], [3]]\n",
    "shallow_copy = copy(origin)\n",
    "referenced = origin\n",
    "origin[1] = 0\n",
    "\n",
    "print(origin)      \n",
    "print(shallow_copy) \n",
    "print(referenced)  "
   ]
  },
  {
   "cell_type": "markdown",
   "metadata": {},
   "source": [
    "Deep copy duplicates the entire structure, including all nested sublists, ensuring independence:"
   ]
  },
  {
   "cell_type": "code",
   "execution_count": 23,
   "metadata": {},
   "outputs": [
    {
     "name": "stdout",
     "output_type": "stream",
     "text": [
      "[[1], [0], [3]]\n",
      "[[1], [2], [3]]\n",
      "[[1], [0], [3]]\n"
     ]
    }
   ],
   "source": [
    "from copy import deepcopy\n",
    "\n",
    "origin = [[1],[2],[3]]\n",
    "deep_copy = deepcopy(origin)\n",
    "referenced = origin\n",
    "origin[1][0]= 0\n",
    "\n",
    "print(origin) \n",
    "print(deep_copy) \n",
    "print(referenced) "
   ]
  },
  {
   "cell_type": "markdown",
   "metadata": {},
   "source": [
    "### Summary"
   ]
  },
  {
   "cell_type": "markdown",
   "metadata": {},
   "source": [
    "Here’s the key difference between references, shallow copies, and deep copies:\n",
    "- `copy.deepcopy()` → Creates a completely independent copy of an object, including all nested elements. Changes in the original object do not affect the deep copy.\n",
    "- `References` → Simply point to the same object, meaning any modification to the original will be reflected in all references.\n",
    "- `copy.copy()` → Creates a shallow copy, duplicating only the outer structure of an object, but the inner elements remain shared with the original.\n",
    "- `np.copy()` → In NumPy, this creates a fully independent copy of an array, duplicating all data.\n",
    "- `np.view()` → Creates a new view of the same data, meaning changes in one will affect the other."
   ]
  },
  {
   "cell_type": "markdown",
   "metadata": {},
   "source": [
    "## sub-classing ndarray"
   ]
  },
  {
   "cell_type": "markdown",
   "metadata": {},
   "source": [
    "### Why Subclass `ndarray`?\n",
    "Subclassing `ndarray` allows you to extend its functionality, making it suitable for specialized tasks, such as:\n",
    "- **Adding Metadata:** Attach custom attributes, such as physical units (e.g., meters, seconds).\n",
    "- **Custom Operations:** Override arithmetic operations or behaviors for specific scientific or domain-specific needs.\n",
    "- **Efficient Data Handling:** Maintain memory efficiency by leveraging `ndarray`'s slicing and broadcasting capabilities while adding specialized behaviors.\n",
    "\n",
    "### Key Ways to Create Subclassed Instances\n",
    "1. **Explicit Constructor Call:** Create an instance directly using `MySubClass(params)`.\n",
    "   ```python\n",
    "   class MyArray(np.ndarray):\n",
    "       pass\n",
    "   arr = MyArray((3,))  # Explicit constructor\n",
    "   ```\n",
    "\n",
    "2. **View Casting:** Cast an existing `ndarray` to a subclass.\n",
    "   ```python\n",
    "   data = np.array([1, 2, 3])\n",
    "   subclassed_view = data.view(MyArray)\n",
    "   ```\n",
    "\n",
    "3. **New from Template:** Create a new instance from a template, such as slicing or copying.\n",
    "   ```python\n",
    "   sliced = subclassed_view[:2]  # Slice from template\n",
    "   ```\n",
    "\n",
    "### Implications for Subclassing\n",
    "\n",
    "To handle these three paths, NumPy requires you to manage two special methods:\n",
    "1. `__new__`:\n",
    "This is where object creation happens (instead of __init__, which is more common in Python). It initializes the basic array structure.\n",
    "2. `__array_finalize__`:\n",
    "This method is called after creating a view or new instance from a template. You use it to ensure attributes specific to your subclass are copied or set correctly."
   ]
  },
  {
   "cell_type": "markdown",
   "metadata": {},
   "source": [
    "### Example 1: `__new__` and `__init__`"
   ]
  },
  {
   "cell_type": "markdown",
   "metadata": {},
   "source": [
    "`__new__` is a standard Python method, and, if present, is called before `__init__` when we create a class instance."
   ]
  },
  {
   "cell_type": "code",
   "execution_count": 24,
   "metadata": {},
   "outputs": [],
   "source": [
    "class C:\n",
    "    def __new__(cls, *args):\n",
    "        print('Cls in __new__:', cls)\n",
    "        print('Args in __new__:', args)\n",
    "        # The `object` type __new__ method takes a single argument.\n",
    "        return object.__new__(cls)\n",
    "    def __init__(self, *args):\n",
    "        print('type(self) in __init__:', type(self))\n",
    "        print('Args in __init__:', args)"
   ]
  },
  {
   "cell_type": "code",
   "execution_count": 25,
   "metadata": {},
   "outputs": [
    {
     "name": "stdout",
     "output_type": "stream",
     "text": [
      "Cls in __new__: <class '__main__.C'>\n",
      "Args in __new__: ('hello',)\n",
      "type(self) in __init__: <class '__main__.C'>\n",
      "Args in __init__: ('hello',)\n"
     ]
    }
   ],
   "source": [
    "c = C('hello')"
   ]
  },
  {
   "cell_type": "markdown",
   "metadata": {},
   "source": [
    "As you can see, the object can be initialized in the `__new__` method or the `__init__` method, or both, and in fact ndarray does not have an `__init__` method, because all the initialization is done in the `__new__`method.\n",
    "\n",
    "Why use `__new__` rather than just the usual `__init__`? Because in some cases, as for ndarray, we want to be able to return an object of some other class. Consider the following:"
   ]
  },
  {
   "cell_type": "code",
   "execution_count": 26,
   "metadata": {},
   "outputs": [],
   "source": [
    "class D(C):\n",
    "    def __new__(cls, *args):\n",
    "        print('D cls is:', cls)\n",
    "        print('D args in __new__:', args)\n",
    "        return C.__new__(C, *args)\n",
    "\n",
    "    def __init__(self, *args):\n",
    "        # we never get here\n",
    "        print('In D __init__')"
   ]
  },
  {
   "cell_type": "code",
   "execution_count": 27,
   "metadata": {},
   "outputs": [
    {
     "name": "stdout",
     "output_type": "stream",
     "text": [
      "D cls is: <class '__main__.D'>\n",
      "D args in __new__: ('Hello',)\n",
      "Cls in __new__: <class '__main__.C'>\n",
      "Args in __new__: ('Hello',)\n"
     ]
    }
   ],
   "source": [
    "d = D('Hello')"
   ]
  },
  {
   "cell_type": "markdown",
   "metadata": {},
   "source": [
    "The definition of C is the same as before, but for D, the `__new__` method returns an instance of class C rather than D. Note that the `__init__` method of D does not get called. \n",
    "\n",
    "When taking a view of a subclassed ndarray, the subclass type must be preserved. NumPy solves this by calling something like:\n",
    "```python\n",
    "obj = np.ndarray.__new__(subtype, shape, ...)\n",
    "```\n",
    "Here, subtype is the subclass (like MyArray, C, D), ensuring that the resulting view belongs to the subclass instead of reverting to a plain ndarray.\n",
    "\n",
    "But when `np.ndarray.__new__()` creates the subclass instance, it knows nothing about what custom logic you implemented in your subclass's `__new__` method. So any subclass-specific attributes or initializations may be missing in the returned view.\n",
    "\n",
    "Why Not Call subdtype.`__new__()` Directly?\n",
    "\n",
    "The reason is compatibility: subclasses might not define a `__new__` method with the exact same signature as `ndarray.__new__`."
   ]
  },
  {
   "cell_type": "markdown",
   "metadata": {},
   "source": [
    "### Example 2: `__array_finalize__`"
   ]
  },
  {
   "cell_type": "markdown",
   "metadata": {},
   "source": [
    "`MySubClass.__new__` method only gets called in the case of the explicit constructor call, so we can’t rely on `MySubClass.__new__` or `MySubClass.__init__` to deal with the view casting and new-from-template. It turns out that `MySubClass.__array_finalize__` does get called for all three methods of object creation, so this is where our object creation housekeeping usually goes."
   ]
  },
  {
   "cell_type": "code",
   "execution_count": 28,
   "metadata": {},
   "outputs": [],
   "source": [
    "class InfoArray(np.ndarray):\n",
    "\n",
    "    def __new__(subtype, shape, dtype=float, buffer=None, offset=0,\n",
    "                strides=None, order=None, info=None):\n",
    "        # Create the ndarray instance of our type, given the usual\n",
    "        # ndarray input arguments.  This will call the standard\n",
    "        # ndarray constructor, but return an object of our type.\n",
    "        # It also triggers a call to InfoArray.__array_finalize__\n",
    "        obj = super().__new__(subtype, shape, dtype,\n",
    "                              buffer, offset, strides, order)\n",
    "        # set the new 'info' attribute to the value passed\n",
    "        obj.info = info\n",
    "        # Finally, we must return the newly created object:\n",
    "        return obj\n",
    "\n",
    "    def __array_finalize__(self, obj):\n",
    "        # ``self`` is a new object resulting from\n",
    "        # ndarray.__new__(InfoArray, ...), therefore it only has\n",
    "        # attributes that the ndarray.__new__ constructor gave it -\n",
    "        # i.e. those of a standard ndarray.\n",
    "        #\n",
    "        # We could have got to the ndarray.__new__ call in 3 ways:\n",
    "        # From an explicit constructor - e.g. InfoArray():\n",
    "        #    obj is None\n",
    "        #    (we're in the middle of the InfoArray.__new__\n",
    "        #    constructor, and self.info will be set when we return to\n",
    "        #    InfoArray.__new__)\n",
    "        if obj is None: return\n",
    "        # From view casting - e.g arr.view(InfoArray):\n",
    "        #    obj is arr\n",
    "        #    (type(obj) can be InfoArray)\n",
    "        # From new-from-template - e.g infoarr[:3]\n",
    "        #    type(obj) is InfoArray\n",
    "        #\n",
    "        # Note that it is here, rather than in the __new__ method,\n",
    "        # that we set the default value for 'info', because this\n",
    "        # method sees all creation of default objects - with the\n",
    "        # InfoArray.__new__ constructor, but also with\n",
    "        # arr.view(InfoArray).\n",
    "        self.info = getattr(obj, 'info', None)\n",
    "        # We do not need to return anything"
   ]
  },
  {
   "cell_type": "code",
   "execution_count": 29,
   "metadata": {},
   "outputs": [
    {
     "data": {
      "text/plain": [
       "__main__.InfoArray"
      ]
     },
     "execution_count": 29,
     "metadata": {},
     "output_type": "execute_result"
    }
   ],
   "source": [
    "obj = InfoArray(shape=(3,)) # explicit constructor\n",
    "type(obj)"
   ]
  },
  {
   "cell_type": "code",
   "execution_count": 30,
   "metadata": {},
   "outputs": [
    {
     "data": {
      "text/plain": [
       "True"
      ]
     },
     "execution_count": 30,
     "metadata": {},
     "output_type": "execute_result"
    }
   ],
   "source": [
    "obj.info is None"
   ]
  },
  {
   "cell_type": "code",
   "execution_count": 31,
   "metadata": {},
   "outputs": [
    {
     "data": {
      "text/plain": [
       "'information'"
      ]
     },
     "execution_count": 31,
     "metadata": {},
     "output_type": "execute_result"
    }
   ],
   "source": [
    "obj = InfoArray(shape=(3,), info='information')\n",
    "obj.info"
   ]
  },
  {
   "cell_type": "code",
   "execution_count": 32,
   "metadata": {},
   "outputs": [
    {
     "name": "stdout",
     "output_type": "stream",
     "text": [
      "<class '__main__.InfoArray'>\n",
      "information\n"
     ]
    }
   ],
   "source": [
    "v = obj[1:] # new-from-template - here - slicing\n",
    "print(type(v))\n",
    "print(v.info)"
   ]
  },
  {
   "cell_type": "code",
   "execution_count": 33,
   "metadata": {},
   "outputs": [
    {
     "name": "stdout",
     "output_type": "stream",
     "text": [
      "<class '__main__.InfoArray'>\n"
     ]
    }
   ],
   "source": [
    "arr = np.arange(10)\n",
    "cast_arr = arr.view(InfoArray) # view casting\n",
    "print(type(cast_arr))"
   ]
  },
  {
   "cell_type": "markdown",
   "metadata": {},
   "source": [
    "# Internal organization of NumPy arrays\n",
    "\n",
    "NumPy arrays consist of two major components: the raw array data (from now on, referred to as the **data buffer**), and the information about the **raw array data**. This extra information contains (among other things):\n",
    "\n",
    "1. The basic data element’s size in bytes.\n",
    "2. The start of the data within the data buffer (an offset relative to the beginning of the data buffer).\n",
    "3. The number of dimensions and the size of each dimension.\n",
    "4. The separation between elements for each dimension (the stride). This does not have to be a multiple of the element size.\n",
    "5. The byte order of the data (which may not be the native byte order).\n",
    "6. Whether the buffer is read-only.\n",
    "7. Information (via the dtype object) about the interpretation of the basic data element. The basic data element may be as simple as an int or a float, or it may be a compound object (e.g., struct-like), a fixed character field, or Python object pointers.\n",
    "\n",
    "This arrangement allows for the very flexible use of arrays. "
   ]
  },
  {
   "cell_type": "markdown",
   "metadata": {},
   "source": [
    "# Memory\n",
    "\n",
    "The actual data of a numpy array is stored in a homogeneous and contiguous block of memory called data buffer. \n",
    "\n",
    "![Memory](Images/PythonMemory.png)"
   ]
  },
  {
   "cell_type": "markdown",
   "metadata": {},
   "source": [
    "## Strides\n",
    "Stride is a tuple of bytes to step in each dimension when traversing an array."
   ]
  },
  {
   "cell_type": "code",
   "execution_count": 34,
   "metadata": {},
   "outputs": [
    {
     "data": {
      "text/plain": [
       "array([[[ 0,  1,  2,  3],\n",
       "        [ 4,  5,  6,  7],\n",
       "        [ 8,  9, 10, 11]],\n",
       "\n",
       "       [[12, 13, 14, 15],\n",
       "        [16, 17, 18, 19],\n",
       "        [20, 21, 22, 23]]])"
      ]
     },
     "execution_count": 34,
     "metadata": {},
     "output_type": "execute_result"
    }
   ],
   "source": [
    "y = np.reshape(np.arange(2*3*4), (2,3,4))\n",
    "y"
   ]
  },
  {
   "cell_type": "code",
   "execution_count": 35,
   "metadata": {},
   "outputs": [
    {
     "data": {
      "text/plain": [
       "(96, 32, 8)"
      ]
     },
     "execution_count": 35,
     "metadata": {},
     "output_type": "execute_result"
    }
   ],
   "source": [
    "y.strides"
   ]
  },
  {
   "cell_type": "code",
   "execution_count": 36,
   "metadata": {},
   "outputs": [
    {
     "data": {
      "text/plain": [
       "(8, 32, 96)"
      ]
     },
     "execution_count": 36,
     "metadata": {},
     "output_type": "execute_result"
    }
   ],
   "source": [
    "z = y.T\n",
    "z.strides"
   ]
  },
  {
   "cell_type": "code",
   "execution_count": 37,
   "metadata": {},
   "outputs": [
    {
     "data": {
      "text/plain": [
       "np.int64(17)"
      ]
     },
     "execution_count": 37,
     "metadata": {},
     "output_type": "execute_result"
    }
   ],
   "source": [
    "y[1,1,1]"
   ]
  },
  {
   "cell_type": "markdown",
   "metadata": {},
   "source": [
    "At this step, we want to calculate how many bytes we need to \"jump\" in memory to access the element."
   ]
  },
  {
   "cell_type": "code",
   "execution_count": 38,
   "metadata": {},
   "outputs": [
    {
     "data": {
      "text/plain": [
       "np.float64(17.0)"
      ]
     },
     "execution_count": 38,
     "metadata": {},
     "output_type": "execute_result"
    }
   ],
   "source": [
    "offset=sum(y.strides * np.array((1,1,1)))\n",
    "offset/y.itemsize"
   ]
  },
  {
   "cell_type": "markdown",
   "metadata": {},
   "source": [
    "What does `y.strides * np.array((1, 1, 1))` mean?\n",
    "\n",
    "Each dimension of the array (2, 3, 4) has its own stride, which tells us how far apart elements are in memory:\n",
    "* For the first dimension (axis 0), we need to jump 96 bytes to move to the next element.\n",
    "* For the second dimension (axis 1), we jump 32 bytes.\n",
    "* For the third dimension (axis 2), we jump 8 bytes.\n",
    "\n",
    "By summing these values we obtain the offset.\n",
    "\n",
    "What about `offset / y.itemsize`?\n",
    "\n",
    "Each element occupies 4 bytes (y.itemsize == 4). To find the position of the element in the flattened 1D representation, we divide `offset / y.itemsize`."
   ]
  },
  {
   "cell_type": "markdown",
   "metadata": {},
   "source": [
    "## Changing shape"
   ]
  },
  {
   "cell_type": "markdown",
   "metadata": {},
   "source": [
    "The shape of the array can be changed very easily without changing anything in the data buffer or any data copying at all. To reshape the array in-place assume a tuple of array dimensions to it. Reshaping an array in-place will fail if a copy is required."
   ]
  },
  {
   "cell_type": "code",
   "execution_count": 39,
   "metadata": {},
   "outputs": [
    {
     "data": {
      "text/plain": [
       "(4,)"
      ]
     },
     "execution_count": 39,
     "metadata": {},
     "output_type": "execute_result"
    }
   ],
   "source": [
    "x = np.array([1, 2, 3, 4])\n",
    "x.shape"
   ]
  },
  {
   "cell_type": "code",
   "execution_count": 40,
   "metadata": {},
   "outputs": [
    {
     "data": {
      "text/plain": [
       "(2, 3, 4)"
      ]
     },
     "execution_count": 40,
     "metadata": {},
     "output_type": "execute_result"
    }
   ],
   "source": [
    "y = np.zeros((2, 3, 4))\n",
    "y.shape"
   ]
  },
  {
   "cell_type": "code",
   "execution_count": 41,
   "metadata": {},
   "outputs": [
    {
     "data": {
      "text/plain": [
       "array([[0., 0., 0., 0., 0., 0., 0., 0.],\n",
       "       [0., 0., 0., 0., 0., 0., 0., 0.],\n",
       "       [0., 0., 0., 0., 0., 0., 0., 0.]])"
      ]
     },
     "execution_count": 41,
     "metadata": {},
     "output_type": "execute_result"
    }
   ],
   "source": [
    "y.shape = (3, 8)\n",
    "y"
   ]
  },
  {
   "cell_type": "code",
   "execution_count": 42,
   "metadata": {},
   "outputs": [],
   "source": [
    "# # ValueError: total size of new array must be unchanged\n",
    "# y.shape = (3, 6)"
   ]
  },
  {
   "cell_type": "code",
   "execution_count": 43,
   "metadata": {},
   "outputs": [],
   "source": [
    "# # AttributeError: Incompatible shape for in-place modification. Use `.reshape()` to make a copy with the desired shape.\n",
    "# np.zeros((4,2))[::2].shape = (-1,)"
   ]
  },
  {
   "cell_type": "markdown",
   "metadata": {},
   "source": [
    "## Numpy data structures"
   ]
  },
  {
   "cell_type": "markdown",
   "metadata": {},
   "source": [
    "### numpy.lib.stride_tricks.as_strided"
   ]
  },
  {
   "cell_type": "markdown",
   "metadata": {},
   "source": [
    "The `numpy.lib.stride_tricks.as_strided()` function allows you to create custom views of NumPy arrays without copying data. It works by manipulating memory strides, enabling you to define a custom way of interpreting the underlying data.\n",
    "\n",
    "**Function Parameters**\n",
    "\n",
    "| Parameter     | Description                                           |\n",
    "|---------------|-------------------------------------------------------|\n",
    "| `x`           | Input NumPy array                                     |\n",
    "| `shape`       | Desired shape of the new view                         |\n",
    "| `strides`     | Bytes to move between elements in each dimension      |\n",
    "| `subok`       | Keeps subclass type if `True` (default)               |\n",
    "| `writeable`   | If `True`, allows changes to the view (use cautiously)|\n",
    "\n",
    "**Returns**\n",
    "\n",
    "`view : ndarray`\n",
    "A new view of the input array with overlapping sliding windows.\n",
    "\n",
    "\n",
    "**Risks**\n",
    "1. **Memory violation risk** Manipulating strides allows reading data outside the valid array range, which can cause errors or undefined behavior.\n",
    "2. **No data copying** Modifying elements of a view created with as_strided will also modify the original data."
   ]
  },
  {
   "cell_type": "markdown",
   "metadata": {},
   "source": [
    "#### Example\n",
    "It can be used to efficiently perform operations on input data, such as creating sliding windows without memory overhead. This is particularly useful for convolutional operations."
   ]
  },
  {
   "cell_type": "code",
   "execution_count": 44,
   "metadata": {},
   "outputs": [
    {
     "name": "stdout",
     "output_type": "stream",
     "text": [
      "[[0 1 2]\n",
      " [1 2 3]\n",
      " [2 3 4]\n",
      " [3 4 5]\n",
      " [4 5 6]\n",
      " [5 6 7]\n",
      " [6 7 8]\n",
      " [7 8 9]]\n"
     ]
    }
   ],
   "source": [
    "from numpy.lib import stride_tricks\n",
    "\n",
    "x = np.arange(10)\n",
    "\n",
    "window_size = 3\n",
    "stride = x.strides[0]\n",
    "\n",
    "windows = stride_tricks.as_strided(x, \n",
    "                                   shape=(len(x) - window_size + 1, window_size), \n",
    "                                   strides=(stride, stride))\n",
    "print(windows)"
   ]
  },
  {
   "cell_type": "markdown",
   "metadata": {},
   "source": [
    "**How It Works**\n",
    "\n",
    "1. Create the input array x\n",
    "2. Define the window size and stride\n",
    "    * window_size = 3: We want overlapping sliding windows of length 3.\n",
    "    * x.strides[0]: The stride for a 1D NumPy array is the number of bytes required to move from one element to the next.\n",
    "3. Set the shape of the new view `shape=(len(x) - window_size + 1, window_size)`\n",
    "    * len(x) = 10\n",
    "    * We want windows of size 3, so the number of possible windows is 10 - 3 + 1 = 8. This makes the shape of the resulting array (8, 3).\n",
    "4. Set the strides `strides=(stride, stride)`\n",
    "    * The first value tells NumPy how many bytes to move when selecting the starting point of the next window (row).\n",
    "    * The second value tells NumPy how many bytes to move between elements within a window (column).\n"
   ]
  },
  {
   "cell_type": "markdown",
   "metadata": {},
   "source": [
    "### numpy.lib.stride_tricks.sliding_window_view"
   ]
  },
  {
   "cell_type": "markdown",
   "metadata": {},
   "source": [
    "The `numpy.lib.stride_tricks.sliding_window_view()` function creates sliding window views of N-dimensional arrays without copying data. This function is safer and easier to use than `as_strided()` for tasks like generating moving windows for convolution or analysis.\n",
    "\n",
    "**Function Parameters**\n",
    "\n",
    "| Parameter        | Description                                                  |\n",
    "|------------------|--------------------------------------------------------------|\n",
    "| `x`              | Input NumPy array                                            |\n",
    "| `window_shape`   | Size of the sliding window (int or tuple for N-dim arrays)   |\n",
    "| `axis` (optional) | Axis or axes to slide over; defaults to all axes            |\n",
    "\n",
    "**Returns**\n",
    "\n",
    "`view : ndarray`  \n",
    "A new view of the input array with overlapping sliding windows.\n"
   ]
  },
  {
   "cell_type": "markdown",
   "metadata": {},
   "source": [
    "#### Example"
   ]
  },
  {
   "cell_type": "code",
   "execution_count": 45,
   "metadata": {},
   "outputs": [
    {
     "name": "stdout",
     "output_type": "stream",
     "text": [
      "[[0 1 2]\n",
      " [1 2 3]\n",
      " [2 3 4]\n",
      " [3 4 5]\n",
      " [4 5 6]\n",
      " [5 6 7]\n",
      " [6 7 8]\n",
      " [7 8 9]]\n"
     ]
    }
   ],
   "source": [
    "x = np.arange(10)\n",
    "\n",
    "windows = stride_tricks.sliding_window_view(x, window_shape=3)\n",
    "print(windows)"
   ]
  },
  {
   "cell_type": "markdown",
   "metadata": {},
   "source": [
    "# Assignments\n",
    "\n",
    "1. Strides, Views\n",
    "   \n",
    "   Generate a 5×4 array A containing consecutive natural numbers.\n",
    "   Create array B as a view of A.\n",
    "   Modify the strides of B so that B becomes the transpose of A (B = A.T). Use B.strides = ? to achieve this.\n",
    "   Calculate how many bytes need to be traversed in memory to access the element with the value 7 in both arrays.\n",
    "2. Broadcasting\n",
    "\n",
    "   Generate 10,000 points in a 1,000-dimensional space.\n",
    "   Using broadcasting, compute the matrix of Euclidean distances between all pairs of points.\n",
    "   Compare the execution time of this approach with a triple for-loop implementation.\n",
    "3. Copies and Views\n",
    "\n",
    "   Generate a 3×3 array A containing integers from 1 to 9.\n",
    "   Perform the following experiments and answer the questions:\n",
    "   - Create array B as a copy of A using np.copy(), and array C as a view of A using np.view().\n",
    "   Modify A[0,0] to 100 in the original array A. Then modify C[2,2] to 200 in C.\n",
    "   Observe and explain the changes in B, C, and A. Why did some arrays change while others didn’t?\n",
    "   - Create a view D of A with an added dimension (for example, using np.newaxis in the appropriate position) and observe how the data changes.\n",
    "   Modify a row in C (for example, C[1,:]) and check if the changes affect A. Then, check whether modifying B affects A.\n",
    "4. Subclassing\n",
    "\n",
    "   Implement a custom subclass MyArray, inheriting from np.ndarray.\n",
    "   Add a method norm() that computes the matrix norm using a selected norm type.\n",
    "   Verify the correctness of MyArray and the norm() method for different values.\n",
    "5. Stride Tricks\n",
    "\n",
    "   Create an array as shown on the left side of the diagram. Using stride_tricks, transform it into the array on the right side of the diagram by swapping the top-right quadrant with the bottom-left.\n",
    "   ![task](Images/ex_np_as_strided.png)"
   ]
  },
  {
   "cell_type": "markdown",
   "metadata": {},
   "source": [
    "## 1. Strides, Views\n",
    "   \n",
    "   Generate a 5×4 array A containing consecutive natural numbers.\n",
    "   Create array B as a view of A.\n",
    "   Modify the strides of B so that B becomes the transpose of A (B = A.T). Use B.strides = ? to achieve this.\n",
    "   Calculate how many bytes need to be traversed in memory to access the element with the value 7 in both arrays."
   ]
  },
  {
   "cell_type": "code",
   "execution_count": 46,
   "metadata": {},
   "outputs": [
    {
     "data": {
      "text/plain": [
       "(np.int64(48), np.int64(48))"
      ]
     },
     "execution_count": 46,
     "metadata": {},
     "output_type": "execute_result"
    }
   ],
   "source": [
    "A = np.arange(1, 21).reshape(5, 4)\n",
    "B = A.view()\n",
    "B.strides = (A.strides[1], A.strides[0])\n",
    "\n",
    "# Memory traversal for element 7\n",
    "index_A = np.where(A == 7)\n",
    "memory_offset_A = index_A[0][0] * A.strides[0] + index_A[1][0] * A.strides[1]\n",
    "index_B = np.where(B == 7)\n",
    "memory_offset_B = index_B[0][0] * B.strides[0] + index_B[1][0] * B.strides[1]\n",
    "\n",
    "memory_offset_A, memory_offset_B"
   ]
  },
  {
   "cell_type": "markdown",
   "metadata": {},
   "source": [
    "2. Broadcasting\n",
    "\n",
    "   Generate 10,000 points in a 1,000-dimensional space.\n",
    "   Using broadcasting, compute the matrix of Euclidean distances between all pairs of points.\n",
    "   Compare the execution time of this approach with a triple for-loop implementation."
   ]
  },
  {
   "cell_type": "code",
   "execution_count": 47,
   "metadata": {},
   "outputs": [],
   "source": [
    "num_points = 10_000\n",
    "dimensions = 1_000\n",
    "X = np.random.randn(num_points, dimensions).astype(np.float16)\n",
    "\n",
    "def broadcasting(X):\n",
    "\tX_norm = np.sum(X**2, axis=1)\n",
    "\treturn X_norm[:, np.newaxis] + X_norm[np.newaxis, :] - 2 * np.dot(X, X.T)\n",
    "\n",
    "def triple_loop(X):\n",
    "    num_points = X.shape[0]\n",
    "    dist_matrix = np.zeros((num_points, num_points))\n",
    "    for i in range(num_points):\n",
    "        for j in range(num_points):\n",
    "            dist_matrix[i, j] = np.sqrt(np.sum((X[i] - X[j]) ** 2))\n",
    "    return dist_matrix"
   ]
  },
  {
   "cell_type": "code",
   "execution_count": 49,
   "metadata": {},
   "outputs": [
    {
     "name": "stdout",
     "output_type": "stream",
     "text": [
      "5min 14s ± 3.71 s per loop (mean ± std. dev. of 7 runs, 1 loop each)\n"
     ]
    }
   ],
   "source": [
    "%timeit broadcasting(X)"
   ]
  },
  {
   "cell_type": "markdown",
   "metadata": {},
   "source": [
    "## 3. Copies and Views\n",
    "\n",
    "   Generate a 3×3 array A containing integers from 1 to 9.\n",
    "   Perform the following experiments and answer the questions:\n",
    "   - Create array B as a copy of A using np.copy(), and array C as a view of A using np.view().\n",
    "   Modify A[0,0] to 100 in the original array A. Then modify C[2,2] to 200 in C.\n",
    "   Observe and explain the changes in B, C, and A. Why did some arrays change while others didn’t?\n",
    "   - Create a view D of A with an added dimension (for example, using np.newaxis in the appropriate position) and observe how the data changes.\n",
    "   Modify a row in C (for example, C[1,:]) and check if the changes affect A. Then, check whether modifying B affects A."
   ]
  },
  {
   "cell_type": "code",
   "execution_count": null,
   "metadata": {},
   "outputs": [],
   "source": [
    "A = np.arange(1, 10).reshape(3, 3)\n",
    "B = np.copy(A)\n",
    "C = A.view()\n",
    "A[0, 0] = 100\n",
    "C[2, 2] = 200"
   ]
  },
  {
   "cell_type": "code",
   "execution_count": null,
   "metadata": {},
   "outputs": [
    {
     "data": {
      "text/plain": [
       "array([[100,   2,   3],\n",
       "       [  4,   5,   6],\n",
       "       [  7,   8, 200]])"
      ]
     },
     "execution_count": 75,
     "metadata": {},
     "output_type": "execute_result"
    }
   ],
   "source": [
    "A"
   ]
  },
  {
   "cell_type": "code",
   "execution_count": null,
   "metadata": {},
   "outputs": [
    {
     "data": {
      "text/plain": [
       "array([[1, 2, 3],\n",
       "       [4, 5, 6],\n",
       "       [7, 8, 9]])"
      ]
     },
     "execution_count": 76,
     "metadata": {},
     "output_type": "execute_result"
    }
   ],
   "source": [
    "B"
   ]
  },
  {
   "cell_type": "code",
   "execution_count": null,
   "metadata": {},
   "outputs": [
    {
     "data": {
      "text/plain": [
       "array([[100,   2,   3],\n",
       "       [  4,   5,   6],\n",
       "       [  7,   8, 200]])"
      ]
     },
     "execution_count": 77,
     "metadata": {},
     "output_type": "execute_result"
    }
   ],
   "source": [
    "C"
   ]
  },
  {
   "cell_type": "markdown",
   "metadata": {},
   "source": [
    "C changed since it doesn't own the values and merely keeps pointers to them unlike B which is completely separate in memory."
   ]
  },
  {
   "cell_type": "code",
   "execution_count": null,
   "metadata": {},
   "outputs": [],
   "source": [
    "D = A[np.newaxis, :, :]\n",
    "C[1,:]=1"
   ]
  },
  {
   "cell_type": "code",
   "execution_count": null,
   "metadata": {},
   "outputs": [
    {
     "data": {
      "text/plain": [
       "array([[100,   2,   3],\n",
       "       [  1,   1,   1],\n",
       "       [  7,   8, 200]])"
      ]
     },
     "execution_count": 80,
     "metadata": {},
     "output_type": "execute_result"
    }
   ],
   "source": [
    "A"
   ]
  },
  {
   "cell_type": "code",
   "execution_count": null,
   "metadata": {},
   "outputs": [
    {
     "data": {
      "text/plain": [
       "array([[[100,   2,   3],\n",
       "        [  1,   1,   1],\n",
       "        [  7,   8, 200]]])"
      ]
     },
     "execution_count": 79,
     "metadata": {},
     "output_type": "execute_result"
    }
   ],
   "source": [
    "D"
   ]
  },
  {
   "cell_type": "markdown",
   "metadata": {},
   "source": [
    "## 4. Subclassing\n",
    "\n",
    "   Implement a custom subclass MyArray, inheriting from np.ndarray.\n",
    "   Add a method norm() that computes the matrix norm using a selected norm type.\n",
    "   Verify the correctness of MyArray and the norm() method for different values."
   ]
  },
  {
   "cell_type": "code",
   "execution_count": null,
   "metadata": {},
   "outputs": [],
   "source": [
    "class MyArray(np.ndarray):\n",
    "    def norm(self, ord=None):\n",
    "        return np.linalg.norm(self, ord=ord)\n",
    "\n",
    "def create_myarray(data):\n",
    "    obj = np.asarray(data).view(MyArray)\n",
    "    return obj\n",
    "\n",
    "my_arr = create_myarray(np.array([[3, 4], [1, 2]]))\n",
    "norm_val = my_arr.norm()"
   ]
  },
  {
   "cell_type": "markdown",
   "metadata": {},
   "source": [
    "## 5. Stride Tricks\n",
    "\n",
    "   Create an array as shown on the left side of the diagram. Using stride_tricks, transform it into the array on the right side of the diagram by swapping the top-right quadrant with the bottom-left."
   ]
  },
  {
   "cell_type": "code",
   "execution_count": null,
   "metadata": {},
   "outputs": [
    {
     "data": {
      "text/plain": [
       "array([[ 1,  2,  9, 10],\n",
       "       [ 5,  6, 13, 14],\n",
       "       [ 3,  4, 11, 12],\n",
       "       [ 7,  8, 15, 16]])"
      ]
     },
     "execution_count": 81,
     "metadata": {},
     "output_type": "execute_result"
    }
   ],
   "source": [
    "original = np.array([[1, 2, 3, 4],\n",
    "                     [5, 6, 7, 8],\n",
    "                     [9, 10, 11, 12],\n",
    "                     [13, 14, 15, 16]])\n",
    "\n",
    "\n",
    "top_left = original[:2, :2]\n",
    "top_right = original[:2, 2:]\n",
    "bottom_left = original[2:, :2]\n",
    "bottom_right = original[2:, 2:]\n",
    "\n",
    "swapped = np.block([[top_left, bottom_left],\n",
    "                    [top_right, bottom_right]])\n",
    "swapped"
   ]
  },
  {
   "cell_type": "markdown",
   "metadata": {},
   "source": [
    "# Bibliography"
   ]
  },
  {
   "cell_type": "markdown",
   "metadata": {},
   "source": [
    "[Internal organization of NumPy arrays](https://numpy.org/doc/stable/dev/internals.html)\n",
    "\n",
    "[Guide to NumPy](https://web.mit.edu/dvp/Public/numpybook.pdf)\n",
    "\n",
    "[NumPy MedKit](https://mentat.za.net/numpy/numpy_advanced_slides/)\n",
    "\n",
    "[Python Fundamentals](https://numpy.org/doc/2.2/user/basics.html)\n",
    "\n",
    "[Copy and View](https://www.w3schools.com/python/numpy/numpy_copy_vs_view.asp)\n",
    "\n",
    "[Subclassing ndarray](https://numpy.org/doc/stable/user/basics.subclassing.html)\n",
    "\n",
    "[Understanding the Difference Between Shallow Copy, Deep Copy, and References in Python](https://www.linkedin.com/pulse/understanding-difference-between-shallow-copy-deep-python-torabi-nnh5e/)"
   ]
  }
 ],
 "metadata": {
  "kernelspec": {
   "display_name": ".env",
   "language": "python",
   "name": "python3"
  },
  "language_info": {
   "codemirror_mode": {
    "name": "ipython",
    "version": 3
   },
   "file_extension": ".py",
   "mimetype": "text/x-python",
   "name": "python",
   "nbconvert_exporter": "python",
   "pygments_lexer": "ipython3",
   "version": "3.12.7"
  }
 },
 "nbformat": 4,
 "nbformat_minor": 2
}
