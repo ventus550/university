{
 "cells": [
  {
   "cell_type": "code",
   "execution_count": 1,
   "id": "3f6a1791",
   "metadata": {},
   "outputs": [],
   "source": [
    "import numpy as np\n",
    "import pandas as pd\n",
    "import matplotlib.pyplot as plt\n",
    "\n",
    "from sklearn.datasets import make_classification\n",
    "from sklearn.model_selection import train_test_split, GridSearchCV\n",
    "from sklearn.pipeline import Pipeline\n",
    "from sklearn.preprocessing import StandardScaler\n",
    "from sklearn.svm import SVC\n",
    "\n",
    "%matplotlib inline"
   ]
  },
  {
   "cell_type": "markdown",
   "id": "175f57e3",
   "metadata": {},
   "source": [
    "## Scikit Pipeline Demo - organizing data processing workflow"
   ]
  },
  {
   "cell_type": "code",
   "execution_count": 2,
   "id": "75007c95",
   "metadata": {},
   "outputs": [],
   "source": [
    "X, y = make_classification(n_samples=100, n_features=20, n_classes=2)"
   ]
  },
  {
   "cell_type": "code",
   "execution_count": 3,
   "id": "ba7f563a",
   "metadata": {},
   "outputs": [],
   "source": [
    "X_train, X_test, y_train, y_test = train_test_split(X, y, test_size=0.25, train_size=0.75)"
   ]
  },
  {
   "cell_type": "code",
   "execution_count": 4,
   "id": "cdf2f3e3",
   "metadata": {},
   "outputs": [
    {
     "name": "stdout",
     "output_type": "stream",
     "text": [
      "1.0\n",
      "0.76\n"
     ]
    }
   ],
   "source": [
    "pipeline = Pipeline([\n",
    "    ('scaler', StandardScaler(with_mean=True, with_std=True)),\n",
    "    ('svc', SVC(C=1.0, kernel='rbf'))\n",
    "])\n",
    "\n",
    "pipeline = pipeline.fit(X_train, y_train)\n",
    "\n",
    "score_train = pipeline.score(X_train, y_train)\n",
    "score_test = pipeline.score(X_test, y_test)\n",
    "\n",
    "print(score_train)\n",
    "print(score_test)"
   ]
  },
  {
   "cell_type": "code",
   "execution_count": 5,
   "id": "1ca92d46",
   "metadata": {},
   "outputs": [
    {
     "name": "stdout",
     "output_type": "stream",
     "text": [
      "0.9466666666666667\n",
      "0.88\n"
     ]
    }
   ],
   "source": [
    "pipeline = Pipeline([\n",
    "    ('scaler', StandardScaler(with_mean=True, with_std=True)),\n",
    "    ('svc', SVC())\n",
    "])\n",
    "\n",
    "pipeline = pipeline.set_params(svc__C=0.5)\n",
    "pipeline = pipeline.set_params(svc__kernel='linear')\n",
    "\n",
    "pipeline = pipeline.fit(X_train, y_train)\n",
    "\n",
    "score_train = pipeline.score(X_train, y_train)\n",
    "score_test = pipeline.score(X_test, y_test)\n",
    "\n",
    "print(score_train)\n",
    "print(score_test)"
   ]
  },
  {
   "cell_type": "markdown",
   "id": "6e8cbf5c",
   "metadata": {},
   "source": [
    "## Scikit GridSearch Demo - optimizing hyperparameters with a simple grid search"
   ]
  },
  {
   "cell_type": "code",
   "execution_count": 6,
   "id": "70a5e369",
   "metadata": {},
   "outputs": [
    {
     "data": {
      "text/plain": [
       "GridSearchCV(estimator=Pipeline(steps=[('scaler', StandardScaler()),\n",
       "                                       ('svc', SVC(C=0.5, kernel='linear'))]),\n",
       "             param_grid={'svc__C': [0.25, 0.5, 0.75, 1, 5, 10, 15, 20, 25],\n",
       "                         'svc__kernel': ('linear', 'rbf')})"
      ]
     },
     "execution_count": 6,
     "metadata": {},
     "output_type": "execute_result"
    }
   ],
   "source": [
    "gs_parameters = {\n",
    "    'svc__C': [0.25, 0.50, 0.75, 1, 5, 10, 15, 20, 25],\n",
    "    'svc__kernel': ('linear', 'rbf')\n",
    "}\n",
    "\n",
    "gs = GridSearchCV(pipeline, gs_parameters)\n",
    "\n",
    "gs.fit(X_train, y_train)"
   ]
  },
  {
   "cell_type": "code",
   "execution_count": 7,
   "id": "a2406e7f",
   "metadata": {},
   "outputs": [
    {
     "data": {
      "text/plain": [
       "{'svc__C': 0.25, 'svc__kernel': 'linear'}"
      ]
     },
     "execution_count": 7,
     "metadata": {},
     "output_type": "execute_result"
    }
   ],
   "source": [
    "gs.best_params_"
   ]
  },
  {
   "cell_type": "code",
   "execution_count": 8,
   "id": "8fa08fa3",
   "metadata": {},
   "outputs": [
    {
     "data": {
      "text/plain": [
       "Pipeline(steps=[('scaler', StandardScaler()),\n",
       "                ('svc', SVC(C=0.25, kernel='linear'))])"
      ]
     },
     "execution_count": 8,
     "metadata": {},
     "output_type": "execute_result"
    }
   ],
   "source": [
    "gs.best_estimator_"
   ]
  },
  {
   "cell_type": "code",
   "execution_count": 9,
   "id": "2794df90",
   "metadata": {},
   "outputs": [
    {
     "name": "stdout",
     "output_type": "stream",
     "text": [
      "0.96\n",
      "0.92\n"
     ]
    }
   ],
   "source": [
    "best_model = gs.best_estimator_\n",
    "\n",
    "best_model = best_model.fit(X_train, y_train)\n",
    "\n",
    "score_train = best_model.score(X_train, y_train)\n",
    "score_test = best_model.score(X_test, y_test)\n",
    "\n",
    "print(score_train)\n",
    "print(score_test)"
   ]
  },
  {
   "cell_type": "code",
   "execution_count": 10,
   "id": "e325e9b0",
   "metadata": {},
   "outputs": [
    {
     "data": {
      "text/plain": [
       "{'mean_fit_time': array([0.0007431 , 0.0006875 , 0.00069399, 0.00069633, 0.00072637,\n",
       "        0.00069613, 0.00073376, 0.00071063, 0.00078444, 0.00071974,\n",
       "        0.00077457, 0.00075827, 0.00083036, 0.00071406, 0.00082779,\n",
       "        0.00071979, 0.00082173, 0.00072775]),\n",
       " 'std_fit_time': array([6.31983571e-05, 1.64122058e-05, 2.80497812e-05, 1.36500415e-05,\n",
       "        4.10511101e-05, 1.59575961e-05, 5.09740037e-05, 6.83326115e-06,\n",
       "        9.76290050e-05, 1.70674401e-05, 5.22756644e-05, 7.81114865e-05,\n",
       "        1.29716483e-04, 1.95381080e-05, 1.25800813e-04, 1.36220284e-05,\n",
       "        1.24708698e-04, 2.32624215e-05]),\n",
       " 'mean_score_time': array([0.00024657, 0.0002728 , 0.00025783, 0.00026727, 0.00024786,\n",
       "        0.00026088, 0.00024991, 0.00026245, 0.00024228, 0.00026612,\n",
       "        0.00025239, 0.00026498, 0.0002521 , 0.0002737 , 0.00024614,\n",
       "        0.00026884, 0.00025859, 0.0002717 ]),\n",
       " 'std_score_time': array([8.86891477e-06, 1.54626167e-05, 1.58562516e-05, 1.50585446e-05,\n",
       "        1.35589549e-05, 1.72849359e-06, 1.55549806e-05, 2.71169037e-06,\n",
       "        8.25548215e-06, 1.34577943e-05, 1.82558275e-05, 5.06795130e-06,\n",
       "        2.57662434e-05, 1.76526378e-05, 1.38007910e-05, 1.39474665e-05,\n",
       "        1.65343585e-05, 1.51072367e-05]),\n",
       " 'param_svc__C': masked_array(data=[0.25, 0.25, 0.5, 0.5, 0.75, 0.75, 1, 1, 5, 5, 10, 10,\n",
       "                    15, 15, 20, 20, 25, 25],\n",
       "              mask=[False, False, False, False, False, False, False, False,\n",
       "                    False, False, False, False, False, False, False, False,\n",
       "                    False, False],\n",
       "        fill_value='?',\n",
       "             dtype=object),\n",
       " 'param_svc__kernel': masked_array(data=['linear', 'rbf', 'linear', 'rbf', 'linear', 'rbf',\n",
       "                    'linear', 'rbf', 'linear', 'rbf', 'linear', 'rbf',\n",
       "                    'linear', 'rbf', 'linear', 'rbf', 'linear', 'rbf'],\n",
       "              mask=[False, False, False, False, False, False, False, False,\n",
       "                    False, False, False, False, False, False, False, False,\n",
       "                    False, False],\n",
       "        fill_value='?',\n",
       "             dtype=object),\n",
       " 'params': [{'svc__C': 0.25, 'svc__kernel': 'linear'},\n",
       "  {'svc__C': 0.25, 'svc__kernel': 'rbf'},\n",
       "  {'svc__C': 0.5, 'svc__kernel': 'linear'},\n",
       "  {'svc__C': 0.5, 'svc__kernel': 'rbf'},\n",
       "  {'svc__C': 0.75, 'svc__kernel': 'linear'},\n",
       "  {'svc__C': 0.75, 'svc__kernel': 'rbf'},\n",
       "  {'svc__C': 1, 'svc__kernel': 'linear'},\n",
       "  {'svc__C': 1, 'svc__kernel': 'rbf'},\n",
       "  {'svc__C': 5, 'svc__kernel': 'linear'},\n",
       "  {'svc__C': 5, 'svc__kernel': 'rbf'},\n",
       "  {'svc__C': 10, 'svc__kernel': 'linear'},\n",
       "  {'svc__C': 10, 'svc__kernel': 'rbf'},\n",
       "  {'svc__C': 15, 'svc__kernel': 'linear'},\n",
       "  {'svc__C': 15, 'svc__kernel': 'rbf'},\n",
       "  {'svc__C': 20, 'svc__kernel': 'linear'},\n",
       "  {'svc__C': 20, 'svc__kernel': 'rbf'},\n",
       "  {'svc__C': 25, 'svc__kernel': 'linear'},\n",
       "  {'svc__C': 25, 'svc__kernel': 'rbf'}],\n",
       " 'split0_test_score': array([0.8       , 0.53333333, 0.8       , 0.73333333, 0.8       ,\n",
       "        0.8       , 0.8       , 0.8       , 0.73333333, 0.73333333,\n",
       "        0.73333333, 0.73333333, 0.73333333, 0.73333333, 0.73333333,\n",
       "        0.73333333, 0.73333333, 0.73333333]),\n",
       " 'split1_test_score': array([0.86666667, 0.6       , 0.93333333, 0.86666667, 0.93333333,\n",
       "        0.86666667, 0.93333333, 0.93333333, 0.93333333, 0.93333333,\n",
       "        0.93333333, 0.93333333, 0.93333333, 0.93333333, 0.93333333,\n",
       "        0.93333333, 0.93333333, 0.93333333]),\n",
       " 'split2_test_score': array([1.        , 0.6       , 0.86666667, 0.66666667, 0.8       ,\n",
       "        0.86666667, 0.8       , 0.86666667, 0.6       , 0.86666667,\n",
       "        0.73333333, 0.86666667, 0.73333333, 0.86666667, 0.73333333,\n",
       "        0.86666667, 0.73333333, 0.86666667]),\n",
       " 'split3_test_score': array([0.8       , 0.6       , 0.66666667, 0.86666667, 0.66666667,\n",
       "        0.93333333, 0.6       , 0.93333333, 0.73333333, 0.93333333,\n",
       "        0.73333333, 0.93333333, 0.73333333, 0.93333333, 0.73333333,\n",
       "        0.93333333, 0.73333333, 0.93333333]),\n",
       " 'split4_test_score': array([0.86666667, 0.6       , 0.8       , 0.86666667, 0.86666667,\n",
       "        0.8       , 0.86666667, 0.8       , 0.86666667, 0.86666667,\n",
       "        0.86666667, 0.86666667, 0.86666667, 0.86666667, 0.86666667,\n",
       "        0.86666667, 0.86666667, 0.86666667]),\n",
       " 'mean_test_score': array([0.86666667, 0.58666667, 0.81333333, 0.8       , 0.81333333,\n",
       "        0.85333333, 0.8       , 0.86666667, 0.77333333, 0.86666667,\n",
       "        0.8       , 0.86666667, 0.8       , 0.86666667, 0.8       ,\n",
       "        0.86666667, 0.8       , 0.86666667]),\n",
       " 'std_test_score': array([0.07302967, 0.02666667, 0.08844333, 0.0843274 , 0.08844333,\n",
       "        0.04988877, 0.11155467, 0.05962848, 0.11623731, 0.07302967,\n",
       "        0.0843274 , 0.07302967, 0.0843274 , 0.07302967, 0.0843274 ,\n",
       "        0.07302967, 0.0843274 , 0.07302967]),\n",
       " 'rank_test_score': array([ 1, 18,  9, 11,  9,  8, 11,  7, 17,  1, 11,  1, 11,  1, 11,  1, 11,\n",
       "         1], dtype=int32)}"
      ]
     },
     "execution_count": 10,
     "metadata": {},
     "output_type": "execute_result"
    }
   ],
   "source": [
    "gs.cv_results_"
   ]
  },
  {
   "cell_type": "markdown",
   "id": "22086133",
   "metadata": {},
   "source": [
    "### Assignments:\n",
    "\n",
    "1. Train all the models on the train dataset (`Pipeline.fit()`), choose the model with the best parameters setting using the validation dataset (`GridSearchCV.fit()`), and finally test the best model on the test dataset (`GridSearchCV.best_estimator_.fit()`). It requires refactoring the part of code with the `train_test_split()` function (it should be run twice: first, for splitting the entire dataset into (temporary) train and test datasets, and second, for splitting the (temporary) train dataset into train and validation datasets).\n",
    "\n",
    "2. Try to use your own scoring function in the grid search (`GridSearchCV(scoring=my_own_scoring)`). As `Pipeline.score()` uses the `score()` method of the final estimator in the pipeline, being `SVC.score()` in our example, it computes the mean accuracy of the classifier. Our dataset may be imbalanced, i.e. one class may occur more frequently than the other, so it would be better to replace the mean accuracy with the F1 score."
   ]
  },
  {
   "cell_type": "markdown",
   "id": "6136b6c3",
   "metadata": {},
   "source": [
    "## Optuna Demo - optimizing hyperparameters with an optimization framework"
   ]
  },
  {
   "cell_type": "code",
   "execution_count": 11,
   "id": "4070f226",
   "metadata": {},
   "outputs": [],
   "source": [
    "# pip install optuna\n",
    "# conda install conda-forge::optuna\n",
    "\n",
    "import optuna"
   ]
  },
  {
   "cell_type": "code",
   "execution_count": 12,
   "id": "c1df1b7c",
   "metadata": {
    "scrolled": false
   },
   "outputs": [
    {
     "name": "stderr",
     "output_type": "stream",
     "text": [
      "\u001b[32m[I 2025-02-13 19:59:47,099]\u001b[0m A new study created in memory with name: no-name-53270093-68b8-427b-942c-7af3fb21076c\u001b[0m\n",
      "\u001b[32m[I 2025-02-13 19:59:47,101]\u001b[0m Trial 0 finished with value: 2.442209960716248 and parameters: {'x': -2.251136138122833}. Best is trial 0 with value: 2.442209960716248.\u001b[0m\n",
      "\u001b[32m[I 2025-02-13 19:59:47,101]\u001b[0m Trial 1 finished with value: 0.8840172242117759 and parameters: {'x': -0.15544903774629404}. Best is trial 1 with value: 0.8840172242117759.\u001b[0m\n",
      "\u001b[32m[I 2025-02-13 19:59:47,102]\u001b[0m Trial 2 finished with value: 0.5690662809736513 and parameters: {'x': 0.031038327213768202}. Best is trial 2 with value: 0.5690662809736513.\u001b[0m\n",
      "\u001b[32m[I 2025-02-13 19:59:47,103]\u001b[0m Trial 3 finished with value: 3.144941166427002 and parameters: {'x': -1.7258707798212531}. Best is trial 2 with value: 0.5690662809736513.\u001b[0m\n",
      "\u001b[32m[I 2025-02-13 19:59:47,103]\u001b[0m Trial 4 finished with value: 2.762684822531169 and parameters: {'x': -2.072562490929962}. Best is trial 2 with value: 0.5690662809736513.\u001b[0m\n",
      "\u001b[32m[I 2025-02-13 19:59:47,104]\u001b[0m Trial 5 finished with value: 3.080573885680639 and parameters: {'x': -1.8173544808936541}. Best is trial 2 with value: 0.5690662809736513.\u001b[0m\n",
      "\u001b[32m[I 2025-02-13 19:59:47,104]\u001b[0m Trial 6 finished with value: 1.1641086405705259 and parameters: {'x': -0.29792840174143986}. Best is trial 2 with value: 0.5690662809736513.\u001b[0m\n",
      "\u001b[32m[I 2025-02-13 19:59:47,105]\u001b[0m Trial 7 finished with value: 0.04756789889683163 and parameters: {'x': 0.6032204600160949}. Best is trial 7 with value: 0.04756789889683163.\u001b[0m\n",
      "\u001b[32m[I 2025-02-13 19:59:47,105]\u001b[0m Trial 8 finished with value: 0.02817373322712231 and parameters: {'x': 1.2638096768729197}. Best is trial 8 with value: 0.02817373322712231.\u001b[0m\n",
      "\u001b[32m[I 2025-02-13 19:59:47,106]\u001b[0m Trial 9 finished with value: 1.3189432181313088 and parameters: {'x': -0.3715438441318417}. Best is trial 8 with value: 0.02817373322712231.\u001b[0m\n",
      "\u001b[32m[I 2025-02-13 19:59:47,108]\u001b[0m Trial 10 finished with value: 0.26343318737771315 and parameters: {'x': 2.86597561842405}. Best is trial 8 with value: 0.02817373322712231.\u001b[0m\n",
      "\u001b[32m[I 2025-02-13 19:59:47,111]\u001b[0m Trial 11 finished with value: 0.042354497305306146 and parameters: {'x': 1.7035569389368952}. Best is trial 8 with value: 0.02817373322712231.\u001b[0m\n",
      "\u001b[32m[I 2025-02-13 19:59:47,114]\u001b[0m Trial 12 finished with value: 0.01013538148078352 and parameters: {'x': 2.052789414676875}. Best is trial 12 with value: 0.01013538148078352.\u001b[0m\n",
      "\u001b[32m[I 2025-02-13 19:59:47,116]\u001b[0m Trial 13 finished with value: 0.01885257381556133 and parameters: {'x': 1.9665589339023892}. Best is trial 12 with value: 0.01013538148078352.\u001b[0m\n",
      "\u001b[32m[I 2025-02-13 19:59:47,118]\u001b[0m Trial 14 finished with value: 0.4790515306907591 and parameters: {'x': 3.048194245389571}. Best is trial 12 with value: 0.01013538148078352.\u001b[0m\n",
      "\u001b[32m[I 2025-02-13 19:59:47,121]\u001b[0m Trial 15 finished with value: 0.026121517715675453 and parameters: {'x': 1.8977668252639215}. Best is trial 12 with value: 0.01013538148078352.\u001b[0m\n",
      "\u001b[32m[I 2025-02-13 19:59:47,123]\u001b[0m Trial 16 finished with value: 0.0013814760740339903 and parameters: {'x': 2.175683301960159}. Best is trial 16 with value: 0.0013814760740339903.\u001b[0m\n",
      "\u001b[32m[I 2025-02-13 19:59:47,126]\u001b[0m Trial 17 finished with value: 0.022472932729393734 and parameters: {'x': 2.452951726924185}. Best is trial 16 with value: 0.0013814760740339903.\u001b[0m\n",
      "\u001b[32m[I 2025-02-13 19:59:47,128]\u001b[0m Trial 18 finished with value: 1.8899956245401147e-06 and parameters: {'x': 0.9055632385366408}. Best is trial 18 with value: 1.8899956245401147e-06.\u001b[0m\n",
      "\u001b[32m[I 2025-02-13 19:59:47,131]\u001b[0m Trial 19 finished with value: 0.0005035829590293013 and parameters: {'x': 0.9404761179963204}. Best is trial 18 with value: 1.8899956245401147e-06.\u001b[0m\n",
      "\u001b[32m[I 2025-02-13 19:59:47,133]\u001b[0m Trial 20 finished with value: 2.789413431798383 and parameters: {'x': -1.085969244632851}. Best is trial 18 with value: 1.8899956245401147e-06.\u001b[0m\n",
      "\u001b[32m[I 2025-02-13 19:59:47,136]\u001b[0m Trial 21 finished with value: 0.006666210615987957 and parameters: {'x': 1.0492404166582026}. Best is trial 18 with value: 1.8899956245401147e-06.\u001b[0m\n",
      "\u001b[32m[I 2025-02-13 19:59:47,138]\u001b[0m Trial 22 finished with value: 0.05858608835949097 and parameters: {'x': 0.5744254352087222}. Best is trial 18 with value: 1.8899956245401147e-06.\u001b[0m\n",
      "\u001b[32m[I 2025-02-13 19:59:47,140]\u001b[0m Trial 23 finished with value: 4.529020873083276e-05 and parameters: {'x': 0.9142875876486869}. Best is trial 18 with value: 1.8899956245401147e-06.\u001b[0m\n",
      "\u001b[32m[I 2025-02-13 19:59:47,143]\u001b[0m Trial 24 finished with value: 0.021161462986432768 and parameters: {'x': 1.1967813690722955}. Best is trial 18 with value: 1.8899956245401147e-06.\u001b[0m\n",
      "\u001b[32m[I 2025-02-13 19:59:47,145]\u001b[0m Trial 25 finished with value: 0.13010741942798584 and parameters: {'x': 0.43862397650343}. Best is trial 18 with value: 1.8899956245401147e-06.\u001b[0m\n",
      "\u001b[32m[I 2025-02-13 19:59:47,148]\u001b[0m Trial 26 finished with value: 0.8561023606624981 and parameters: {'x': -3.0012727982107985}. Best is trial 18 with value: 1.8899956245401147e-06.\u001b[0m\n",
      "\u001b[32m[I 2025-02-13 19:59:47,150]\u001b[0m Trial 27 finished with value: 2.22773651535721 and parameters: {'x': -0.7854765769753197}. Best is trial 18 with value: 1.8899956245401147e-06.\u001b[0m\n",
      "\u001b[32m[I 2025-02-13 19:59:47,153]\u001b[0m Trial 28 finished with value: 0.00018300074700442642 and parameters: {'x': 0.8817777982861126}. Best is trial 18 with value: 1.8899956245401147e-06.\u001b[0m\n",
      "\u001b[32m[I 2025-02-13 19:59:47,155]\u001b[0m Trial 29 finished with value: 0.04235380240916734 and parameters: {'x': 1.4380229611803}. Best is trial 18 with value: 1.8899956245401147e-06.\u001b[0m\n",
      "\u001b[32m[I 2025-02-13 19:59:47,158]\u001b[0m Trial 30 finished with value: 0.361841347031458 and parameters: {'x': 0.1849177278885889}. Best is trial 18 with value: 1.8899956245401147e-06.\u001b[0m\n",
      "\u001b[32m[I 2025-02-13 19:59:47,160]\u001b[0m Trial 31 finished with value: 0.00014182982605414566 and parameters: {'x': 0.8843275088699096}. Best is trial 18 with value: 1.8899956245401147e-06.\u001b[0m\n",
      "\u001b[32m[I 2025-02-13 19:59:47,163]\u001b[0m Trial 32 finished with value: 0.0037745444327435917 and parameters: {'x': 0.8095268284015343}. Best is trial 18 with value: 1.8899956245401147e-06.\u001b[0m\n",
      "\u001b[32m[I 2025-02-13 19:59:47,165]\u001b[0m Trial 33 finished with value: 0.32253243107420554 and parameters: {'x': 0.21923067428041199}. Best is trial 18 with value: 1.8899956245401147e-06.\u001b[0m\n",
      "\u001b[32m[I 2025-02-13 19:59:47,168]\u001b[0m Trial 34 finished with value: 0.04357791105201038 and parameters: {'x': 1.4625898897940395}. Best is trial 18 with value: 1.8899956245401147e-06.\u001b[0m\n",
      "\u001b[32m[I 2025-02-13 19:59:47,170]\u001b[0m Trial 35 finished with value: 1.9330292248586958 and parameters: {'x': -0.6496855533905965}. Best is trial 18 with value: 1.8899956245401147e-06.\u001b[0m\n",
      "\u001b[32m[I 2025-02-13 19:59:47,173]\u001b[0m Trial 36 finished with value: 0.5588065940104757 and parameters: {'x': 0.03787354291801015}. Best is trial 18 with value: 1.8899956245401147e-06.\u001b[0m\n",
      "\u001b[32m[I 2025-02-13 19:59:47,176]\u001b[0m Trial 37 finished with value: 0.0030607489706546954 and parameters: {'x': 0.8184304178188972}. Best is trial 18 with value: 1.8899956245401147e-06.\u001b[0m\n",
      "\u001b[32m[I 2025-02-13 19:59:47,178]\u001b[0m Trial 38 finished with value: 0.04604223044747654 and parameters: {'x': 1.5634067153732578}. Best is trial 18 with value: 1.8899956245401147e-06.\u001b[0m\n",
      "\u001b[32m[I 2025-02-13 19:59:47,181]\u001b[0m Trial 39 finished with value: 0.1309770026317836 and parameters: {'x': 0.43729517279152275}. Best is trial 18 with value: 1.8899956245401147e-06.\u001b[0m\n",
      "\u001b[32m[I 2025-02-13 19:59:47,183]\u001b[0m Trial 40 finished with value: 3.0954514417684167 and parameters: {'x': -1.342226051545937}. Best is trial 18 with value: 1.8899956245401147e-06.\u001b[0m\n",
      "\u001b[32m[I 2025-02-13 19:59:47,186]\u001b[0m Trial 41 finished with value: 0.001369006223173345 and parameters: {'x': 0.9656137611212848}. Best is trial 18 with value: 1.8899956245401147e-06.\u001b[0m\n",
      "\u001b[32m[I 2025-02-13 19:59:47,188]\u001b[0m Trial 42 finished with value: 0.9008510485420529 and parameters: {'x': -0.16447412001464978}. Best is trial 18 with value: 1.8899956245401147e-06.\u001b[0m\n",
      "\u001b[32m[I 2025-02-13 19:59:47,191]\u001b[0m Trial 43 finished with value: 0.0258326840236052 and parameters: {'x': 1.2410473503666029}. Best is trial 18 with value: 1.8899956245401147e-06.\u001b[0m\n",
      "\u001b[32m[I 2025-02-13 19:59:47,193]\u001b[0m Trial 44 finished with value: 0.018722106320686115 and parameters: {'x': 0.7057034374475777}. Best is trial 18 with value: 1.8899956245401147e-06.\u001b[0m\n",
      "\u001b[32m[I 2025-02-13 19:59:47,196]\u001b[0m Trial 45 finished with value: 0.2147488510719764 and parameters: {'x': 0.3278287149992371}. Best is trial 18 with value: 1.8899956245401147e-06.\u001b[0m\n",
      "\u001b[32m[I 2025-02-13 19:59:47,198]\u001b[0m Trial 46 finished with value: 0.012523122450755835 and parameters: {'x': 2.4026707149149136}. Best is trial 18 with value: 1.8899956245401147e-06.\u001b[0m\n",
      "\u001b[32m[I 2025-02-13 19:59:47,200]\u001b[0m Trial 47 finished with value: 0.04400247212316885 and parameters: {'x': 1.6691637427542987}. Best is trial 18 with value: 1.8899956245401147e-06.\u001b[0m\n",
      "\u001b[32m[I 2025-02-13 19:59:47,203]\u001b[0m Trial 48 finished with value: 0.003421651417962803 and parameters: {'x': 1.0044985647797795}. Best is trial 18 with value: 1.8899956245401147e-06.\u001b[0m\n",
      "\u001b[32m[I 2025-02-13 19:59:47,206]\u001b[0m Trial 49 finished with value: 1.2666054969794391 and parameters: {'x': -0.34695680387099403}. Best is trial 18 with value: 1.8899956245401147e-06.\u001b[0m\n",
      "\u001b[32m[I 2025-02-13 19:59:47,208]\u001b[0m Trial 50 finished with value: 0.03731461602000119 and parameters: {'x': 1.3633889170248823}. Best is trial 18 with value: 1.8899956245401147e-06.\u001b[0m\n",
      "\u001b[32m[I 2025-02-13 19:59:47,210]\u001b[0m Trial 51 finished with value: 0.0012037726879837605 and parameters: {'x': 0.9615745544174712}. Best is trial 18 with value: 1.8899956245401147e-06.\u001b[0m\n",
      "\u001b[32m[I 2025-02-13 19:59:47,213]\u001b[0m Trial 52 finished with value: 0.030583982810745824 and parameters: {'x': 0.656711175028829}. Best is trial 18 with value: 1.8899956245401147e-06.\u001b[0m\n",
      "\u001b[32m[I 2025-02-13 19:59:47,215]\u001b[0m Trial 53 finished with value: 0.00795119781991903 and parameters: {'x': 1.0645434831958047}. Best is trial 18 with value: 1.8899956245401147e-06.\u001b[0m\n",
      "\u001b[32m[I 2025-02-13 19:59:47,218]\u001b[0m Trial 54 finished with value: 0.0031171131177560553 and parameters: {'x': 0.8176886862831183}. Best is trial 18 with value: 1.8899956245401147e-06.\u001b[0m\n",
      "\u001b[32m[I 2025-02-13 19:59:47,220]\u001b[0m Trial 55 finished with value: 0.5430213178572655 and parameters: {'x': 0.048517393866971736}. Best is trial 18 with value: 1.8899956245401147e-06.\u001b[0m\n",
      "\u001b[32m[I 2025-02-13 19:59:47,223]\u001b[0m Trial 56 finished with value: 0.03167214401375182 and parameters: {'x': 1.8423144417537074}. Best is trial 18 with value: 1.8899956245401147e-06.\u001b[0m\n",
      "\u001b[32m[I 2025-02-13 19:59:47,225]\u001b[0m Trial 57 finished with value: 0.0002300574850173461 and parameters: {'x': 2.213353826195665}. Best is trial 18 with value: 1.8899956245401147e-06.\u001b[0m\n",
      "\u001b[32m[I 2025-02-13 19:59:47,228]\u001b[0m Trial 58 finished with value: 0.05070254551818913 and parameters: {'x': 2.546934157386705}. Best is trial 18 with value: 1.8899956245401147e-06.\u001b[0m\n",
      "\u001b[32m[I 2025-02-13 19:59:47,230]\u001b[0m Trial 59 finished with value: 0.2541503126074816 and parameters: {'x': 2.8564806507393254}. Best is trial 18 with value: 1.8899956245401147e-06.\u001b[0m\n",
      "\u001b[32m[I 2025-02-13 19:59:47,233]\u001b[0m Trial 60 finished with value: 0.012006582800722969 and parameters: {'x': 2.0332226106013858}. Best is trial 18 with value: 1.8899956245401147e-06.\u001b[0m\n",
      "\u001b[32m[I 2025-02-13 19:59:47,235]\u001b[0m Trial 61 finished with value: 0.017486410536053987 and parameters: {'x': 1.1620865532843845}. Best is trial 18 with value: 1.8899956245401147e-06.\u001b[0m\n",
      "\u001b[32m[I 2025-02-13 19:59:47,238]\u001b[0m Trial 62 finished with value: 0.08210787793447363 and parameters: {'x': 0.522275348518755}. Best is trial 18 with value: 1.8899956245401147e-06.\u001b[0m\n",
      "\u001b[32m[I 2025-02-13 19:59:47,240]\u001b[0m Trial 63 finished with value: 0.03501481811174378 and parameters: {'x': 1.8057693101465921}. Best is trial 18 with value: 1.8899956245401147e-06.\u001b[0m\n",
      "\u001b[32m[I 2025-02-13 19:59:47,243]\u001b[0m Trial 64 finished with value: 0.00155273152038364 and parameters: {'x': 2.171739171743377}. Best is trial 18 with value: 1.8899956245401147e-06.\u001b[0m\n",
      "\u001b[32m[I 2025-02-13 19:59:47,245]\u001b[0m Trial 65 finished with value: 0.033638729818630364 and parameters: {'x': 1.3203697832536494}. Best is trial 18 with value: 1.8899956245401147e-06.\u001b[0m\n",
      "\u001b[32m[I 2025-02-13 19:59:47,248]\u001b[0m Trial 66 finished with value: 0.04513306519556902 and parameters: {'x': 1.505112667625052}. Best is trial 18 with value: 1.8899956245401147e-06.\u001b[0m\n",
      "\u001b[32m[I 2025-02-13 19:59:47,250]\u001b[0m Trial 67 finished with value: 1.2063990816053206e-05 and parameters: {'x': 0.8977476453868812}. Best is trial 18 with value: 1.8899956245401147e-06.\u001b[0m\n",
      "\u001b[32m[I 2025-02-13 19:59:47,253]\u001b[0m Trial 68 finished with value: 0.2444986259346543 and parameters: {'x': 0.29519888736651956}. Best is trial 18 with value: 1.8899956245401147e-06.\u001b[0m\n",
      "\u001b[32m[I 2025-02-13 19:59:47,255]\u001b[0m Trial 69 finished with value: 1.848171739605144 and parameters: {'x': -0.6114760040819416}. Best is trial 18 with value: 1.8899956245401147e-06.\u001b[0m\n",
      "\u001b[32m[I 2025-02-13 19:59:47,258]\u001b[0m Trial 70 finished with value: 1.730159356505763 and parameters: {'x': -2.5830427276123413}. Best is trial 18 with value: 1.8899956245401147e-06.\u001b[0m\n",
      "\u001b[32m[I 2025-02-13 19:59:47,260]\u001b[0m Trial 71 finished with value: 0.00042802882560473275 and parameters: {'x': 0.9375099909584774}. Best is trial 18 with value: 1.8899956245401147e-06.\u001b[0m\n",
      "\u001b[32m[I 2025-02-13 19:59:47,263]\u001b[0m Trial 72 finished with value: 0.0007176749316592474 and parameters: {'x': 0.861175083180149}. Best is trial 18 with value: 1.8899956245401147e-06.\u001b[0m\n",
      "\u001b[32m[I 2025-02-13 19:59:47,265]\u001b[0m Trial 73 finished with value: 0.08024171974239862 and parameters: {'x': 0.5260582686478457}. Best is trial 18 with value: 1.8899956245401147e-06.\u001b[0m\n",
      "\u001b[32m[I 2025-02-13 19:59:47,268]\u001b[0m Trial 74 finished with value: 0.016940661797797418 and parameters: {'x': 1.156884355510734}. Best is trial 18 with value: 1.8899956245401147e-06.\u001b[0m\n",
      "\u001b[32m[I 2025-02-13 19:59:47,270]\u001b[0m Trial 75 finished with value: 0.04498706245292743 and parameters: {'x': 1.6415259689581552}. Best is trial 18 with value: 1.8899956245401147e-06.\u001b[0m\n",
      "\u001b[32m[I 2025-02-13 19:59:47,273]\u001b[0m Trial 76 finished with value: 0.8127912176509131 and parameters: {'x': -0.11641394567825825}. Best is trial 18 with value: 1.8899956245401147e-06.\u001b[0m\n",
      "\u001b[32m[I 2025-02-13 19:59:47,275]\u001b[0m Trial 77 finished with value: 0.0142048452787385 and parameters: {'x': 0.729120614825805}. Best is trial 18 with value: 1.8899956245401147e-06.\u001b[0m\n",
      "\u001b[32m[I 2025-02-13 19:59:47,278]\u001b[0m Trial 78 finished with value: 0.0364564282471028 and parameters: {'x': 1.3528049830256799}. Best is trial 18 with value: 1.8899956245401147e-06.\u001b[0m\n",
      "\u001b[32m[I 2025-02-13 19:59:47,280]\u001b[0m Trial 79 finished with value: 0.3940890702779235 and parameters: {'x': 0.15829324873631612}. Best is trial 18 with value: 1.8899956245401147e-06.\u001b[0m\n",
      "\u001b[32m[I 2025-02-13 19:59:47,283]\u001b[0m Trial 80 finished with value: 0.1578230118807381 and parameters: {'x': 0.3986002634011203}. Best is trial 18 with value: 1.8899956245401147e-06.\u001b[0m\n",
      "\u001b[32m[I 2025-02-13 19:59:47,285]\u001b[0m Trial 81 finished with value: 0.003007798133594568 and parameters: {'x': 0.8191340217924503}. Best is trial 18 with value: 1.8899956245401147e-06.\u001b[0m\n",
      "\u001b[32m[I 2025-02-13 19:59:47,288]\u001b[0m Trial 82 finished with value: 8.466160912548423e-05 and parameters: {'x': 0.8886113872709015}. Best is trial 18 with value: 1.8899956245401147e-06.\u001b[0m\n",
      "\u001b[32m[I 2025-02-13 19:59:47,290]\u001b[0m Trial 83 finished with value: 0.04822711153830684 and parameters: {'x': 0.6013927884115524}. Best is trial 18 with value: 1.8899956245401147e-06.\u001b[0m\n",
      "\u001b[32m[I 2025-02-13 19:59:47,293]\u001b[0m Trial 84 finished with value: 0.0018768014257558652 and parameters: {'x': 0.9768171179820795}. Best is trial 18 with value: 1.8899956245401147e-06.\u001b[0m\n",
      "\u001b[32m[I 2025-02-13 19:59:47,295]\u001b[0m Trial 85 finished with value: 0.022612439961791554 and parameters: {'x': 1.210443563947424}. Best is trial 18 with value: 1.8899956245401147e-06.\u001b[0m\n",
      "\u001b[32m[I 2025-02-13 19:59:47,298]\u001b[0m Trial 86 finished with value: 0.010474631978860881 and parameters: {'x': 1.0924206108723042}. Best is trial 18 with value: 1.8899956245401147e-06.\u001b[0m\n",
      "\u001b[32m[I 2025-02-13 19:59:47,300]\u001b[0m Trial 87 finished with value: 0.034213988594445084 and parameters: {'x': 0.6440361240932522}. Best is trial 18 with value: 1.8899956245401147e-06.\u001b[0m\n",
      "\u001b[32m[I 2025-02-13 19:59:47,303]\u001b[0m Trial 88 finished with value: 0.0008973725201881056 and parameters: {'x': 0.9533409576230666}. Best is trial 18 with value: 1.8899956245401147e-06.\u001b[0m\n",
      "\u001b[32m[I 2025-02-13 19:59:47,306]\u001b[0m Trial 89 finished with value: 0.04325789553922259 and parameters: {'x': 1.4556979290974255}. Best is trial 18 with value: 1.8899956245401147e-06.\u001b[0m\n",
      "\u001b[32m[I 2025-02-13 19:59:47,308]\u001b[0m Trial 90 finished with value: 0.13583508818769818 and parameters: {'x': 0.42996616011689354}. Best is trial 18 with value: 1.8899956245401147e-06.\u001b[0m\n",
      "\u001b[32m[I 2025-02-13 19:59:47,311]\u001b[0m Trial 91 finished with value: 0.0009969016215870278 and parameters: {'x': 0.8538631618672858}. Best is trial 18 with value: 1.8899956245401147e-06.\u001b[0m\n",
      "\u001b[32m[I 2025-02-13 19:59:47,313]\u001b[0m Trial 92 finished with value: 0.0002594375415509157 and parameters: {'x': 0.8777308407675285}. Best is trial 18 with value: 1.8899956245401147e-06.\u001b[0m\n",
      "\u001b[32m[I 2025-02-13 19:59:47,316]\u001b[0m Trial 93 finished with value: 0.026090564368020087 and parameters: {'x': 1.2435277201446637}. Best is trial 18 with value: 1.8899956245401147e-06.\u001b[0m\n",
      "\u001b[32m[I 2025-02-13 19:59:47,318]\u001b[0m Trial 94 finished with value: 0.017395818285905345 and parameters: {'x': 0.7122057695978148}. Best is trial 18 with value: 1.8899956245401147e-06.\u001b[0m\n",
      "\u001b[32m[I 2025-02-13 19:59:47,321]\u001b[0m Trial 95 finished with value: 0.04526946401216914 and parameters: {'x': 1.6313963153703188}. Best is trial 18 with value: 1.8899956245401147e-06.\u001b[0m\n",
      "\u001b[32m[I 2025-02-13 19:59:47,324]\u001b[0m Trial 96 finished with value: 0.37323078088131717 and parameters: {'x': 0.17536951499863132}. Best is trial 18 with value: 1.8899956245401147e-06.\u001b[0m\n",
      "\u001b[32m[I 2025-02-13 19:59:47,326]\u001b[0m Trial 97 finished with value: 0.03736433660969466 and parameters: {'x': 1.777578042122924}. Best is trial 18 with value: 1.8899956245401147e-06.\u001b[0m\n",
      "\u001b[32m[I 2025-02-13 19:59:47,329]\u001b[0m Trial 98 finished with value: 0.011928150046733853 and parameters: {'x': 1.107567133422187}. Best is trial 18 with value: 1.8899956245401147e-06.\u001b[0m\n",
      "\u001b[32m[I 2025-02-13 19:59:47,331]\u001b[0m Trial 99 finished with value: 0.0980411911657923 and parameters: {'x': 0.49187889046570754}. Best is trial 18 with value: 1.8899956245401147e-06.\u001b[0m\n"
     ]
    },
    {
     "data": {
      "text/plain": [
       "{'x': 0.9055632385366408}"
      ]
     },
     "execution_count": 12,
     "metadata": {},
     "output_type": "execute_result"
    }
   ],
   "source": [
    "def objective_function(trial):\n",
    "    x = trial.suggest_float('x', -np.pi, np.pi)\n",
    "    return (np.sin(x) - 0.25 * np.pi) ** 2\n",
    "\n",
    "study = optuna.create_study()\n",
    "\n",
    "study.optimize(objective_function, n_trials=100)\n",
    "\n",
    "study.best_params"
   ]
  },
  {
   "cell_type": "code",
   "execution_count": 13,
   "id": "ba37619b",
   "metadata": {
    "scrolled": true
   },
   "outputs": [
    {
     "name": "stderr",
     "output_type": "stream",
     "text": [
      "\u001b[32m[I 2025-02-13 19:59:47,335]\u001b[0m A new study created in memory with name: no-name-b3297593-9335-4197-bf97-eb3a54514cb0\u001b[0m\n",
      "\u001b[32m[I 2025-02-13 19:59:47,338]\u001b[0m Trial 0 finished with value: 0.88 and parameters: {'svc__C': 5.323579309369189, 'svc__kernel': 'linear'}. Best is trial 0 with value: 0.88.\u001b[0m\n",
      "\u001b[32m[I 2025-02-13 19:59:47,340]\u001b[0m Trial 1 finished with value: 0.88 and parameters: {'svc__C': 3.5098561831395676, 'svc__kernel': 'linear'}. Best is trial 0 with value: 0.88.\u001b[0m\n",
      "\u001b[32m[I 2025-02-13 19:59:47,342]\u001b[0m Trial 2 finished with value: 0.88 and parameters: {'svc__C': 23.063763663898822, 'svc__kernel': 'linear'}. Best is trial 0 with value: 0.88.\u001b[0m\n",
      "\u001b[32m[I 2025-02-13 19:59:47,344]\u001b[0m Trial 3 finished with value: 0.88 and parameters: {'svc__C': 7.5086287363431925, 'svc__kernel': 'linear'}. Best is trial 0 with value: 0.88.\u001b[0m\n",
      "\u001b[32m[I 2025-02-13 19:59:47,347]\u001b[0m Trial 4 finished with value: 0.88 and parameters: {'svc__C': 14.15566399202938, 'svc__kernel': 'linear'}. Best is trial 0 with value: 0.88.\u001b[0m\n",
      "\u001b[32m[I 2025-02-13 19:59:47,350]\u001b[0m Trial 5 finished with value: 0.88 and parameters: {'svc__C': 13.160080986344596, 'svc__kernel': 'linear'}. Best is trial 0 with value: 0.88.\u001b[0m\n",
      "\u001b[32m[I 2025-02-13 19:59:47,352]\u001b[0m Trial 6 finished with value: 0.76 and parameters: {'svc__C': 15.69354425995621, 'svc__kernel': 'rbf'}. Best is trial 0 with value: 0.88.\u001b[0m\n",
      "\u001b[32m[I 2025-02-13 19:59:47,355]\u001b[0m Trial 7 finished with value: 0.88 and parameters: {'svc__C': 17.931736411929755, 'svc__kernel': 'linear'}. Best is trial 0 with value: 0.88.\u001b[0m\n",
      "\u001b[32m[I 2025-02-13 19:59:47,357]\u001b[0m Trial 8 finished with value: 0.76 and parameters: {'svc__C': 7.148396983331623, 'svc__kernel': 'rbf'}. Best is trial 0 with value: 0.88.\u001b[0m\n",
      "\u001b[32m[I 2025-02-13 19:59:47,359]\u001b[0m Trial 9 finished with value: 0.76 and parameters: {'svc__C': 16.92382160944081, 'svc__kernel': 'rbf'}. Best is trial 0 with value: 0.88.\u001b[0m\n",
      "\u001b[32m[I 2025-02-13 19:59:47,362]\u001b[0m Trial 10 finished with value: 0.8 and parameters: {'svc__C': 0.009794238963223734, 'svc__kernel': 'linear'}. Best is trial 0 with value: 0.88.\u001b[0m\n",
      "\u001b[32m[I 2025-02-13 19:59:47,366]\u001b[0m Trial 11 finished with value: 0.8 and parameters: {'svc__C': 1.4046217373349918, 'svc__kernel': 'linear'}. Best is trial 0 with value: 0.88.\u001b[0m\n",
      "\u001b[32m[I 2025-02-13 19:59:47,370]\u001b[0m Trial 12 finished with value: 0.88 and parameters: {'svc__C': 5.418280387228284, 'svc__kernel': 'linear'}. Best is trial 0 with value: 0.88.\u001b[0m\n",
      "\u001b[32m[I 2025-02-13 19:59:47,374]\u001b[0m Trial 13 finished with value: 0.88 and parameters: {'svc__C': 4.662990434306803, 'svc__kernel': 'linear'}. Best is trial 0 with value: 0.88.\u001b[0m\n",
      "\u001b[32m[I 2025-02-13 19:59:47,379]\u001b[0m Trial 14 finished with value: 0.88 and parameters: {'svc__C': 10.228036277157871, 'svc__kernel': 'linear'}. Best is trial 0 with value: 0.88.\u001b[0m\n",
      "\u001b[32m[I 2025-02-13 19:59:47,383]\u001b[0m Trial 15 finished with value: 0.76 and parameters: {'svc__C': 2.9112676762276237, 'svc__kernel': 'rbf'}. Best is trial 0 with value: 0.88.\u001b[0m\n",
      "\u001b[32m[I 2025-02-13 19:59:47,388]\u001b[0m Trial 16 finished with value: 0.88 and parameters: {'svc__C': 10.547726612725643, 'svc__kernel': 'linear'}. Best is trial 0 with value: 0.88.\u001b[0m\n",
      "\u001b[32m[I 2025-02-13 19:59:47,392]\u001b[0m Trial 17 finished with value: 0.88 and parameters: {'svc__C': 9.730107470279759, 'svc__kernel': 'linear'}. Best is trial 0 with value: 0.88.\u001b[0m\n",
      "\u001b[32m[I 2025-02-13 19:59:47,396]\u001b[0m Trial 18 finished with value: 0.76 and parameters: {'svc__C': 10.289527715214913, 'svc__kernel': 'rbf'}. Best is trial 0 with value: 0.88.\u001b[0m\n",
      "\u001b[32m[I 2025-02-13 19:59:47,400]\u001b[0m Trial 19 finished with value: 0.88 and parameters: {'svc__C': 4.044557855209607, 'svc__kernel': 'linear'}. Best is trial 0 with value: 0.88.\u001b[0m\n",
      "\u001b[32m[I 2025-02-13 19:59:47,404]\u001b[0m Trial 20 finished with value: 0.88 and parameters: {'svc__C': 20.695242671390908, 'svc__kernel': 'linear'}. Best is trial 0 with value: 0.88.\u001b[0m\n",
      "\u001b[32m[I 2025-02-13 19:59:47,409]\u001b[0m Trial 21 finished with value: 0.88 and parameters: {'svc__C': 10.105050447485418, 'svc__kernel': 'linear'}. Best is trial 0 with value: 0.88.\u001b[0m\n",
      "\u001b[32m[I 2025-02-13 19:59:47,414]\u001b[0m Trial 22 finished with value: 0.88 and parameters: {'svc__C': 7.650741756869831, 'svc__kernel': 'linear'}. Best is trial 0 with value: 0.88.\u001b[0m\n",
      "\u001b[32m[I 2025-02-13 19:59:47,418]\u001b[0m Trial 23 finished with value: 0.88 and parameters: {'svc__C': 24.741408015220053, 'svc__kernel': 'linear'}. Best is trial 0 with value: 0.88.\u001b[0m\n",
      "\u001b[32m[I 2025-02-13 19:59:47,422]\u001b[0m Trial 24 finished with value: 0.88 and parameters: {'svc__C': 21.32432277263812, 'svc__kernel': 'linear'}. Best is trial 0 with value: 0.88.\u001b[0m\n",
      "\u001b[32m[I 2025-02-13 19:59:47,426]\u001b[0m Trial 25 finished with value: 0.88 and parameters: {'svc__C': 7.369193706765496, 'svc__kernel': 'linear'}. Best is trial 0 with value: 0.88.\u001b[0m\n",
      "\u001b[32m[I 2025-02-13 19:59:47,430]\u001b[0m Trial 26 finished with value: 0.88 and parameters: {'svc__C': 6.183389950126919, 'svc__kernel': 'linear'}. Best is trial 0 with value: 0.88.\u001b[0m\n",
      "\u001b[32m[I 2025-02-13 19:59:47,434]\u001b[0m Trial 27 finished with value: 0.76 and parameters: {'svc__C': 24.975594965183653, 'svc__kernel': 'rbf'}. Best is trial 0 with value: 0.88.\u001b[0m\n",
      "\u001b[32m[I 2025-02-13 19:59:47,438]\u001b[0m Trial 28 finished with value: 0.88 and parameters: {'svc__C': 21.412321879847095, 'svc__kernel': 'linear'}. Best is trial 0 with value: 0.88.\u001b[0m\n",
      "\u001b[32m[I 2025-02-13 19:59:47,442]\u001b[0m Trial 29 finished with value: 0.88 and parameters: {'svc__C': 5.904251707447718, 'svc__kernel': 'linear'}. Best is trial 0 with value: 0.88.\u001b[0m\n",
      "\u001b[32m[I 2025-02-13 19:59:47,446]\u001b[0m Trial 30 finished with value: 0.88 and parameters: {'svc__C': 2.9064039831346555, 'svc__kernel': 'linear'}. Best is trial 0 with value: 0.88.\u001b[0m\n",
      "\u001b[32m[I 2025-02-13 19:59:47,450]\u001b[0m Trial 31 finished with value: 0.88 and parameters: {'svc__C': 8.398921152106528, 'svc__kernel': 'linear'}. Best is trial 0 with value: 0.88.\u001b[0m\n",
      "\u001b[32m[I 2025-02-13 19:59:47,455]\u001b[0m Trial 32 finished with value: 0.88 and parameters: {'svc__C': 5.695989050278114, 'svc__kernel': 'linear'}. Best is trial 0 with value: 0.88.\u001b[0m\n",
      "\u001b[32m[I 2025-02-13 19:59:47,459]\u001b[0m Trial 33 finished with value: 0.84 and parameters: {'svc__C': 2.5435850660023345, 'svc__kernel': 'linear'}. Best is trial 0 with value: 0.88.\u001b[0m\n",
      "\u001b[32m[I 2025-02-13 19:59:47,463]\u001b[0m Trial 34 finished with value: 0.88 and parameters: {'svc__C': 8.567569334584942, 'svc__kernel': 'linear'}. Best is trial 0 with value: 0.88.\u001b[0m\n",
      "\u001b[32m[I 2025-02-13 19:59:47,467]\u001b[0m Trial 35 finished with value: 0.8 and parameters: {'svc__C': 1.560568116610975, 'svc__kernel': 'linear'}. Best is trial 0 with value: 0.88.\u001b[0m\n",
      "\u001b[32m[I 2025-02-13 19:59:47,472]\u001b[0m Trial 36 finished with value: 0.88 and parameters: {'svc__C': 12.410521621667485, 'svc__kernel': 'linear'}. Best is trial 0 with value: 0.88.\u001b[0m\n",
      "\u001b[32m[I 2025-02-13 19:59:47,477]\u001b[0m Trial 37 finished with value: 0.88 and parameters: {'svc__C': 8.57525569120756, 'svc__kernel': 'linear'}. Best is trial 0 with value: 0.88.\u001b[0m\n",
      "\u001b[32m[I 2025-02-13 19:59:47,481]\u001b[0m Trial 38 finished with value: 0.76 and parameters: {'svc__C': 18.8357776934318, 'svc__kernel': 'rbf'}. Best is trial 0 with value: 0.88.\u001b[0m\n",
      "\u001b[32m[I 2025-02-13 19:59:47,486]\u001b[0m Trial 39 finished with value: 0.88 and parameters: {'svc__C': 14.333711568194461, 'svc__kernel': 'linear'}. Best is trial 0 with value: 0.88.\u001b[0m\n",
      "\u001b[32m[I 2025-02-13 19:59:47,490]\u001b[0m Trial 40 finished with value: 0.88 and parameters: {'svc__C': 13.08356262815318, 'svc__kernel': 'linear'}. Best is trial 0 with value: 0.88.\u001b[0m\n",
      "\u001b[32m[I 2025-02-13 19:59:47,495]\u001b[0m Trial 41 finished with value: 0.88 and parameters: {'svc__C': 24.950611344452696, 'svc__kernel': 'linear'}. Best is trial 0 with value: 0.88.\u001b[0m\n",
      "\u001b[32m[I 2025-02-13 19:59:47,499]\u001b[0m Trial 42 finished with value: 0.88 and parameters: {'svc__C': 22.766334067119384, 'svc__kernel': 'linear'}. Best is trial 0 with value: 0.88.\u001b[0m\n",
      "\u001b[32m[I 2025-02-13 19:59:47,503]\u001b[0m Trial 43 finished with value: 0.88 and parameters: {'svc__C': 24.74602018517343, 'svc__kernel': 'linear'}. Best is trial 0 with value: 0.88.\u001b[0m\n",
      "\u001b[32m[I 2025-02-13 19:59:47,507]\u001b[0m Trial 44 finished with value: 0.88 and parameters: {'svc__C': 7.201446902058298, 'svc__kernel': 'linear'}. Best is trial 0 with value: 0.88.\u001b[0m\n",
      "\u001b[32m[I 2025-02-13 19:59:47,512]\u001b[0m Trial 45 finished with value: 0.88 and parameters: {'svc__C': 23.272076588926403, 'svc__kernel': 'linear'}. Best is trial 0 with value: 0.88.\u001b[0m\n",
      "\u001b[32m[I 2025-02-13 19:59:47,516]\u001b[0m Trial 46 finished with value: 0.76 and parameters: {'svc__C': 19.78751703427033, 'svc__kernel': 'rbf'}. Best is trial 0 with value: 0.88.\u001b[0m\n",
      "\u001b[32m[I 2025-02-13 19:59:47,520]\u001b[0m Trial 47 finished with value: 0.88 and parameters: {'svc__C': 23.27583361181872, 'svc__kernel': 'linear'}. Best is trial 0 with value: 0.88.\u001b[0m\n",
      "\u001b[32m[I 2025-02-13 19:59:47,525]\u001b[0m Trial 48 finished with value: 0.88 and parameters: {'svc__C': 16.906723054782507, 'svc__kernel': 'linear'}. Best is trial 0 with value: 0.88.\u001b[0m\n",
      "\u001b[32m[I 2025-02-13 19:59:47,529]\u001b[0m Trial 49 finished with value: 0.88 and parameters: {'svc__C': 11.91638256067428, 'svc__kernel': 'linear'}. Best is trial 0 with value: 0.88.\u001b[0m\n",
      "\u001b[32m[I 2025-02-13 19:59:47,534]\u001b[0m Trial 50 finished with value: 0.76 and parameters: {'svc__C': 16.53533362779608, 'svc__kernel': 'rbf'}. Best is trial 0 with value: 0.88.\u001b[0m\n",
      "\u001b[32m[I 2025-02-13 19:59:47,538]\u001b[0m Trial 51 finished with value: 0.88 and parameters: {'svc__C': 5.646834715710863, 'svc__kernel': 'linear'}. Best is trial 0 with value: 0.88.\u001b[0m\n",
      "\u001b[32m[I 2025-02-13 19:59:47,542]\u001b[0m Trial 52 finished with value: 0.88 and parameters: {'svc__C': 4.22956621004429, 'svc__kernel': 'linear'}. Best is trial 0 with value: 0.88.\u001b[0m\n",
      "\u001b[32m[I 2025-02-13 19:59:47,546]\u001b[0m Trial 53 finished with value: 0.92 and parameters: {'svc__C': 0.5823161354425519, 'svc__kernel': 'linear'}. Best is trial 53 with value: 0.92.\u001b[0m\n",
      "\u001b[32m[I 2025-02-13 19:59:47,550]\u001b[0m Trial 54 finished with value: 0.88 and parameters: {'svc__C': 0.34369748529081434, 'svc__kernel': 'linear'}. Best is trial 53 with value: 0.92.\u001b[0m\n",
      "\u001b[32m[I 2025-02-13 19:59:47,554]\u001b[0m Trial 55 finished with value: 0.88 and parameters: {'svc__C': 3.2834001549719547, 'svc__kernel': 'linear'}. Best is trial 53 with value: 0.92.\u001b[0m\n",
      "\u001b[32m[I 2025-02-13 19:59:47,558]\u001b[0m Trial 56 finished with value: 0.8 and parameters: {'svc__C': 1.2985926428646213, 'svc__kernel': 'linear'}. Best is trial 53 with value: 0.92.\u001b[0m\n",
      "\u001b[32m[I 2025-02-13 19:59:47,563]\u001b[0m Trial 57 finished with value: 0.88 and parameters: {'svc__C': 2.9059767201831113, 'svc__kernel': 'linear'}. Best is trial 53 with value: 0.92.\u001b[0m\n",
      "\u001b[32m[I 2025-02-13 19:59:47,567]\u001b[0m Trial 58 finished with value: 0.88 and parameters: {'svc__C': 5.175000468421627, 'svc__kernel': 'linear'}. Best is trial 53 with value: 0.92.\u001b[0m\n",
      "\u001b[32m[I 2025-02-13 19:59:47,571]\u001b[0m Trial 59 finished with value: 0.84 and parameters: {'svc__C': 2.5685481427260743, 'svc__kernel': 'linear'}. Best is trial 53 with value: 0.92.\u001b[0m\n",
      "\u001b[32m[I 2025-02-13 19:59:47,575]\u001b[0m Trial 60 finished with value: 0.88 and parameters: {'svc__C': 4.948664891139683, 'svc__kernel': 'linear'}. Best is trial 53 with value: 0.92.\u001b[0m\n",
      "\u001b[32m[I 2025-02-13 19:59:47,580]\u001b[0m Trial 61 finished with value: 0.88 and parameters: {'svc__C': 8.861673336405191, 'svc__kernel': 'linear'}. Best is trial 53 with value: 0.92.\u001b[0m\n",
      "\u001b[32m[I 2025-02-13 19:59:47,585]\u001b[0m Trial 62 finished with value: 0.88 and parameters: {'svc__C': 11.231461077133652, 'svc__kernel': 'linear'}. Best is trial 53 with value: 0.92.\u001b[0m\n",
      "\u001b[32m[I 2025-02-13 19:59:47,590]\u001b[0m Trial 63 finished with value: 0.88 and parameters: {'svc__C': 9.485095629508146, 'svc__kernel': 'linear'}. Best is trial 53 with value: 0.92.\u001b[0m\n",
      "\u001b[32m[I 2025-02-13 19:59:47,595]\u001b[0m Trial 64 finished with value: 0.88 and parameters: {'svc__C': 12.045242092220516, 'svc__kernel': 'linear'}. Best is trial 53 with value: 0.92.\u001b[0m\n",
      "\u001b[32m[I 2025-02-13 19:59:47,599]\u001b[0m Trial 65 finished with value: 0.88 and parameters: {'svc__C': 8.492821133420136, 'svc__kernel': 'linear'}. Best is trial 53 with value: 0.92.\u001b[0m\n",
      "\u001b[32m[I 2025-02-13 19:59:47,604]\u001b[0m Trial 66 finished with value: 0.76 and parameters: {'svc__C': 11.82703647706688, 'svc__kernel': 'rbf'}. Best is trial 53 with value: 0.92.\u001b[0m\n",
      "\u001b[32m[I 2025-02-13 19:59:47,608]\u001b[0m Trial 67 finished with value: 0.88 and parameters: {'svc__C': 6.481504515032569, 'svc__kernel': 'linear'}. Best is trial 53 with value: 0.92.\u001b[0m\n",
      "\u001b[32m[I 2025-02-13 19:59:47,612]\u001b[0m Trial 68 finished with value: 0.88 and parameters: {'svc__C': 15.401701642366753, 'svc__kernel': 'linear'}. Best is trial 53 with value: 0.92.\u001b[0m\n",
      "\u001b[32m[I 2025-02-13 19:59:47,618]\u001b[0m Trial 69 finished with value: 0.88 and parameters: {'svc__C': 13.77063940072614, 'svc__kernel': 'linear'}. Best is trial 53 with value: 0.92.\u001b[0m\n",
      "\u001b[32m[I 2025-02-13 19:59:47,622]\u001b[0m Trial 70 finished with value: 0.88 and parameters: {'svc__C': 14.92355278492354, 'svc__kernel': 'linear'}. Best is trial 53 with value: 0.92.\u001b[0m\n",
      "\u001b[32m[I 2025-02-13 19:59:47,627]\u001b[0m Trial 71 finished with value: 0.88 and parameters: {'svc__C': 13.331149495362084, 'svc__kernel': 'linear'}. Best is trial 53 with value: 0.92.\u001b[0m\n",
      "\u001b[32m[I 2025-02-13 19:59:47,632]\u001b[0m Trial 72 finished with value: 0.88 and parameters: {'svc__C': 15.204007985265426, 'svc__kernel': 'linear'}. Best is trial 53 with value: 0.92.\u001b[0m\n",
      "\u001b[32m[I 2025-02-13 19:59:47,636]\u001b[0m Trial 73 finished with value: 0.88 and parameters: {'svc__C': 23.977293802844223, 'svc__kernel': 'linear'}. Best is trial 53 with value: 0.92.\u001b[0m\n",
      "\u001b[32m[I 2025-02-13 19:59:47,640]\u001b[0m Trial 74 finished with value: 0.88 and parameters: {'svc__C': 22.576962768009462, 'svc__kernel': 'linear'}. Best is trial 53 with value: 0.92.\u001b[0m\n",
      "\u001b[32m[I 2025-02-13 19:59:47,645]\u001b[0m Trial 75 finished with value: 0.88 and parameters: {'svc__C': 23.713730138454284, 'svc__kernel': 'linear'}. Best is trial 53 with value: 0.92.\u001b[0m\n",
      "\u001b[32m[I 2025-02-13 19:59:47,649]\u001b[0m Trial 76 finished with value: 0.88 and parameters: {'svc__C': 22.439828849800573, 'svc__kernel': 'linear'}. Best is trial 53 with value: 0.92.\u001b[0m\n",
      "\u001b[32m[I 2025-02-13 19:59:47,653]\u001b[0m Trial 77 finished with value: 0.8 and parameters: {'svc__C': 1.5764449840062933, 'svc__kernel': 'linear'}. Best is trial 53 with value: 0.92.\u001b[0m\n",
      "\u001b[32m[I 2025-02-13 19:59:47,657]\u001b[0m Trial 78 finished with value: 0.76 and parameters: {'svc__C': 6.488834563669309, 'svc__kernel': 'rbf'}. Best is trial 53 with value: 0.92.\u001b[0m\n",
      "\u001b[32m[I 2025-02-13 19:59:47,662]\u001b[0m Trial 79 finished with value: 0.92 and parameters: {'svc__C': 0.05098415724412386, 'svc__kernel': 'linear'}. Best is trial 53 with value: 0.92.\u001b[0m\n",
      "\u001b[32m[I 2025-02-13 19:59:47,666]\u001b[0m Trial 80 finished with value: 0.88 and parameters: {'svc__C': 0.3863036826089052, 'svc__kernel': 'linear'}. Best is trial 53 with value: 0.92.\u001b[0m\n",
      "\u001b[32m[I 2025-02-13 19:59:47,670]\u001b[0m Trial 81 finished with value: 0.88 and parameters: {'svc__C': 0.5203222435437761, 'svc__kernel': 'linear'}. Best is trial 53 with value: 0.92.\u001b[0m\n",
      "\u001b[32m[I 2025-02-13 19:59:47,674]\u001b[0m Trial 82 finished with value: 0.88 and parameters: {'svc__C': 3.881852142834767, 'svc__kernel': 'linear'}. Best is trial 53 with value: 0.92.\u001b[0m\n",
      "\u001b[32m[I 2025-02-13 19:59:47,678]\u001b[0m Trial 83 finished with value: 0.88 and parameters: {'svc__C': 4.545089537819156, 'svc__kernel': 'linear'}. Best is trial 53 with value: 0.92.\u001b[0m\n",
      "\u001b[32m[I 2025-02-13 19:59:47,683]\u001b[0m Trial 84 finished with value: 0.88 and parameters: {'svc__C': 3.4789292075277274, 'svc__kernel': 'linear'}. Best is trial 53 with value: 0.92.\u001b[0m\n",
      "\u001b[32m[I 2025-02-13 19:59:47,687]\u001b[0m Trial 85 finished with value: 0.8 and parameters: {'svc__C': 1.832746209088773, 'svc__kernel': 'linear'}. Best is trial 53 with value: 0.92.\u001b[0m\n",
      "\u001b[32m[I 2025-02-13 19:59:47,691]\u001b[0m Trial 86 finished with value: 0.88 and parameters: {'svc__C': 3.3265820487757445, 'svc__kernel': 'linear'}. Best is trial 53 with value: 0.92.\u001b[0m\n",
      "\u001b[32m[I 2025-02-13 19:59:47,695]\u001b[0m Trial 87 finished with value: 0.88 and parameters: {'svc__C': 4.686818606896612, 'svc__kernel': 'linear'}. Best is trial 53 with value: 0.92.\u001b[0m\n",
      "\u001b[32m[I 2025-02-13 19:59:47,700]\u001b[0m Trial 88 finished with value: 0.84 and parameters: {'svc__C': 2.271665689466794, 'svc__kernel': 'linear'}. Best is trial 53 with value: 0.92.\u001b[0m\n",
      "\u001b[32m[I 2025-02-13 19:59:47,704]\u001b[0m Trial 89 finished with value: 0.96 and parameters: {'svc__C': 0.038870767685469064, 'svc__kernel': 'linear'}. Best is trial 89 with value: 0.96.\u001b[0m\n",
      "\u001b[32m[I 2025-02-13 19:59:47,709]\u001b[0m Trial 90 finished with value: 0.88 and parameters: {'svc__C': 11.04416575178046, 'svc__kernel': 'linear'}. Best is trial 89 with value: 0.96.\u001b[0m\n",
      "\u001b[32m[I 2025-02-13 19:59:47,713]\u001b[0m Trial 91 finished with value: 0.88 and parameters: {'svc__C': 5.088975438543186, 'svc__kernel': 'linear'}. Best is trial 89 with value: 0.96.\u001b[0m\n",
      "\u001b[32m[I 2025-02-13 19:59:47,717]\u001b[0m Trial 92 finished with value: 0.84 and parameters: {'svc__C': 2.097305623274112, 'svc__kernel': 'linear'}. Best is trial 89 with value: 0.96.\u001b[0m\n",
      "\u001b[32m[I 2025-02-13 19:59:47,722]\u001b[0m Trial 93 finished with value: 0.88 and parameters: {'svc__C': 24.4301150294176, 'svc__kernel': 'linear'}. Best is trial 89 with value: 0.96.\u001b[0m\n",
      "\u001b[32m[I 2025-02-13 19:59:47,726]\u001b[0m Trial 94 finished with value: 0.8 and parameters: {'svc__C': 1.2374619480571454, 'svc__kernel': 'linear'}. Best is trial 89 with value: 0.96.\u001b[0m\n",
      "\u001b[32m[I 2025-02-13 19:59:47,731]\u001b[0m Trial 95 finished with value: 0.88 and parameters: {'svc__C': 9.235330535702419, 'svc__kernel': 'linear'}. Best is trial 89 with value: 0.96.\u001b[0m\n",
      "\u001b[32m[I 2025-02-13 19:59:47,735]\u001b[0m Trial 96 finished with value: 0.76 and parameters: {'svc__C': 10.801467493944086, 'svc__kernel': 'rbf'}. Best is trial 89 with value: 0.96.\u001b[0m\n",
      "\u001b[32m[I 2025-02-13 19:59:47,741]\u001b[0m Trial 97 finished with value: 0.88 and parameters: {'svc__C': 11.341761145667729, 'svc__kernel': 'linear'}. Best is trial 89 with value: 0.96.\u001b[0m\n",
      "\u001b[32m[I 2025-02-13 19:59:47,745]\u001b[0m Trial 98 finished with value: 0.88 and parameters: {'svc__C': 9.342059873716929, 'svc__kernel': 'linear'}. Best is trial 89 with value: 0.96.\u001b[0m\n",
      "\u001b[32m[I 2025-02-13 19:59:47,750]\u001b[0m Trial 99 finished with value: 0.88 and parameters: {'svc__C': 8.085433868031327, 'svc__kernel': 'linear'}. Best is trial 89 with value: 0.96.\u001b[0m\n"
     ]
    },
    {
     "data": {
      "text/plain": [
       "{'svc__C': 0.038870767685469064, 'svc__kernel': 'linear'}"
      ]
     },
     "execution_count": 13,
     "metadata": {},
     "output_type": "execute_result"
    }
   ],
   "source": [
    "def objective_function(trial):\n",
    "    svc_C = trial.suggest_float('svc__C', 0, 25)\n",
    "    svc_kernel = trial.suggest_categorical('svc__kernel', ['linear', 'rbf'])\n",
    "\n",
    "    pipeline = Pipeline([\n",
    "        ('scaler', StandardScaler(with_mean=True, with_std=True)),\n",
    "        ('svc', SVC())\n",
    "    ])\n",
    "\n",
    "    pipeline = pipeline.set_params(svc__C=svc_C)\n",
    "    pipeline = pipeline.set_params(svc__kernel=svc_kernel)\n",
    "\n",
    "    pipeline = pipeline.fit(X_train, y_train)\n",
    "\n",
    "    score_test = pipeline.score(X_test, y_test)\n",
    "\n",
    "    return score_test\n",
    "\n",
    "study = optuna.create_study(direction='maximize')\n",
    "\n",
    "study.optimize(objective_function, n_trials=100)\n",
    "\n",
    "study.best_params"
   ]
  },
  {
   "cell_type": "code",
   "execution_count": 14,
   "id": "185ac894",
   "metadata": {},
   "outputs": [
    {
     "name": "stdout",
     "output_type": "stream",
     "text": [
      "0.9333333333333333\n",
      "0.96\n"
     ]
    }
   ],
   "source": [
    "# svc_C = study.best_params['svc__C']\n",
    "# svc_kernel = study.best_params['svc__kernel']\n",
    "\n",
    "# best_model = Pipeline([\n",
    "#         ('scaler', StandardScaler(with_mean=True, with_std=True)),\n",
    "#         ('svc', SVC(C=svc_C, kernel=svc_kernel))\n",
    "#     ])\n",
    "\n",
    "best_model = Pipeline([\n",
    "        ('scaler', StandardScaler(with_mean=True, with_std=True)),\n",
    "        ('svc', SVC())\n",
    "    ])\n",
    "\n",
    "best_model.set_params(**study.best_params)\n",
    "\n",
    "best_model = best_model.fit(X_train, y_train)\n",
    "\n",
    "score_train = best_model.score(X_train, y_train)\n",
    "score_test = best_model.score(X_test, y_test)\n",
    "\n",
    "print(score_train)\n",
    "print(score_test)"
   ]
  },
  {
   "cell_type": "code",
   "execution_count": null,
   "id": "f2572bfd",
   "metadata": {},
   "outputs": [],
   "source": []
  }
 ],
 "metadata": {
  "kernelspec": {
   "display_name": "research",
   "language": "python",
   "name": "research"
  },
  "language_info": {
   "codemirror_mode": {
    "name": "ipython",
    "version": 3
   },
   "file_extension": ".py",
   "mimetype": "text/x-python",
   "name": "python",
   "nbconvert_exporter": "python",
   "pygments_lexer": "ipython3",
   "version": "3.8.13"
  }
 },
 "nbformat": 4,
 "nbformat_minor": 5
}
