{
 "cells": [
  {
   "cell_type": "code",
   "execution_count": 1,
   "id": "b810ad58",
   "metadata": {},
   "outputs": [],
   "source": [
    "import numpy as np\n",
    "import math\n",
    "import random"
   ]
  },
  {
   "cell_type": "markdown",
   "id": "8e563e56",
   "metadata": {},
   "source": [
    "## Numba JIT (on CPU)\n",
    "\n",
    "The numba.jit() decorator indicates the function to optimize with the Numba Just-In-Time compiler. See also numba.njit() decorator."
   ]
  },
  {
   "cell_type": "code",
   "execution_count": 2,
   "id": "428f800f",
   "metadata": {},
   "outputs": [],
   "source": [
    "from numba import jit\n",
    "# from numba import njit"
   ]
  },
  {
   "cell_type": "code",
   "execution_count": 3,
   "id": "be509f7b",
   "metadata": {},
   "outputs": [],
   "source": [
    "@jit\n",
    "def test01(x, y):\n",
    "    x = abs(x)\n",
    "    y = abs(y)\n",
    "    x1 = min(x, y)\n",
    "    y1 = max(x, y)\n",
    "    z = y1 / x1\n",
    "    return math.sqrt(z*z + 1)"
   ]
  },
  {
   "cell_type": "code",
   "execution_count": 4,
   "id": "46782994",
   "metadata": {},
   "outputs": [
    {
     "name": "stdout",
     "output_type": "stream",
     "text": [
      "376 ns ± 4.1 ns per loop (mean ± std. dev. of 7 runs, 1,000,000 loops each)\n"
     ]
    }
   ],
   "source": [
    "%timeit test01.py_func(10.0, 20.0)"
   ]
  },
  {
   "cell_type": "code",
   "execution_count": 5,
   "id": "73b3f8cb",
   "metadata": {},
   "outputs": [
    {
     "name": "stdout",
     "output_type": "stream",
     "text": [
      "The slowest run took 20.44 times longer than the fastest. This could mean that an intermediate result is being cached.\n",
      "1.2 μs ± 2.02 μs per loop (mean ± std. dev. of 7 runs, 1 loop each)\n"
     ]
    }
   ],
   "source": [
    "%timeit test01(10.0, 20.0)"
   ]
  },
  {
   "cell_type": "code",
   "execution_count": 6,
   "id": "fbabcdf0",
   "metadata": {},
   "outputs": [],
   "source": [
    "@jit\n",
    "def test02(n):\n",
    "    s = 0\n",
    "    for i in range(n):\n",
    "        x = random.random()\n",
    "        y = random.random()\n",
    "        if (x**2 + y**2) < 1.0:\n",
    "            s += 1\n",
    "    pi = s / (0.25 * n)\n",
    "    return pi"
   ]
  },
  {
   "cell_type": "code",
   "execution_count": 7,
   "id": "14b42b17",
   "metadata": {},
   "outputs": [
    {
     "name": "stdout",
     "output_type": "stream",
     "text": [
      "221 μs ± 3.12 μs per loop (mean ± std. dev. of 7 runs, 1,000 loops each)\n"
     ]
    }
   ],
   "source": [
    "%timeit test02.py_func(1000)"
   ]
  },
  {
   "cell_type": "code",
   "execution_count": 8,
   "id": "7afcca43",
   "metadata": {},
   "outputs": [
    {
     "name": "stdout",
     "output_type": "stream",
     "text": [
      "5.86 μs ± 31.5 ns per loop (mean ± std. dev. of 7 runs, 100,000 loops each)\n"
     ]
    }
   ],
   "source": [
    "%timeit test02(1000)"
   ]
  },
  {
   "cell_type": "markdown",
   "id": "cb4e4108",
   "metadata": {},
   "source": [
    "## Numba Vectorize (on CPU or on GPU)"
   ]
  },
  {
   "cell_type": "code",
   "execution_count": 9,
   "id": "855f7572",
   "metadata": {},
   "outputs": [],
   "source": [
    "from numba import cuda\n",
    "from numba import vectorize"
   ]
  },
  {
   "cell_type": "code",
   "execution_count": 10,
   "id": "de3b9daf",
   "metadata": {},
   "outputs": [],
   "source": [
    "d = 1000\n",
    "x = np.random.rand(d).astype(np.float32)\n",
    "y = np.random.rand(d).astype(np.float32)"
   ]
  },
  {
   "cell_type": "code",
   "execution_count": 11,
   "id": "b1bc738f",
   "metadata": {},
   "outputs": [],
   "source": [
    "# numpy\n",
    "def test03a(x, y):\n",
    "    return x**2 + y**4 + 17"
   ]
  },
  {
   "cell_type": "code",
   "execution_count": 12,
   "id": "43b0d3cc",
   "metadata": {},
   "outputs": [
    {
     "name": "stdout",
     "output_type": "stream",
     "text": [
      "9 μs ± 39.4 ns per loop (mean ± std. dev. of 7 runs, 100,000 loops each)\n"
     ]
    }
   ],
   "source": [
    "%timeit test03a(x, y)"
   ]
  },
  {
   "cell_type": "code",
   "execution_count": 13,
   "id": "0bd8830e",
   "metadata": {},
   "outputs": [],
   "source": [
    "# numba on CPU\n",
    "@vectorize\n",
    "def test03b(x, y):\n",
    "    return x**2 + y**4 + 17"
   ]
  },
  {
   "cell_type": "code",
   "execution_count": 14,
   "id": "740cb599",
   "metadata": {},
   "outputs": [
    {
     "name": "stdout",
     "output_type": "stream",
     "text": [
      "1.64 μs ± 8.28 ns per loop (mean ± std. dev. of 7 runs, 1,000,000 loops each)\n"
     ]
    }
   ],
   "source": [
    "%timeit test03b(x, y)"
   ]
  },
  {
   "cell_type": "code",
   "execution_count": 15,
   "id": "b2dfef40",
   "metadata": {},
   "outputs": [],
   "source": [
    "# numba on GPU\n",
    "@vectorize(['float32(float32, float32)'], target='cuda')\n",
    "def test03c(x, y):\n",
    "    return x**2 + y**4 + 17"
   ]
  },
  {
   "cell_type": "code",
   "execution_count": 16,
   "id": "7c9615d1",
   "metadata": {},
   "outputs": [
    {
     "name": "stderr",
     "output_type": "stream",
     "text": [
      "/home/ventus/university/data-mining/.env/lib64/python3.12/site-packages/numba/cuda/dispatcher.py:536: NumbaPerformanceWarning: Grid size 2 will likely result in GPU under-utilization due to low occupancy.\n",
      "  warn(NumbaPerformanceWarning(msg))\n"
     ]
    },
    {
     "name": "stdout",
     "output_type": "stream",
     "text": [
      "558 μs ± 18.8 μs per loop (mean ± std. dev. of 7 runs, 1,000 loops each)\n"
     ]
    }
   ],
   "source": [
    "%timeit test03c(x, y)"
   ]
  },
  {
   "cell_type": "markdown",
   "id": "963b1a3f",
   "metadata": {},
   "source": [
    "**REMARK:** Could you explain why numba on GPU is much slower than numba on CPU or even numpy (in the example above)?"
   ]
  },
  {
   "cell_type": "code",
   "execution_count": 17,
   "id": "408927cf",
   "metadata": {},
   "outputs": [],
   "source": [
    "d = 1000000\n",
    "x = np.random.rand(d).astype(np.float32)\n",
    "y = np.random.rand(d).astype(np.float32)"
   ]
  },
  {
   "cell_type": "code",
   "execution_count": 18,
   "id": "c42437c4",
   "metadata": {},
   "outputs": [],
   "source": [
    "# numpy\n",
    "def test04a(x, y):\n",
    "    return np.exp((x + y)**2)"
   ]
  },
  {
   "cell_type": "code",
   "execution_count": 19,
   "id": "1d9d6f30",
   "metadata": {},
   "outputs": [
    {
     "name": "stdout",
     "output_type": "stream",
     "text": [
      "1.85 ms ± 163 μs per loop (mean ± std. dev. of 7 runs, 1,000 loops each)\n"
     ]
    }
   ],
   "source": [
    "%timeit test04a(x, y)"
   ]
  },
  {
   "cell_type": "code",
   "execution_count": 20,
   "id": "b68cc209",
   "metadata": {},
   "outputs": [],
   "source": [
    "# numba on CPU\n",
    "@vectorize\n",
    "def test04b(x, y):\n",
    "    return math.exp((x + y)**2)"
   ]
  },
  {
   "cell_type": "code",
   "execution_count": 21,
   "id": "75311508",
   "metadata": {},
   "outputs": [
    {
     "name": "stdout",
     "output_type": "stream",
     "text": [
      "4.13 ms ± 131 μs per loop (mean ± std. dev. of 7 runs, 100 loops each)\n"
     ]
    }
   ],
   "source": [
    "%timeit test04b(x, y)"
   ]
  },
  {
   "cell_type": "code",
   "execution_count": 22,
   "id": "b546ef26",
   "metadata": {},
   "outputs": [],
   "source": [
    "# numba on GPU\n",
    "@vectorize(['float32(float32, float32)'], target='cuda')\n",
    "def test04c(x, y):\n",
    "    return math.exp((x + y)**2)"
   ]
  },
  {
   "cell_type": "code",
   "execution_count": 23,
   "id": "43dd2800",
   "metadata": {},
   "outputs": [
    {
     "name": "stdout",
     "output_type": "stream",
     "text": [
      "2.79 ms ± 98.2 μs per loop (mean ± std. dev. of 7 runs, 100 loops each)\n"
     ]
    }
   ],
   "source": [
    "%timeit test04c(x, y)"
   ]
  },
  {
   "cell_type": "markdown",
   "id": "1db8d5b7",
   "metadata": {},
   "source": [
    "## Numba CUDA JIT (on GPU)"
   ]
  },
  {
   "cell_type": "code",
   "execution_count": 24,
   "id": "cfb5cbbf",
   "metadata": {},
   "outputs": [],
   "source": [
    "from numba import cuda\n",
    "\n",
    "@cuda.jit(device=True)\n",
    "def polar_to_cartesian(rho, theta):\n",
    "    x = rho * math.cos(theta)\n",
    "    y = rho * math.sin(theta)\n",
    "    return x, y\n",
    "\n",
    "@vectorize(['float32(float32, float32, float32, float32)'], target='cuda')\n",
    "def polar_distance(rho1, theta1, rho2, theta2):\n",
    "    x1, y1 = polar_to_cartesian(rho1, theta1)\n",
    "    x2, y2 = polar_to_cartesian(rho2, theta2)\n",
    "\n",
    "    return ((x1 - x2)**2 + (y1 - y2)**2)**0.5"
   ]
  },
  {
   "cell_type": "code",
   "execution_count": 25,
   "id": "a663f411",
   "metadata": {},
   "outputs": [],
   "source": [
    "d = 1000000\n",
    "r1 = np.random.uniform(0.25, 1.75, d).astype(np.float32)\n",
    "t1 = np.random.uniform(-np.pi, np.pi, d).astype(np.float32)\n",
    "r2 = np.random.uniform(0.25, 1.75,d).astype(np.float32)\n",
    "t2 = np.random.uniform(-np.pi, np.pi, d).astype(np.float32)"
   ]
  },
  {
   "cell_type": "code",
   "execution_count": 26,
   "id": "082aaca5",
   "metadata": {},
   "outputs": [
    {
     "name": "stdout",
     "output_type": "stream",
     "text": [
      "5.31 ms ± 112 μs per loop (mean ± std. dev. of 7 runs, 100 loops each)\n"
     ]
    }
   ],
   "source": [
    "%timeit polar_distance(r1, t1, r2, t2)"
   ]
  },
  {
   "cell_type": "markdown",
   "id": "fbcf11d0",
   "metadata": {},
   "source": [
    "**ASSIGNMENT:** Compare with numpy and numba on CPU implementations."
   ]
  },
  {
   "cell_type": "markdown",
   "id": "c8796ff7",
   "metadata": {},
   "source": [
    "#### Numba on cpu"
   ]
  },
  {
   "cell_type": "code",
   "execution_count": 27,
   "id": "6a065047",
   "metadata": {},
   "outputs": [],
   "source": [
    "from numba import jit\n",
    "\n",
    "@jit\n",
    "def polar_to_cartesian_cpu(rho, theta):\n",
    "    x = rho * math.cos(theta)\n",
    "    y = rho * math.sin(theta)\n",
    "    return x, y\n",
    "\n",
    "@jit\n",
    "def polar_distance_cpu(rho1, theta1, rho2, theta2):\n",
    "    n = rho1.shape[0]\n",
    "    result = np.empty(n, dtype=np.float32)\n",
    "    for i in range(n):\n",
    "        x1, y1 = polar_to_cartesian_cpu(rho1[i], theta1[i])\n",
    "        x2, y2 = polar_to_cartesian_cpu(rho2[i], theta2[i])\n",
    "        result[i] = ((x1 - x2)**2 + (y1 - y2)**2)**0.5\n",
    "    return result"
   ]
  },
  {
   "cell_type": "code",
   "execution_count": 28,
   "id": "f0840595",
   "metadata": {},
   "outputs": [
    {
     "name": "stdout",
     "output_type": "stream",
     "text": [
      "16.6 ms ± 440 μs per loop (mean ± std. dev. of 7 runs, 1 loop each)\n"
     ]
    }
   ],
   "source": [
    "%timeit polar_distance_cpu(r1, t1, r2, t2)"
   ]
  },
  {
   "cell_type": "markdown",
   "id": "36e3e649",
   "metadata": {},
   "source": [
    "### Numpy"
   ]
  },
  {
   "cell_type": "code",
   "execution_count": 29,
   "id": "cd61dd79",
   "metadata": {},
   "outputs": [],
   "source": [
    "def polar_to_cartesian_numpy(rho, theta):\n",
    "    x = rho * np.cos(theta)\n",
    "    y = rho * np.sin(theta)\n",
    "    return x, y\n",
    "\n",
    "def polar_distance_numpy(rho1, theta1, rho2, theta2):\n",
    "    x1, y1 = polar_to_cartesian_numpy(rho1, theta1)\n",
    "    x2, y2 = polar_to_cartesian_numpy(rho2, theta2)\n",
    "    return np.sqrt((x1 - x2)**2 + (y1 - y2)**2)"
   ]
  },
  {
   "cell_type": "code",
   "execution_count": 30,
   "id": "63698052",
   "metadata": {},
   "outputs": [
    {
     "name": "stdout",
     "output_type": "stream",
     "text": [
      "21.2 ms ± 883 μs per loop (mean ± std. dev. of 7 runs, 10 loops each)\n"
     ]
    }
   ],
   "source": [
    "%timeit polar_distance_numpy(r1, t1, r2, t2)"
   ]
  },
  {
   "cell_type": "markdown",
   "id": "6c8bb612",
   "metadata": {},
   "source": [
    "## Numba CUDA kernels"
   ]
  },
  {
   "cell_type": "code",
   "execution_count": 31,
   "id": "9a5b90ac",
   "metadata": {},
   "outputs": [],
   "source": [
    "@cuda.jit\n",
    "def kernel01(x, y, out):\n",
    "    thread_idx = cuda.grid(1)\n",
    "    out[thread_idx] = x[thread_idx] + y[thread_idx]"
   ]
  },
  {
   "cell_type": "code",
   "execution_count": 32,
   "id": "edae30d1",
   "metadata": {},
   "outputs": [],
   "source": [
    "d = 1e6\n",
    "x = np.arange(1, d+1).astype(np.int32)\n",
    "y = np.arange(2, d+2).astype(np.int32)\n",
    "\n",
    "x_device = cuda.to_device(x)\n",
    "y_device = cuda.to_device(y)\n",
    "z_device = cuda.device_array_like(x_device)"
   ]
  },
  {
   "cell_type": "code",
   "execution_count": 33,
   "id": "ec218775",
   "metadata": {},
   "outputs": [
    {
     "name": "stderr",
     "output_type": "stream",
     "text": [
      "/home/ventus/university/data-mining/.env/lib64/python3.12/site-packages/numba/cuda/dispatcher.py:536: NumbaPerformanceWarning: Grid size 32 will likely result in GPU under-utilization due to low occupancy.\n",
      "  warn(NumbaPerformanceWarning(msg))\n"
     ]
    }
   ],
   "source": [
    "blocks_per_grid = 32\n",
    "threads_per_block = 128\n",
    "\n",
    "kernel01[blocks_per_grid, threads_per_block](x_device, y_device, z_device)\n",
    "cuda.synchronize()"
   ]
  },
  {
   "cell_type": "code",
   "execution_count": 34,
   "id": "ab266fb1",
   "metadata": {},
   "outputs": [
    {
     "data": {
      "text/plain": [
       "array([3, 5, 7, ..., 0, 0, 0], dtype=int32)"
      ]
     },
     "execution_count": 34,
     "metadata": {},
     "output_type": "execute_result"
    }
   ],
   "source": [
    "z_host = z_device.copy_to_host()\n",
    "z_host"
   ]
  },
  {
   "cell_type": "markdown",
   "id": "64e05261",
   "metadata": {},
   "source": [
    "**ASSIGNMENT:** In `kernel01`, each thread processes only one coordinate of the vector. It may be inefficient for very long vectors (e.g. `d = 1e6`), because a very large number of threads must be used. Refactor the kernel so that each thread processes multiple coordinates, for instance, each thread $k$ may process coordinates $i$ such that $i \\text{ mod } \\text{number\\_of\\_threads} = k$. You may assume that the length of the vector is a multiple of the number of threads."
   ]
  },
  {
   "cell_type": "code",
   "execution_count": null,
   "id": "1b134fef",
   "metadata": {},
   "outputs": [
    {
     "name": "stdout",
     "output_type": "stream",
     "text": [
      "[ 3  5  7  9 11 13 15 17 19 21]\n"
     ]
    }
   ],
   "source": [
    "from numba import cuda\n",
    "import numpy as np\n",
    "\n",
    "@cuda.jit\n",
    "def kernel01(x, y, out):\n",
    "\tthread_idx = cuda.grid(1)\n",
    "\tout[thread_idx] = x[thread_idx] + y[thread_idx]\n",
    "\n",
    "d = int(1e6)\n",
    "x = np.arange(1, d+1).astype(np.int32)\n",
    "y = np.arange(2, d+2).astype(np.int32)\n",
    "\n",
    "x_device = cuda.to_device(x)\n",
    "y_device = cuda.to_device(y)\n",
    "z_device = cuda.device_array_like(x_device)\n",
    "\n",
    "threads_per_block = 128\n",
    "blocks_per_grid = (d + threads_per_block - 1) // threads_per_block\n",
    "\n",
    "kernel01[blocks_per_grid, threads_per_block](x_device, y_device, z_device)\n",
    "cuda.synchronize()\n",
    "\n",
    "z = z_device.copy_to_host()\n",
    "print(z[:10])\n"
   ]
  },
  {
   "cell_type": "code",
   "execution_count": null,
   "id": "9ab1e8a5",
   "metadata": {},
   "outputs": [],
   "source": []
  }
 ],
 "metadata": {
  "kernelspec": {
   "display_name": ".env",
   "language": "python",
   "name": "python3"
  },
  "language_info": {
   "codemirror_mode": {
    "name": "ipython",
    "version": 3
   },
   "file_extension": ".py",
   "mimetype": "text/x-python",
   "name": "python",
   "nbconvert_exporter": "python",
   "pygments_lexer": "ipython3",
   "version": "3.12.7"
  }
 },
 "nbformat": 4,
 "nbformat_minor": 5
}
