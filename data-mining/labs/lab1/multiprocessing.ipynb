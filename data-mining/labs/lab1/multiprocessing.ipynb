{
 "cells": [
  {
   "cell_type": "code",
   "execution_count": 1,
   "id": "b810ad58",
   "metadata": {},
   "outputs": [],
   "source": [
    "import numpy as np\n",
    "\n",
    "from multiprocessing import Pool\n",
    "\n",
    "import random\n",
    "import time"
   ]
  },
  {
   "cell_type": "code",
   "execution_count": 2,
   "id": "031a915d",
   "metadata": {},
   "outputs": [],
   "source": [
    "def f(n):\n",
    "    s = 0\n",
    "    for i in range(n):\n",
    "        x = random.random()\n",
    "        y = random.random()\n",
    "        if (x**2 + y**2) < 1.0:\n",
    "            s += 1\n",
    "    pi = s / (0.25 * n)\n",
    "    return pi"
   ]
  },
  {
   "cell_type": "code",
   "execution_count": 3,
   "id": "61f0cc9b",
   "metadata": {},
   "outputs": [
    {
     "name": "stdout",
     "output_type": "stream",
     "text": [
      "0.23863887786865234 3.141128\n"
     ]
    }
   ],
   "source": [
    "t0 = time.time()\n",
    "\n",
    "result = f(1000000)\n",
    "\n",
    "print(time.time() - t0, result)"
   ]
  },
  {
   "cell_type": "code",
   "execution_count": 4,
   "id": "389569e8",
   "metadata": {},
   "outputs": [
    {
     "name": "stdout",
     "output_type": "stream",
     "text": [
      "8.168292760848999 3.1415740468749997\n"
     ]
    }
   ],
   "source": [
    "t0 = time.time()\n",
    "\n",
    "with Pool(16) as pool:\n",
    "    results = pool.map(f, [1000000] * 256)\n",
    "    \n",
    "print(time.time() - t0, np.array(results).mean())"
   ]
  },
  {
   "cell_type": "code",
   "execution_count": null,
   "id": "3094d060",
   "metadata": {},
   "outputs": [],
   "source": []
  }
 ],
 "metadata": {
  "kernelspec": {
   "display_name": "research",
   "language": "python",
   "name": "research"
  },
  "language_info": {
   "codemirror_mode": {
    "name": "ipython",
    "version": 3
   },
   "file_extension": ".py",
   "mimetype": "text/x-python",
   "name": "python",
   "nbconvert_exporter": "python",
   "pygments_lexer": "ipython3",
   "version": "3.8.13"
  }
 },
 "nbformat": 4,
 "nbformat_minor": 5
}
