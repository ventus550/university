{
 "cells": [
  {
   "cell_type": "code",
   "execution_count": null,
   "id": "40b3da68",
   "metadata": {},
   "outputs": [],
   "source": [
    "from surprise import Dataset\n",
    "from surprise.model_selection import train_test_split\n",
    "\n",
    "data = Dataset.load_builtin('ml-100k')\n",
    "trainset, testset = train_test_split(data, test_size=0.25)"
   ]
  },
  {
   "cell_type": "code",
   "execution_count": 3,
   "id": "760fbba8",
   "metadata": {},
   "outputs": [
    {
     "name": "stdout",
     "output_type": "stream",
     "text": [
      "First 10 raw ratings:\n",
      "[('196', '242', 3.0), ('196', '393', 4.0), ('196', '381', 4.0), ('196', '251', 3.0), ('196', '655', 5.0), ('196', '67', 5.0), ('196', '306', 4.0), ('196', '238', 4.0), ('196', '663', 5.0), ('196', '111', 4.0)]\n"
     ]
    }
   ],
   "source": [
    "full_trainset = data.build_full_trainset()\n",
    "print(\"First 10 raw ratings:\")\n",
    "print(full_trainset.build_testset()[:10])"
   ]
  },
  {
   "cell_type": "markdown",
   "id": "65a449fc",
   "metadata": {},
   "source": [
    "## a) Simple Collaborative Filtering Algorithms"
   ]
  },
  {
   "cell_type": "code",
   "execution_count": 4,
   "id": "c80cc483",
   "metadata": {},
   "outputs": [
    {
     "name": "stdout",
     "output_type": "stream",
     "text": [
      "Computing the msd similarity matrix...\n",
      "Done computing similarity matrix.\n",
      "RMSE: 0.9794\n",
      "User-User CF RMSE: 0.979360363804385\n",
      "Computing the msd similarity matrix...\n",
      "Done computing similarity matrix.\n",
      "RMSE: 0.9758\n",
      "Item-Item CF RMSE: 0.9758432915103421\n"
     ]
    }
   ],
   "source": [
    "from surprise import KNNBasic\n",
    "from surprise import accuracy\n",
    "\n",
    "algo_user = KNNBasic(sim_options={'user_based': True})\n",
    "algo_user.fit(trainset)\n",
    "predictions_user = algo_user.test(testset)\n",
    "print('User-User CF RMSE:', accuracy.rmse(predictions_user))\n",
    "\n",
    "algo_item = KNNBasic(sim_options={'user_based': False})\n",
    "algo_item.fit(trainset)\n",
    "predictions_item = algo_item.test(testset)\n",
    "print('Item-Item CF RMSE:', accuracy.rmse(predictions_item))\n"
   ]
  },
  {
   "cell_type": "markdown",
   "id": "e399ce1a",
   "metadata": {},
   "source": [
    "### b) Matrix Factorization Algorithms (SVD, SVD++)"
   ]
  },
  {
   "cell_type": "code",
   "execution_count": null,
   "id": "8241f8e8",
   "metadata": {},
   "outputs": [
    {
     "name": "stdout",
     "output_type": "stream",
     "text": [
      "RMSE: 0.9395\n",
      "SVD RMSE: 0.9395352072563953\n",
      "RMSE: 0.9219\n",
      "SVD++ RMSE: 0.9219096621233217\n"
     ]
    }
   ],
   "source": [
    "from surprise import SVD, SVDpp\n",
    "\n",
    "algo_svd = SVD()\n",
    "algo_svd.fit(trainset)\n",
    "predictions_svd = algo_svd.test(testset)\n",
    "print('SVD RMSE:', accuracy.rmse(predictions_svd))\n",
    "\n",
    "algo_svdpp = SVDpp()\n",
    "algo_svdpp.fit(trainset)\n",
    "predictions_svdpp = algo_svdpp.test(testset)\n",
    "print('SVD++ RMSE:', accuracy.rmse(predictions_svdpp))"
   ]
  },
  {
   "cell_type": "markdown",
   "id": "fa61cc14",
   "metadata": {},
   "source": [
    "## c) How to Compare Different Algorithms"
   ]
  },
  {
   "cell_type": "markdown",
   "id": "75eabf92",
   "metadata": {},
   "source": [
    "Same users/items usually do not appear in both train and test sets in regular KFold split.\n",
    "\n",
    "Some reasonable alternaitves would include a Leave-One-Out Cross-Validation method (for each user, hide one rating for testing) or Cold Start Evaluation (specifically test on users/items with few ratings)."
   ]
  },
  {
   "cell_type": "markdown",
   "id": "bce9b79f",
   "metadata": {},
   "source": [
    "## d) Experienced vs Less Active Users"
   ]
  },
  {
   "cell_type": "code",
   "execution_count": null,
   "id": "cdcd8bc6",
   "metadata": {},
   "outputs": [],
   "source": [
    "from collections import defaultdict\n",
    "from surprise import accuracy\n",
    "\n",
    "user_ratings = defaultdict(list)\n",
    "for uid, iid, true_r in trainset.all_ratings():\n",
    "    user_ratings[trainset.to_raw_uid(uid)].append(true_r)\n",
    "\n",
    "experienced_users = [u for u, ratings in user_ratings.items() if len(ratings) >= 50]\n",
    "less_active_users = [u for u, ratings in user_ratings.items() if len(ratings) < 50]"
   ]
  },
  {
   "cell_type": "code",
   "execution_count": 14,
   "id": "0dcb66d8",
   "metadata": {},
   "outputs": [
    {
     "name": "stdout",
     "output_type": "stream",
     "text": [
      "Overall RMSE: 0.979360363804385\n",
      "Experienced Users RMSE: 0.9664100806625855\n",
      "Less Active Users RMSE: 1.0384448645328845\n"
     ]
    }
   ],
   "source": [
    "experienced_predictions = []\n",
    "less_active_predictions = []\n",
    "\n",
    "for pred in predictions_user:\n",
    "    uid = pred.uid\n",
    "    if uid in experienced_users:\n",
    "        experienced_predictions.append(pred)\n",
    "    elif uid in less_active_users:\n",
    "        less_active_predictions.append(pred)\n",
    "\n",
    "\n",
    "print(\"Overall RMSE:\", accuracy.rmse(predictions_user, verbose=False))\n",
    "print(\"Experienced Users RMSE:\", accuracy.rmse(experienced_predictions, verbose=False))\n",
    "print(\"Less Active Users RMSE:\", accuracy.rmse(less_active_predictions, verbose=False))"
   ]
  },
  {
   "cell_type": "code",
   "execution_count": 16,
   "id": "cfd3bb89",
   "metadata": {},
   "outputs": [
    {
     "name": "stdout",
     "output_type": "stream",
     "text": [
      "Overall RMSE: 0.9219096621233217\n",
      "Experienced Users RMSE: 0.9073056125178115\n",
      "Less Active Users RMSE: 0.9880837842308781\n"
     ]
    }
   ],
   "source": [
    "experienced_predictions = []\n",
    "less_active_predictions = []\n",
    "\n",
    "for pred in predictions_svdpp:\n",
    "    uid = pred.uid\n",
    "    if uid in experienced_users:\n",
    "        experienced_predictions.append(pred)\n",
    "    elif uid in less_active_users:\n",
    "        less_active_predictions.append(pred)\n",
    "\n",
    "\n",
    "print(\"Overall RMSE:\", accuracy.rmse(predictions_svdpp, verbose=False))\n",
    "print(\"Experienced Users RMSE:\", accuracy.rmse(experienced_predictions, verbose=False))\n",
    "print(\"Less Active Users RMSE:\", accuracy.rmse(less_active_predictions, verbose=False))"
   ]
  },
  {
   "cell_type": "markdown",
   "id": "623fa6be",
   "metadata": {},
   "source": [
    "## e) Coverage Evaluation"
   ]
  },
  {
   "cell_type": "code",
   "execution_count": null,
   "id": "1868eca4",
   "metadata": {},
   "outputs": [],
   "source": [
    "# How many different items were recommended?\n",
    "def coverage(predictions, threshold=4.0):\n",
    "    all_items = set(iid for _, iid, _, _, _ in predictions)\n",
    "    recommended_items = set(iid for _, iid, _, est, _ in predictions if est >= threshold)\n",
    "    return len(recommended_items) / len(all_items)"
   ]
  },
  {
   "cell_type": "code",
   "execution_count": 20,
   "id": "48e98e60",
   "metadata": {},
   "outputs": [
    {
     "data": {
      "text/plain": [
       "0.2248968363136176"
      ]
     },
     "execution_count": 20,
     "metadata": {},
     "output_type": "execute_result"
    }
   ],
   "source": [
    "coverage(predictions_user)"
   ]
  },
  {
   "cell_type": "code",
   "execution_count": 21,
   "id": "bd0af9c6",
   "metadata": {},
   "outputs": [
    {
     "data": {
      "text/plain": [
       "0.4518569463548831"
      ]
     },
     "execution_count": 21,
     "metadata": {},
     "output_type": "execute_result"
    }
   ],
   "source": [
    "coverage(predictions_svdpp)"
   ]
  },
  {
   "cell_type": "code",
   "execution_count": null,
   "id": "e33f853f",
   "metadata": {},
   "outputs": [],
   "source": []
  }
 ],
 "metadata": {
  "kernelspec": {
   "display_name": ".env",
   "language": "python",
   "name": "python3"
  },
  "language_info": {
   "codemirror_mode": {
    "name": "ipython",
    "version": 3
   },
   "file_extension": ".py",
   "mimetype": "text/x-python",
   "name": "python",
   "nbconvert_exporter": "python",
   "pygments_lexer": "ipython3",
   "version": "3.12.7"
  }
 },
 "nbformat": 4,
 "nbformat_minor": 5
}
