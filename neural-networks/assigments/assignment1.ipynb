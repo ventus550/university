{
 "cells": [
  {
   "cell_type": "markdown",
   "source": "",
   "metadata": {
    "id": "view-in-github",
    "colab_type": "text",
    "cell_id": "400c45c6-a163-4a5b-b857-ca201c3b5093",
    "deepnote_cell_type": "markdown",
    "deepnote_cell_height": 46
   }
  },
  {
   "cell_type": "markdown",
   "source": "## Assignment 1\n\n**Submission deadlines:** \n- get at least **2** points by Tuesday, 15.03.2022\n- remaining points: last lab session before or on Tuesday, 22.03.2022\n\n**Points:** Aim to get 8 out of 12 possible points\n\n## Submission instructions\nThe class is held on-site in lab rooms. Please prepare you notebook on your computer or anywhere in the cloud (try using DeepNote or Google Colab).\nMake sure you know all the questions and asnwers, and that the notebook contains results; bfore presentation do `Runtime -> Restart and run all`\n![Picture title](image-20220302-183151.png)\n\nWe provide starter code, however you are not required to use it as long as you properly solve the tasks.\n",
   "metadata": {
    "id": "CGXgWugfJ0Vl",
    "cell_id": "00001-caefeb56-f9c5-4f9e-a096-b89246dc63d7",
    "deepnote_cell_type": "markdown",
    "deepnote_cell_height": 396
   }
  },
  {
   "cell_type": "markdown",
   "source": "# Task description\n\n## TLDR\nImplement and train a neural network using pure numpy.",
   "metadata": {
    "id": "5S8iRaCPyO2a",
    "cell_id": "00002-c92cc86e-f65f-4e16-9124-9ca4d4265c88",
    "deepnote_cell_type": "markdown",
    "deepnote_cell_height": 176
   }
  },
  {
   "cell_type": "markdown",
   "source": "\n## Problem 1 [2p]\nImplement a two-layer network, manually set weights and biases to solve the XOR task.\n\nA two-layer neural network implementes a function $f: \\mathbb{R}^D \\rightarrow \\mathbb{R}^O$ where $D$ is the input dimensionality and $O$ is the output dinemsionality. The output goes through an intermediate representation (the hidden layer) with dimensionality $H$. \n\nThe computations are as follows:\n$$\n\\begin{aligned}\nA_1 &= x W_1^T + b_1  & \\qquad\\text{Total input to neurons in the hidden layer (network's first layer)} \\\\\nO_1 &= \\sigma_1(A_1)  & \\qquad\\text{Output of the hidden layer} \\\\\nA_2 &= O_1 W_2^T + b_2 & \\qquad\\text{Total input to neurons in the output layer (network's second layer)}\\\\\nO_2 &= \\sigma_2(A_2)  & \\qquad\\text{Output of the network}\n\\end{aligned}\n$$\n\nWhere $W$ are weight matrices, $b$ are bias vectors, $\\sigma$ are non-linear activation functions (e.g. the logistic sigmoid applied element-wise, or softmax).\n\nFor the 2D xor problem the network will:\n- have 2 inputs, 2 hidden neurons, one output\n- use the logistic sigmoid everywhere (that way we, when hand-designig the weights, we can assume that neurons' outputs are binary).\n\nTherrefore the shapes of the data flowing through the network will be:\n- input: $x\\in\\mathbb{}R^{2}$\n- hidden layer parameters: $W_1\\in\\mathbb{}R^{2\\times 2}$ and $b_1\\in\\mathbb{}R^{2}$\n- representations in the hidden layer: $A_1\\in\\mathbb{}R^{2}$ and $O_1\\in\\mathbb{}R^{2}$\n- output layer parameters: $W_2\\in\\mathbb{}R^{1\\times 2}$ and $b_1\\in\\mathbb{}R^{1}$\n- representations in the output layer: $A_2\\in\\mathbb{}R^{1}$ and $O_2\\in\\mathbb{}R^{1}$\n\nThe network can be seen as a logistic regression model, prefixed by a nonlinear transformation of the data.\n\nThe first tasks consists of:\n- implementing the network\n- selecting parametwrs ($W_1, b_1, W_2, b_2$) such that $f(x)\\approx XOR(x_1, x_2)$ where the approximation is die to the sigmoids - the output may be close to 0 or 1, but doesn't need to saturate at 0 or 1.\n\nNB: the convention on weight matrix shapes follows linear [layers in PyTorch](https://pytorch.org/docs/stable/generated/torch.nn.Linear.html).\n",
   "metadata": {
    "id": "JHcz7I2V-bVM",
    "cell_id": "00003-1893a0a0-4515-4960-bce8-37f660543eea",
    "deepnote_cell_type": "markdown",
    "deepnote_cell_height": 827
   }
  },
  {
   "cell_type": "markdown",
   "source": "## Problem 2 [2p]\n1. Add a backward pass.\n2. Use a sensible random initialization for weights and biases.\n3. Numerically check the correctness of your gradient computation.\n\nThere is nice article about taking derivative over vectors and vector chain rule: https://explained.ai/matrix-calculus/ if someone don't have experience with suchr calculus.\n",
   "metadata": {
    "id": "0QSpZxuH-bLe",
    "cell_id": "00004-0d502510-cfd1-44da-b88c-da6aaf275617",
    "deepnote_cell_type": "markdown",
    "deepnote_cell_height": 196
   }
  },
  {
   "cell_type": "markdown",
   "source": "## Problem 3 [2p]\n1. Implement gradient descent\n2. Train your network to solve 3D XOR\n3. Try several hidden layer sizes, for each size record the fracton of successful trainings. Then answer:\n    - What is the minimal hidden size required to solve 3D XOR (even with low reliability, when the training has to be repeated multiple times)\n    - What is the minimal hidden size required to reliably solve 3D XOR\n    - Which networks are easier to train - small or large ones? Why?\n",
   "metadata": {
    "id": "s1Tn8j0m-bAy",
    "cell_id": "00005-96083315-f850-4103-946e-cc9b11377543",
    "deepnote_cell_type": "markdown",
    "deepnote_cell_height": 249
   }
  },
  {
   "cell_type": "markdown",
   "source": "## Problem 4 [1p]\nReplace the first nonlinearity with the [ReLU](https://en.wikipedia.org/wiki/Rectifier_(neural_networks)) activation function. Find a network architecture which reliably learns the 3D XOR problem.\n",
   "metadata": {
    "id": "RP9Pvpmf-a2A",
    "cell_id": "00006-94cc4eb9-0202-4308-9a9e-007db44a6a98",
    "deepnote_cell_type": "markdown",
    "deepnote_cell_height": 108
   }
  },
  {
   "cell_type": "markdown",
   "source": "## Problem 5 [1p]\nAdd a second hidden layer to your network, implement the forward and backward pass, then demonstrate training.\n",
   "metadata": {
    "id": "cGgtpe-w-asB",
    "cell_id": "00007-9e6e984c-5131-4333-837b-7e57c4bfb650",
    "deepnote_cell_type": "markdown",
    "deepnote_cell_height": 108
   }
  },
  {
   "cell_type": "markdown",
   "source": "## Problem 6 [2p]\nImplement a way to have a _variable number_ of hidden layers. Check how deep sigmoid or ReLU networks you  can train. For simplicity you can assume that all hidden layers have the same number of neurons, and use the same activation function.\n",
   "metadata": {
    "id": "Pe-pcFeO-aiE",
    "cell_id": "00008-86ea4bdd-83dc-4197-baad-d216fbacc786",
    "deepnote_cell_type": "markdown"
   }
  },
  {
   "cell_type": "markdown",
   "source": "## Problem 7 [2p]\nFor each weight matrix $w\\in\\mathbb{R}^{n\\times m}$, add a randomly initialized `backward weight` $w_b\\in\\mathbb{R}^{m\\times n}$, which will not change during training. Change the backward pass to use $w_b$ instead of $w^T$, getting an approxmatoin of the true gradient. Can you get your network to train?\n\nNB: this approach, dubbed [feedback alignment](https://www.nature.com/articles/ncomms13276), was proposed to make error backpropagation more biologically plausible, by providing a solution to the \"weight transport problem\". Regular backpropagation requires that neurons not only know their incoming weights (thet they control), but also their outgoing weights (that are controlled by neurons in the upper layers). This is nearly impossible in a real brain.",
   "metadata": {
    "id": "kIpn17Cm-aW7",
    "cell_id": "00009-64a0b978-7933-40be-89e4-a3d35d52c7ab",
    "deepnote_cell_type": "markdown"
   }
  },
  {
   "cell_type": "markdown",
   "source": "# Solutions and starter code",
   "metadata": {
    "id": "rXJaoHSH0DZO",
    "cell_id": "00010-954fd65b-4d81-4bbc-bf6b-4d10d50be9b8",
    "deepnote_cell_type": "markdown"
   }
  },
  {
   "cell_type": "code",
   "metadata": {
    "id": "YiTEWD2oqW0Y",
    "cell_id": "00011-97f2c7fe-a3d5-4a6b-bc12-8a96bfeed475",
    "deepnote_to_be_reexecuted": false,
    "source_hash": "21e32291",
    "execution_start": 1647869837956,
    "execution_millis": 6714,
    "deepnote_cell_type": "code"
   },
   "source": "import matplotlib.pyplot as plt\nimport numpy as np",
   "execution_count": null,
   "outputs": []
  },
  {
   "cell_type": "markdown",
   "source": "XOR dataset creation",
   "metadata": {
    "id": "eqtfJKR40J3x",
    "cell_id": "00012-8bc44e88-e665-483d-89fc-c866879ad335",
    "deepnote_cell_type": "markdown"
   }
  },
  {
   "cell_type": "code",
   "metadata": {
    "colab": {
     "base_uri": "https://localhost:8080/",
     "height": 296
    },
    "id": "lYEbCfbSpv5M",
    "outputId": "48a99aad-e15b-4c7b-f881-bbfbe1941a15",
    "cell_id": "00013-3adfc55c-5dcc-476a-9e4a-328f2044ebc1",
    "deepnote_to_be_reexecuted": false,
    "source_hash": "2188275c",
    "execution_start": 1647869844693,
    "execution_millis": 667,
    "deepnote_cell_type": "code"
   },
   "source": "# Let's define a XOR dataset\n\n# X will be matrix of N 2-dimensional inputs\nX = np.array([[0, 0], [0, 1], [1, 0], [1, 1],], dtype=np.float32)\n# Y is a matrix of N numners - answers\nY = np.array([[0], [1], [1], [0],], dtype=np.float32)\n\nplt.scatter(\n    X[:, 0], X[:, 1], c=Y[:, 0],\n)\nplt.xlabel(\"X[0]\")\nplt.ylabel(\"X[1]\")\nplt.axis(\"square\")",
   "execution_count": null,
   "outputs": [
    {
     "output_type": "execute_result",
     "execution_count": 2,
     "data": {
      "text/plain": "(-0.05, 1.05, -0.05, 1.05)"
     },
     "metadata": {}
    },
    {
     "data": {
      "text/plain": "<Figure size 432x288 with 1 Axes>",
      "image/png": "[encoded data removed]"
     },
     "metadata": {
      "needs_background": "light",
      "image/png": {
       "width": 268,
       "height": 262
      }
     },
     "output_type": "display_data"
    }
   ]
  },
  {
   "cell_type": "markdown",
   "source": "## Problem 1",
   "metadata": {
    "id": "Rb3azMn929_I",
    "cell_id": "00014-fe501b87-4247-497d-a7c7-f528483d31cc",
    "deepnote_cell_type": "markdown"
   }
  },
  {
   "cell_type": "markdown",
   "source": "The code below contains a mock-up of a two-layer neural network. Fill in the code and manually set weights to solve the XOR problem.\n\nPlease note: the shapes are set to be compatible with PyTorch's conventions:\n* a batch containing $N$ $D$-dimensional examples has shape $N\\times D$ (each example is a row!)\n* a weight matrix in a linear layer with $I$ inputs and $O$ outputs has shape $O \\times I$\n* a bias vector is a 1D vector. Please note that [broadcasting rules](https://docs.scipy.org/doc/numpy/user/basics.broadcasting.html) allow us to think about it as a $1 \\times D$ matrix.",
   "metadata": {
    "id": "RZCM_hdELE04",
    "cell_id": "00015-97a3483d-0ae6-4bee-afd5-6226abc622a5",
    "deepnote_cell_type": "markdown"
   }
  },
  {
   "cell_type": "code",
   "metadata": {
    "id": "lrrRuk6zLiF0",
    "cell_id": "00016-87dd53c6-4f21-4286-8a85-61c2a92fa819",
    "deepnote_to_be_reexecuted": false,
    "source_hash": "437812ef",
    "execution_start": 1647869845373,
    "execution_millis": 36,
    "owner_user_id": "da2cb521-f7a6-4219-a9e4-d024e175cd83",
    "deepnote_cell_type": "code"
   },
   "source": "def sigmoid(x):\n    return 1.0/(1 + np.exp(-x))\n\ndef d_sigmoid(x):\n    sig = sigmoid(x)\n    return sig * (1 - sig)\n\nclass SmallNet:\n    def __init__(self, in_features, num_hidden, dtype=np.float32):\n        self.W1 = np.zeros((num_hidden, in_features), dtype=dtype)\n        self.b1 = np.zeros((num_hidden,), dtype=dtype)\n        self.W2 = np.zeros((1, num_hidden), dtype=dtype)\n        self.b2 = np.zeros((1,), dtype=dtype)\n        self.init_params()\n\n    def init_params(self):\n        # TODO for Problem 2:\n        # set all parameters to small random values, e.g. from N(0, 0.5)\n        self.W1 = np.random.normal(0, 0.5, self.W1.shape)\n        self.b1 = np.random.normal(0, 0.5, self.b1.shape)\n        self.W2 = np.random.normal(0, 0.5, self.W2.shape)\n        self.b2 = np.random.normal(0, 0.5, self.b2.shape)\n\n    def forward(self, X, Y=None, do_backward=False):\n        # TODO Problem 1: Fill in details of forward propagation\n\n        # Input to neurons in 1st layer\n        A1 = X @ self.W1.T + self.b1\n        # Outputs after the sigmoid non-linearity\n        O1 = sigmoid(A1)\n\n        # Inputs to neuron in the second layer\n        A2 = O1 @ self.W2.T + self.b2\n        # Outputs after the sigmoid non-linearity\n        O2 = sigmoid(A2)\n\n        # When Y is none, simply return the predictions. Else compute the loss\n        if Y is not None:\n            # loss = TODO cross-entropy loss\n            loss = -Y * np.log(O2) - (1 - Y) * np.log(1 - O2)\n            # normalize loss by batch size\n            loss = loss.sum() / X.shape[0]\n        else:\n            loss = np.nan\n\n        if do_backward:\n            # TODO in Problem 2:\n            # fill in the gradient computation\n            # Please note, that there is a correspondance between\n            # the forward and backward pass: with backward computations happening\n            # in reverse order.\n            # We save the gradients with respect to the parameters as fields of self.\n            # It is not very elegant, but simplifies training code later on.\n\n            # A2_grad is the gradient of loss with respect to A2\n            # Hint: there is a concise formula for the gradient\n            # of logistic sigmoid and cross-entropy loss\n\n            N = X.shape[0]\n            A2_grad = O2 - Y\n            self.W2_grad = (A2_grad.T @ O1) / N \n            self.b2_grad = A2_grad.sum(0) / N\n            O1_grad = A2_grad @ self.W2\n            A1_grad = O1_grad * O1 * (1 - O1)\n            self.W1_grad = (A1_grad.T @ X) / N\n            self.b1_grad = A1_grad.sum(0) / N\n        return O2, loss",
   "execution_count": null,
   "outputs": []
  },
  {
   "cell_type": "markdown",
   "source": "##### Loss gradient with respect to A2\n$$\nloss = -Y \\cdot log(O_2) - (1 - Y) \\cdot log(1 - O_2)\n$$\n\n$$\n\\frac{∂O_2}{∂A_2} = \\frac{∂}{∂A_2}σ(A_2) = O_2(1 - O_2)\n$$\n\n$$\n\\frac{∂loss}{∂A_2} = -Y \\cdot \\frac{1}{O_2} \\cdot O_2(1-O_2) - (1 - Y) \\cdot \\frac{1}{1 - O_2} \\cdot (-O_2(1-O_2))  \n$$\n\n$$\n= -Y(1 - O_2) + (1-Y)O_2 = O_2 - Y\n$$",
   "metadata": {
    "cell_id": "3f9948ca-1b4c-423a-b2e0-7be7cc18940a",
    "tags": [],
    "deepnote_cell_type": "markdown"
   }
  },
  {
   "cell_type": "code",
   "metadata": {
    "colab": {
     "base_uri": "https://localhost:8080/"
    },
    "id": "jJswvBk0oiIY",
    "outputId": "e6559317-7afa-4509-fbac-4880e73b91cc",
    "cell_id": "00017-32ce9293-0a37-4397-aeac-25eef428e8d4",
    "deepnote_to_be_reexecuted": false,
    "source_hash": "f0f497d3",
    "execution_start": 1647869845421,
    "execution_millis": 22,
    "deepnote_cell_type": "code"
   },
   "source": "# TODO Problem 1:\n# Set by hand the weight values to solve the XOR problem\n\nnet = SmallNet(2, 2, dtype=np.float64)\nnet.W1 = np.array([[8, 8], [8, 8]])\nnet.b1 = np.array([-4, -12])\nnet.W2 = np.array([[8, -8]])\nnet.b2 = -4\n\n# Hint: since we use the logistic sigmoid activation, the weights may need to\n# be fairly large\n\n\npredictions, loss = net.forward(X, Y, do_backward=True)\nfor x, p in zip(X, predictions):\n    print(f\"XORnet({x}) = {p[0]}\")",
   "execution_count": null,
   "outputs": [
    {
     "name": "stdout",
     "text": "XORnet([0. 0.]) = 0.020711047954062596\nXORnet([0. 1.]) = 0.9761590452710405\nXORnet([1. 0.]) = 0.9761590452710405\nXORnet([1. 1.]) = 0.020711047954062596\n",
     "output_type": "stream"
    }
   ]
  },
  {
   "cell_type": "markdown",
   "source": "## Problem 2",
   "metadata": {
    "id": "wmxCi5Vl6_xB",
    "cell_id": "00018-9f8740d2-90e7-4d20-a535-002df8547aba",
    "deepnote_cell_type": "markdown"
   }
  },
  {
   "cell_type": "code",
   "metadata": {
    "id": "eSM5hgJ1mrhY",
    "cell_id": "00019-8f804996-a00a-4bb5-a524-ad056659e023",
    "deepnote_to_be_reexecuted": false,
    "source_hash": "838b16a",
    "execution_start": 1647869845456,
    "execution_millis": 56,
    "deepnote_cell_type": "code"
   },
   "source": "def check_grad(net, param_name, X, Y, eps=1e-5):\n    \"\"\"A gradient checking routine\"\"\"\n\n    param = getattr(net, param_name)\n    param_flat_accessor = param.reshape(-1)\n\n    grad = np.empty_like(param)\n    grad_flat_accessor = grad.reshape(-1)\n\n    net.forward(X, Y, do_backward=True)\n    orig_grad = getattr(net, param_name + \"_grad\")\n    assert param.shape == orig_grad.shape\n\n    for i in range(param_flat_accessor.shape[0]):\n        orig_val = param_flat_accessor[i]\n        param_flat_accessor[i] = orig_val + eps\n        _, loss_positive = net.forward(X, Y)\n        param_flat_accessor[i] = orig_val - eps\n        _, loss_negative = net.forward(X, Y)\n        param_flat_accessor[i] = orig_val\n        grad_flat_accessor[i] = (loss_positive - loss_negative) / (2 * eps)\n    assert np.allclose(grad, orig_grad)\n    return grad, orig_grad",
   "execution_count": null,
   "outputs": []
  },
  {
   "cell_type": "code",
   "metadata": {
    "id": "TTZu0jFEvgXF",
    "cell_id": "00020-1c4174cf-f129-4cad-adad-4734810a8ce1",
    "deepnote_to_be_reexecuted": false,
    "source_hash": "e18ddc0e",
    "execution_start": 1647869845513,
    "execution_millis": 0,
    "deepnote_cell_type": "code"
   },
   "source": "# Hint: use float64 for checking the correctness of the gradient\nnet = SmallNet(2, 2, dtype=np.float64)\n\nnet.forward(X, Y, do_backward=True)\n\nfor param_name in [\"W1\", \"b1\", \"W2\", \"b2\"]:\n    check_grad(net, param_name, X, Y)",
   "execution_count": null,
   "outputs": []
  },
  {
   "cell_type": "markdown",
   "source": "## Problem 3",
   "metadata": {
    "id": "8mUOs3cVvjM2",
    "cell_id": "00021-145837f8-c83f-4aab-8e62-0114e59f30fe",
    "deepnote_cell_type": "markdown"
   }
  },
  {
   "cell_type": "code",
   "metadata": {
    "colab": {
     "base_uri": "https://localhost:8080/"
    },
    "id": "nn2AAoZo0vjU",
    "outputId": "7b6b5a9a-dea5-4357-e8c1-36a34c7c272a",
    "cell_id": "00022-91b3eba0-6025-4839-847c-f5cb275fad07",
    "deepnote_to_be_reexecuted": false,
    "source_hash": "f27e5b4f",
    "execution_start": 1647869845557,
    "execution_millis": 25136,
    "deepnote_cell_type": "code"
   },
   "source": "net = SmallNet(2, 10, dtype=np.float64)\n\nalpha = 0.5  # set a learning rate\n\nfor i in range(100000):\n    _, loss = net.forward(X, Y, do_backward=True)\n    if (i % 5000) == 0:\n        print(f\"after {i} steps \\tloss={loss}\")\n    for param_name in [\"W1\", \"b1\", \"W2\", \"b2\"]:\n        param = getattr(net, param_name)\n        # Hint: use the construct `param[:]` to change the contents of the array!\n        # Doing instead `param = new_val` simply changes to what the variable\n        # param points to, without affecting the network!\n        # alternatively, you could do setattr(net, param_name, new_value)\n        param[:] = param - alpha * getattr(net, param_name + \"_grad\")",
   "execution_count": null,
   "outputs": [
    {
     "name": "stdout",
     "text": "after 0 steps \tloss=0.6975905326826646\nafter 5000 steps \tloss=0.002402784886552805\nafter 10000 steps \tloss=0.0010065126570891782\nafter 15000 steps \tloss=0.0006226361026200651\nafter 20000 steps \tloss=0.000446320804871429\nafter 25000 steps \tloss=0.00034590021374951294\nafter 30000 steps \tloss=0.0002813673637151227\nafter 35000 steps \tloss=0.00023654529641168012\nafter 40000 steps \tloss=0.00020367475114253997\nafter 45000 steps \tloss=0.0001785804061703965\nafter 50000 steps \tloss=0.00015882056776548388\nafter 55000 steps \tloss=0.00014287424563824407\nafter 60000 steps \tloss=0.0001297457170086867\nafter 65000 steps \tloss=0.00011875642936723297\nafter 70000 steps \tloss=0.00010942839478578358\nafter 75000 steps \tloss=0.00010141540808842017\nafter 80000 steps \tloss=9.446069917553314e-05\nafter 85000 steps \tloss=8.83698964704921e-05\nafter 90000 steps \tloss=8.299321897970684e-05\nafter 95000 steps \tloss=7.82134249189077e-05\n",
     "output_type": "stream"
    }
   ]
  },
  {
   "cell_type": "code",
   "metadata": {
    "colab": {
     "base_uri": "https://localhost:8080/"
    },
    "id": "TwpEjpkU1JvK",
    "outputId": "dc044de9-81c1-4944-d9a2-5dcc72bf9a57",
    "cell_id": "00023-c92941a8-24d1-46e8-a410-d189c1d87b08",
    "deepnote_to_be_reexecuted": false,
    "source_hash": "7b623984",
    "execution_start": 1647869870700,
    "execution_millis": 16,
    "deepnote_cell_type": "code"
   },
   "source": "predictions, loss = net.forward(X, Y, do_backward=True)\nfor x, p in zip(X, predictions):\n    print(f\"XORnet({x}) = {p[0]}\")",
   "execution_count": null,
   "outputs": [
    {
     "name": "stdout",
     "text": "XORnet([0. 0.]) = 5.9508013347034124e-05\nXORnet([0. 1.]) = 0.9999284998979091\nXORnet([1. 0.]) = 0.9999271979125228\nXORnet([1. 1.]) = 9.192843449826622e-05\n",
     "output_type": "stream"
    }
   ]
  },
  {
   "cell_type": "code",
   "metadata": {
    "id": "U0ZMyHqz8xrC",
    "cell_id": "00024-e09655a3-84e1-4a43-9b61-00edb56c6054",
    "deepnote_to_be_reexecuted": false,
    "source_hash": "16f3114f",
    "execution_start": 1647869870730,
    "execution_millis": 101487,
    "deepnote_cell_type": "code"
   },
   "source": "# TODO:\n# Generate data for a 3D XOR task\n# Then estimate the success rate of training the network with diferent\n# hidden sizes.\nfrom itertools import product\nfrom collections import defaultdict\n\nX3 = np.array(list(product((0,1), (0,1), (0,1))), dtype=np.float32)\nY3 = np.array([[all(x) or sum(x) == 1] for x in X3], dtype=np.float32)\n\nL = defaultdict(list); E = {}\nfor hidden_dim in [2, 3, 5, 10, 20]:\n    # TODO: run a few trainings and record the fraction of successful ones\n    net = SmallNet(3, hidden_dim, dtype=np.float64)\n    alpha = 0.5  # set a learning rate\n\n    for i in range(10**5):\n        O,loss = net.forward(X3, Y3, do_backward=True)\n        L[hidden_dim].append(loss)\n        for param_name in [\"W1\", \"b1\", \"W2\", \"b2\"]:\n            param = getattr(net, param_name)\n            param[:] = param - alpha * getattr(net, param_name + \"_grad\")\n    E[hidden_dim] = abs(Y3 - O).sum() / len(X3)",
   "execution_count": null,
   "outputs": []
  },
  {
   "cell_type": "code",
   "metadata": {
    "cell_id": "d2c030ae-b7a6-4ce3-af8a-fae0b06d7917",
    "tags": [],
    "deepnote_to_be_reexecuted": false,
    "source_hash": "2f62c0a4",
    "execution_start": 1647869972217,
    "execution_millis": 475,
    "deepnote_cell_type": "code"
   },
   "source": "# All sizes succeed in learning 3D XOR, but the uncertainty differs slightly\nfig = plt.figure()\nplt.ylim(0, 0.0005)\nplt.bar(*(zip(*E.items())))\nplt.xticks([2,3,5,10,20])\nplt.show()",
   "execution_count": null,
   "outputs": [
    {
     "data": {
      "text/plain": "<Figure size 432x288 with 1 Axes>",
      "image/png": "[encoded data removed]"
     },
     "metadata": {
      "needs_background": "light",
      "image/png": {
       "width": 390,
       "height": 252
      }
     },
     "output_type": "display_data"
    }
   ]
  },
  {
   "cell_type": "code",
   "metadata": {
    "cell_id": "983471d9-9a9a-494c-9c39-cae512fc5322",
    "tags": [],
    "deepnote_to_be_reexecuted": false,
    "source_hash": "85b339ff",
    "execution_start": 1647869972502,
    "execution_millis": 2104,
    "deepnote_cell_type": "code"
   },
   "source": "plt.subplots(figsize=(16, 8))\nplt.xscale(\"log\")\nfor hidden_dim, training in L.items():\n    plt.plot(np.linspace(0, len(training), len(training)), training, label=hidden_dim)\nplt.legend()\nplt.show()",
   "execution_count": null,
   "outputs": [
    {
     "data": {
      "text/plain": "<Figure size 1152x576 with 1 Axes>",
      "image/png": "[encoded data removed]"
     },
     "metadata": {
      "needs_background": "light",
      "image/png": {
       "width": 930,
       "height": 470
      }
     },
     "output_type": "display_data"
    }
   ]
  },
  {
   "cell_type": "markdown",
   "source": "## Deep Neural Network",
   "metadata": {
    "cell_id": "b3002a12-32a8-4020-9cf3-ec938f919a96",
    "tags": [],
    "deepnote_cell_type": "markdown"
   }
  },
  {
   "cell_type": "code",
   "metadata": {
    "cell_id": "72a3fe3c-0431-44dd-ba48-50a31761af61",
    "tags": [],
    "deepnote_to_be_reexecuted": false,
    "source_hash": "eef4f568",
    "execution_start": 1647869974599,
    "execution_millis": 30,
    "deepnote_cell_type": "code"
   },
   "source": "import numpy as np\n\n\nclass ActivationFunction:\n    def regular(self, x): raise NotImplementedError\n    def derivative(self, x): raise NotImplementedError\n    def __call__(self, x): return self.regular(x)\n    def __getitem__(self, x): return self.derivative(x)\n\n\nclass Sigmoid(ActivationFunction):\n\n    def regular(self, x):\n        return 1.0/(1 + np.exp(-x))\n    \n    def derivative(self, x):\n        sig = sigmoid(x)\n        return sig * (1 - sig)\n\n\nclass ReLU(ActivationFunction):\n\n    def regular(self, x):\n        return np.where(x > 0, x, 1e-2)\n    \n    def derivative(self, x):\n        return np.where(x > 0, 1, 1e-2)\n\n\nclass Layer:\n\n    def __init__(self, n_inputs, n_outputs, activation):\n        self.W = np.random.normal(0, 0.5, ((n_outputs, n_inputs)))\n        self.b = np.zeros((1, n_outputs))\n        self.activation = activation\n        self.dW = None\n        self.db = None\n        self.O_prev = None\n        self.A = None\n\n\n    def __call__(self, X, cache=False):\n        A = X @ self.W.T + self.b\n        if cache:\n            self.O_prev = X.copy()\n            self.A = A.copy()\n        return A\n\n\nclass DeepNet:\n\n    def __init__(self, architecture, activation = Sigmoid()):\n        self.architecture = architecture\n        self.activation = activation\n        self.layers = [\n            Layer(architecture[i - 1], architecture[i], activation=activation)\n            for i in range(1, len(architecture))\n        ]\n\n\n    def forward(self, X, Y=None, do_backward=False):\n        N = len(X)\n        \n        O = X\n        for layer in self.layers:\n            O = layer.activation(layer(O, cache=do_backward))\n\n        if do_backward:\n            # loss gradient\n            dO = -(Y/O) + (1-Y) / (1-O)\n\n            for layer in reversed(self.layers):\n                dA = layer.activation[layer.A] * dO\n                layer.dW = (dA.T @ layer.O_prev) / N\n                layer.db = dA.sum(0) / N\n                dO = dA @ layer.W\n\n        if Y is not None:\n            loss = np.sum(-Y * np.log(O) - (1 - Y) * np.log(1 - O)) / N\n            return O, loss\n        return O\n\n    \n    def gradient_decent(self, X, Y, learning_rate = 0.5):\n        _, loss = net.forward(X, Y, do_backward=True)\n        for layer in self.layers:\n            layer.W -= learning_rate * layer.dW\n            layer.b -= learning_rate * layer.db\n        return loss\n",
   "execution_count": null,
   "outputs": []
  },
  {
   "cell_type": "markdown",
   "source": "## Problem 4\n",
   "metadata": {
    "id": "UuaLEoV-9DLG",
    "cell_id": "00025-9703bd09-6aae-4830-8221-09b53a623e4b",
    "deepnote_cell_type": "markdown"
   }
  },
  {
   "cell_type": "code",
   "metadata": {
    "cell_id": "9f6d2da8-e854-4faa-a5f5-147b801f70f6",
    "tags": [],
    "deepnote_to_be_reexecuted": false,
    "source_hash": "2868a1a9",
    "execution_start": 1647869974632,
    "execution_millis": 27843,
    "deepnote_cell_type": "code"
   },
   "source": "from itertools import product\nfrom collections import defaultdict\n\nnet = DeepNet([3, 5, 1], activation=ReLU())\nnet.layers[-1].activation = Sigmoid()\nX3 = np.array(list(product((0,1), (0,1), (0,1))), dtype=np.float32)\nY3 = np.array([[all(x) or sum(x) == 1] for x in X3], dtype=np.float32)\n\nfor i in range(100000):\n    loss = net.gradient_decent(X3, Y3, learning_rate = 0.5)\n    if (i % 5000) == 0: print(f\"after {i} steps \\tloss={loss}\")\n\nprint(\"3D XOR solution\\n\", net.forward(X3).ravel(), \"~\", Y.ravel())",
   "execution_count": null,
   "outputs": [
    {
     "name": "stdout",
     "text": "after 0 steps \tloss=0.6901991328766013\nafter 5000 steps \tloss=0.47498331757213186\nafter 10000 steps \tloss=0.4102686284643923\nafter 15000 steps \tloss=0.0019244270029445242\nafter 20000 steps \tloss=0.0006426595841671654\nafter 25000 steps \tloss=0.00037351557355591353\nafter 30000 steps \tloss=0.0002608793434867731\nafter 35000 steps \tloss=0.00019947821107891775\nafter 40000 steps \tloss=0.0001591260981659665\nafter 45000 steps \tloss=0.00013383371977198583\nafter 50000 steps \tloss=0.00011564292010539402\nafter 55000 steps \tloss=0.00010001880120795488\nafter 60000 steps \tloss=8.883712172777036e-05\nafter 65000 steps \tloss=8.081064286965776e-05\nafter 70000 steps \tloss=7.288668480079714e-05\nafter 75000 steps \tloss=6.634246440217519e-05\nafter 80000 steps \tloss=6.112986950330312e-05\nafter 85000 steps \tloss=5.7351618168640056e-05\nafter 90000 steps \tloss=5.3445950320240754e-05\nafter 95000 steps \tloss=4.912432931684668e-05\n3D XOR solution\n [6.41332827e-06 9.99982218e-01 9.99986724e-01 5.79796494e-06\n 9.99965950e-01 2.41372729e-04 2.89055768e-05 9.99971513e-01] ~ [0. 1. 1. 0.]\n",
     "output_type": "stream"
    }
   ]
  },
  {
   "cell_type": "markdown",
   "source": "## Problem 5 & 6",
   "metadata": {
    "id": "_Hr_iAKX-ND1",
    "cell_id": "00027-de8a387d-3b6a-48d5-b6c8-fddf13637e38",
    "deepnote_cell_type": "markdown"
   }
  },
  {
   "cell_type": "code",
   "metadata": {
    "id": "rnz6CndQ-NRI",
    "cell_id": "00028-0aa6ea62-907d-44bf-9ba4-71870d3dd547",
    "deepnote_to_be_reexecuted": false,
    "source_hash": "468f2f4d",
    "execution_start": 1647870002483,
    "execution_millis": 66462,
    "deepnote_cell_type": "code"
   },
   "source": "from sklearn.datasets import make_moons\nX, Y = make_moons(noise=0.1)\n\nnet = DeepNet([2, 3, 4, 5, 1])\nfor i in range(10**5):\n    loss = net.gradient_decent(X, Y.reshape(-1,1), learning_rate = 0.5)\n    if (i % 5000) == 0: print(f\"after {i} steps \\tloss={loss}\")\n\n\n\n# Create a grid\nN = 200\nX1, X2 = np.meshgrid(np.linspace(-2, 3, N), np.linspace(-1, 2, N))\nX_flat = np.column_stack((X1.flatten(), X2.flatten()))\n\n# Evaluate model on grid\nY_pred = net.forward(X_flat).T.reshape(X1.shape) < 0.5\n\nplt.scatter(X[Y==0, 0], X[Y==0, 1])\nplt.scatter(X[Y==1, 0], X[Y==1, 1])\nplt.contourf(X1, X2, Y_pred, cmap='Spectral', alpha=0.1)\n",
   "execution_count": null,
   "outputs": [
    {
     "name": "stdout",
     "text": "after 0 steps \tloss=0.6976019109484958\nafter 5000 steps \tloss=0.28712405716652417\nafter 10000 steps \tloss=0.2763595903468472\nafter 15000 steps \tloss=0.0007788560285278035\nafter 20000 steps \tloss=0.0002593099494624003\nafter 25000 steps \tloss=0.00014932004842883772\nafter 30000 steps \tloss=0.00010336865404070077\nafter 35000 steps \tloss=7.850358576515833e-05\nafter 40000 steps \tloss=6.303458857027186e-05\nafter 45000 steps \tloss=5.25286557084599e-05\nafter 50000 steps \tloss=4.494939313901513e-05\nafter 55000 steps \tloss=3.923489329229809e-05\nafter 60000 steps \tloss=3.4778901150582816e-05\nafter 65000 steps \tloss=3.121088141005566e-05\nafter 70000 steps \tloss=2.8291982789580834e-05\nafter 75000 steps \tloss=2.5861509448212384e-05\nafter 80000 steps \tloss=2.3807480078402834e-05\nafter 85000 steps \tloss=2.2049531918357544e-05\nafter 90000 steps \tloss=2.052853524942275e-05\nafter 95000 steps \tloss=1.920003934273705e-05\n",
     "output_type": "stream"
    },
    {
     "output_type": "execute_result",
     "execution_count": 14,
     "data": {
      "text/plain": "<matplotlib.contour.QuadContourSet at 0x7fbab5d56610>"
     },
     "metadata": {}
    },
    {
     "data": {
      "text/plain": "<Figure size 432x288 with 1 Axes>",
      "image/png": "[encoded data removed]"
     },
     "metadata": {
      "needs_background": "light",
      "image/png": {
       "width": 383,
       "height": 252
      }
     },
     "output_type": "display_data"
    }
   ]
  },
  {
   "cell_type": "markdown",
   "source": "## Problem 7",
   "metadata": {
    "id": "nWuv7Q77-Nut",
    "cell_id": "00031-032edb86-1c56-46e7-8ea3-3e011d72bf5f",
    "deepnote_cell_type": "markdown"
   }
  },
  {
   "cell_type": "code",
   "metadata": {
    "id": "avuvSoWY-N4Z",
    "cell_id": "00032-2eab2b1a-f83b-409c-a066-1642cd2ab2d8",
    "deepnote_to_be_reexecuted": false,
    "source_hash": "40fcf9f3",
    "execution_start": 1647870068958,
    "execution_millis": 54,
    "deepnote_cell_type": "code"
   },
   "source": "import numpy as np\n\n\nclass ActivationFunction:\n    def regular(self, x): raise NotImplementedError\n    def derivative(self, x): raise NotImplementedError\n    def __call__(self, x): return self.regular(x)\n    def __getitem__(self, x): return self.derivative(x)\n\n\nclass Sigmoid(ActivationFunction):\n\n    def regular(self, x):\n        return 1.0/(1 + np.exp(-x))\n    \n    def derivative(self, x):\n        sig = sigmoid(x)\n        return sig * (1 - sig)\n\n\nclass ReLU(ActivationFunction):\n\n    def regular(self, x):\n        return np.where(x > 0, x, 1e-2)\n    \n    def derivative(self, x):\n        return np.where(x > 0, 1, 1e-2)\n\n\nclass Layer:\n\n    def __init__(self, n_inputs, n_outputs, activation):\n        self.W = np.random.normal(0, 0.5, ((n_outputs, n_inputs)))\n        self.b = np.zeros((1, n_outputs))\n        self.activation = activation\n        self.dW = None\n        self.db = None\n        self.O_prev = None\n        self.A = None\n        #! feedback weights\n        self.W_b = np.random.normal(0, 0.5, ((n_outputs, n_inputs)))\n\n    def __call__(self, X, cache=False):\n        A = X @ self.W.T + self.b\n        if cache:\n            self.O_prev = X.copy()\n            self.A = A.copy()\n        return A\n\n\nclass DeepNet:\n\n    def __init__(self, architecture, activation = Sigmoid()):\n        self.architecture = architecture\n        self.activation = activation\n        self.layers = [\n            Layer(architecture[i - 1], architecture[i], activation=activation)\n            for i in range(1, len(architecture))\n        ]\n\n\n    def forward(self, X, Y=None, do_backward=False):\n        N = len(X)\n        \n        O = X\n        for layer in self.layers:\n            O = layer.activation(layer(O, cache=do_backward))\n\n        if do_backward:\n            # loss gradient\n            dO = -(Y/O) + (1-Y) / (1-O)\n\n            for layer in reversed(self.layers):\n                dA = layer.activation[layer.A] * dO\n                layer.dW = (dA.T @ layer.O_prev) / N\n                layer.db = dA.sum(0) / N\n                dO = dA @ layer.W_b #! using feedback weights instead\n\n        if Y is not None:\n            loss = np.sum(-Y * np.log(O) - (1 - Y) * np.log(1 - O)) / N\n            return O, loss\n        return O\n\n    \n    def gradient_decent(self, X, Y, learning_rate = 0.5):\n        _, loss = net.forward(X, Y, do_backward=True)\n        for layer in self.layers:\n            layer.W -= learning_rate * layer.dW\n            layer.b -= learning_rate * layer.db\n        return loss\n",
   "execution_count": null,
   "outputs": []
  },
  {
   "cell_type": "code",
   "metadata": {
    "cell_id": "91c06eca-610d-4fef-ae0c-71bddc8244f3",
    "tags": [],
    "deepnote_to_be_reexecuted": false,
    "source_hash": "d92f8134",
    "execution_start": 1647870091149,
    "execution_millis": 80492,
    "deepnote_cell_type": "code",
    "deepnote_cell_height": 1227
   },
   "source": "from sklearn.datasets import make_moons\nX, Y = make_moons(noise=0.1)\n\n# [2, 3, 4, 5, 1] solution from the previous problem\n# is no longer valid\n\nnet = DeepNet([2, 10, 10, 10, 1]) \nfor i in range(10**5):\n    loss = net.gradient_decent(X, Y.reshape(-1,1), learning_rate = 0.5)\n    if (i % 5000) == 0: print(f\"after {i} steps \\tloss={loss}\")\n\n\n\n# Create a grid\nN = 200\nX1, X2 = np.meshgrid(np.linspace(-2, 3, N), np.linspace(-1, 2, N))\nX_flat = np.column_stack((X1.flatten(), X2.flatten()))\n\n# Evaluate model on grid\nY_pred = net.forward(X_flat).T.reshape(X1.shape) < 0.5\n\nplt.scatter(X[Y==0, 0], X[Y==0, 1])\nplt.scatter(X[Y==1, 0], X[Y==1, 1])\nplt.contourf(X1, X2, Y_pred, cmap='Spectral', alpha=0.1)",
   "execution_count": null,
   "outputs": [
    {
     "name": "stdout",
     "text": "after 0 steps \tloss=0.8128220437934409\nafter 5000 steps \tloss=0.29354253090070215\nafter 10000 steps \tloss=0.2500811406129033\nafter 15000 steps \tloss=0.06264692567127644\nafter 20000 steps \tloss=0.018412027821159485\nafter 25000 steps \tloss=0.01012855665513506\nafter 30000 steps \tloss=0.0068663770146755645\nafter 35000 steps \tloss=0.005137759313585979\nafter 40000 steps \tloss=0.004073017188337986\nafter 45000 steps \tloss=0.003354454914701825\nafter 50000 steps \tloss=0.0028387124457264095\nafter 55000 steps \tloss=0.002451710495806308\nafter 60000 steps \tloss=0.002151362609678813\nafter 65000 steps \tloss=0.0019120175929670745\nafter 70000 steps \tloss=0.0017171692476931246\nafter 75000 steps \tloss=0.0015557265382774293\nafter 80000 steps \tloss=0.0014199691249869423\nafter 85000 steps \tloss=0.0013043625616763071\nafter 90000 steps \tloss=0.0012048394024787516\nafter 95000 steps \tloss=0.0011183458381204383\n",
     "output_type": "stream"
    },
    {
     "output_type": "execute_result",
     "execution_count": 17,
     "data": {
      "text/plain": "<matplotlib.contour.QuadContourSet at 0x7fbab5a03250>"
     },
     "metadata": {}
    },
    {
     "data": {
      "text/plain": "<Figure size 432x288 with 1 Axes>",
      "image/png": "[encoded data removed]"
     },
     "metadata": {
      "needs_background": "light",
      "image/png": {
       "width": 383,
       "height": 252
      }
     },
     "output_type": "display_data"
    }
   ]
  },
  {
   "cell_type": "markdown",
   "source": "<a style='text-decoration:none;line-height:16px;display:flex;color:#5B5B62;padding:10px;justify-content:end;' href='https://deepnote.com?utm_source=created-in-deepnote-cell&projectId=a3a1faa6-c4a5-41f6-8770-eb93a1e04380' target=\"_blank\">\n<img alt='Created in deepnote.com' style='display:inline;max-height:16px;margin:0px;margin-right:7.5px;' src='data:image/svg+xml;base64,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' > </img>\nCreated in <span style='font-weight:600;margin-left:4px;'>Deepnote</span></a>",
   "metadata": {
    "tags": [],
    "created_in_deepnote_cell": true,
    "deepnote_cell_type": "markdown"
   }
  }
 ],
 "nbformat": 4,
 "nbformat_minor": 0,
 "metadata": {
  "colab": {
   "name": "Assignment1.ipynb",
   "provenance": [],
   "collapsed_sections": [],
   "include_colab_link": true
  },
  "kernelspec": {
   "display_name": "Python 3",
   "language": "python",
   "name": "python3"
  },
  "language_info": {
   "codemirror_mode": {
    "name": "ipython",
    "version": 3
   },
   "file_extension": ".py",
   "mimetype": "text/x-python",
   "name": "python",
   "nbconvert_exporter": "python",
   "pygments_lexer": "ipython3",
   "version": "3.8.3"
  },
  "deepnote_notebook_id": "1f038069-bae5-44e5-92ba-67bdff2c54a6",
  "deepnote": {},
  "deepnote_execution_queue": []
 }
}