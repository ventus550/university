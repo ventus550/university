{
 "cells": [
  {
   "cell_type": "markdown",
   "id": "f7f6a300",
   "metadata": {},
   "source": [
    "# Binary and multiclass loss functions in PyTorch\n"
   ]
  },
  {
   "cell_type": "code",
   "execution_count": 1,
   "id": "56a8c0bd",
   "metadata": {
    "ExecuteTime": {
     "end_time": "2022-03-29T14:48:06.874730Z",
     "start_time": "2022-03-29T14:48:06.447264Z"
    }
   },
   "outputs": [],
   "source": [
    "import torch\n",
    "from torch import nn"
   ]
  },
  {
   "cell_type": "markdown",
   "id": "cb20e3e9",
   "metadata": {},
   "source": [
    "# Binary classification"
   ]
  },
  {
   "cell_type": "markdown",
   "id": "ba34fa19",
   "metadata": {},
   "source": [
    "Assume we have 4 samples of classes 0, 1, 1, 0, respectively"
   ]
  },
  {
   "cell_type": "code",
   "execution_count": 2,
   "id": "6cd93b67",
   "metadata": {
    "ExecuteTime": {
     "end_time": "2022-03-29T14:48:06.883530Z",
     "start_time": "2022-03-29T14:48:06.876289Z"
    }
   },
   "outputs": [
    {
     "data": {
      "text/plain": [
       "tensor([0., 1., 1., 0.], dtype=torch.float64)"
      ]
     },
     "execution_count": 2,
     "metadata": {},
     "output_type": "execute_result"
    }
   ],
   "source": [
    "y_true = torch.tensor([0, 1, 1, 0], dtype=float)\n",
    "y_true"
   ]
  },
  {
   "cell_type": "markdown",
   "id": "6904a54f",
   "metadata": {},
   "source": [
    "## Sigmoid activation"
   ]
  },
  {
   "cell_type": "markdown",
   "id": "b6e29242",
   "metadata": {},
   "source": [
    "Suppose the model outputs (before sigmoid activation function) are as follows"
   ]
  },
  {
   "cell_type": "code",
   "execution_count": 3,
   "id": "3a51685d",
   "metadata": {
    "ExecuteTime": {
     "end_time": "2022-03-29T14:48:06.920458Z",
     "start_time": "2022-03-29T14:48:06.884607Z"
    }
   },
   "outputs": [],
   "source": [
    "logits = torch.tensor([-0.1, 2.0, 3.0, 0.5], dtype=float)"
   ]
  },
  {
   "cell_type": "markdown",
   "id": "236f689d",
   "metadata": {},
   "source": [
    "So the probabilities of being class `1` are as follows"
   ]
  },
  {
   "cell_type": "code",
   "execution_count": 4,
   "id": "62508b3a",
   "metadata": {
    "ExecuteTime": {
     "end_time": "2022-03-29T14:48:06.931362Z",
     "start_time": "2022-03-29T14:48:06.922083Z"
    }
   },
   "outputs": [
    {
     "data": {
      "text/plain": [
       "tensor([0.4750, 0.8808, 0.9526, 0.6225], dtype=torch.float64)"
      ]
     },
     "execution_count": 4,
     "metadata": {},
     "output_type": "execute_result"
    }
   ],
   "source": [
    "y_pred = torch.sigmoid(logits)\n",
    "y_pred"
   ]
  },
  {
   "cell_type": "markdown",
   "id": "5e4980d1",
   "metadata": {},
   "source": [
    "**Question** What is the value of *cross entropy loss*?"
   ]
  },
  {
   "cell_type": "markdown",
   "id": "404133ba",
   "metadata": {},
   "source": [
    "## Binary cross entropy (BCE) loss"
   ]
  },
  {
   "cell_type": "markdown",
   "id": "46a3628e",
   "metadata": {},
   "source": [
    "We should calculate the *distance* between two distributions:\n",
    "* `[0, 1, 1, 0]` and\n",
    "* `[0.4750, 0.8808, 0.9526, 0.6225]`"
   ]
  },
  {
   "cell_type": "markdown",
   "id": "0a342e2c",
   "metadata": {},
   "source": [
    "## BCE ... using definition"
   ]
  },
  {
   "cell_type": "code",
   "execution_count": 5,
   "id": "4a5d6dd2",
   "metadata": {
    "ExecuteTime": {
     "end_time": "2022-03-29T14:48:06.941789Z",
     "start_time": "2022-03-29T14:48:06.932466Z"
    }
   },
   "outputs": [
    {
     "data": {
      "text/plain": [
       "tensor([-0.7444, -0.1269, -0.0486, -0.4741], dtype=torch.float64)"
      ]
     },
     "execution_count": 5,
     "metadata": {},
     "output_type": "execute_result"
    }
   ],
   "source": [
    "torch.log(y_pred)"
   ]
  },
  {
   "cell_type": "markdown",
   "id": "11910fb4",
   "metadata": {},
   "source": [
    "Let's calculcate the loss for each sample"
   ]
  },
  {
   "cell_type": "code",
   "execution_count": 6,
   "id": "3dee4b2d",
   "metadata": {
    "ExecuteTime": {
     "end_time": "2022-03-29T14:48:06.951621Z",
     "start_time": "2022-03-29T14:48:06.943250Z"
    }
   },
   "outputs": [
    {
     "data": {
      "text/plain": [
       "tensor([0.6444, 0.1269, 0.0486, 0.9741], dtype=torch.float64)"
      ]
     },
     "execution_count": 6,
     "metadata": {},
     "output_type": "execute_result"
    }
   ],
   "source": [
    "- ( y_true*torch.log(y_pred) + (1-y_true)*torch.log(1.0-y_pred) )"
   ]
  },
  {
   "cell_type": "markdown",
   "id": "7bf77e05",
   "metadata": {},
   "source": [
    "Now we calculate the average loss value"
   ]
  },
  {
   "cell_type": "code",
   "execution_count": 7,
   "id": "a951180b",
   "metadata": {
    "ExecuteTime": {
     "end_time": "2022-03-29T14:48:06.961745Z",
     "start_time": "2022-03-29T14:48:06.952727Z"
    }
   },
   "outputs": [
    {
     "data": {
      "text/plain": [
       "tensor(0.4485, dtype=torch.float64)"
      ]
     },
     "execution_count": 7,
     "metadata": {},
     "output_type": "execute_result"
    }
   ],
   "source": [
    "torch.mean( - ( y_true*torch.log(y_pred) + (1-y_true)*torch.log(1.0-y_pred) ) )"
   ]
  },
  {
   "cell_type": "markdown",
   "id": "ace92cd3",
   "metadata": {},
   "source": [
    "One can check that if `y_pred=[0.01, 0.9, 0.99, 0.1]` then the loss value is much smaller"
   ]
  },
  {
   "cell_type": "code",
   "execution_count": 8,
   "id": "2a63f7e1",
   "metadata": {
    "ExecuteTime": {
     "end_time": "2022-03-29T14:48:06.972194Z",
     "start_time": "2022-03-29T14:48:06.962812Z"
    }
   },
   "outputs": [
    {
     "data": {
      "text/plain": [
       "tensor(0.0577, dtype=torch.float64)"
      ]
     },
     "execution_count": 8,
     "metadata": {},
     "output_type": "execute_result"
    }
   ],
   "source": [
    "y_pred_new = torch.tensor([0.01, 0.9, 0.99, 0.1])\n",
    "torch.mean( - ( y_true*torch.log(y_pred_new) + (1-y_true)*torch.log(1.0-y_pred_new) ) )"
   ]
  },
  {
   "cell_type": "markdown",
   "id": "355afb2a",
   "metadata": {},
   "source": [
    "## using `BCELoss` or `BCEWithLogitsLoss`\n",
    "see https://pytorch.org/docs/stable/generated/torch.nn.BCEWithLogitsLoss.html#torch.nn.BCEWithLogitsLoss"
   ]
  },
  {
   "cell_type": "markdown",
   "id": "46f1d077",
   "metadata": {},
   "source": [
    "One can use the *modular* or *functional* API from PyTorch"
   ]
  },
  {
   "cell_type": "markdown",
   "id": "748a37aa",
   "metadata": {},
   "source": [
    "### Modular API"
   ]
  },
  {
   "cell_type": "code",
   "execution_count": 9,
   "id": "d414f5b6",
   "metadata": {
    "ExecuteTime": {
     "end_time": "2022-03-29T14:48:06.980920Z",
     "start_time": "2022-03-29T14:48:06.974104Z"
    }
   },
   "outputs": [],
   "source": [
    "loss_fn = torch.nn.BCELoss()\n",
    "loss_fn_with_logits = torch.nn.BCEWithLogitsLoss()"
   ]
  },
  {
   "cell_type": "code",
   "execution_count": 10,
   "id": "aba80f43",
   "metadata": {
    "ExecuteTime": {
     "end_time": "2022-03-29T14:48:06.992195Z",
     "start_time": "2022-03-29T14:48:06.983604Z"
    }
   },
   "outputs": [
    {
     "data": {
      "text/plain": [
       "tensor(0.4485, dtype=torch.float64)"
      ]
     },
     "execution_count": 10,
     "metadata": {},
     "output_type": "execute_result"
    }
   ],
   "source": [
    "loss_fn(y_pred, y_true)"
   ]
  },
  {
   "cell_type": "code",
   "execution_count": 11,
   "id": "9065a2a9",
   "metadata": {
    "ExecuteTime": {
     "end_time": "2022-03-29T14:48:07.001807Z",
     "start_time": "2022-03-29T14:48:06.993518Z"
    }
   },
   "outputs": [
    {
     "data": {
      "text/plain": [
       "tensor(0.4485, dtype=torch.float64)"
      ]
     },
     "execution_count": 11,
     "metadata": {},
     "output_type": "execute_result"
    }
   ],
   "source": [
    "loss_fn_with_logits(logits, y_true)"
   ]
  },
  {
   "cell_type": "markdown",
   "id": "656a6a15",
   "metadata": {},
   "source": [
    "### Functional API"
   ]
  },
  {
   "cell_type": "code",
   "execution_count": 12,
   "id": "ed85d455",
   "metadata": {
    "ExecuteTime": {
     "end_time": "2022-03-29T14:48:07.010832Z",
     "start_time": "2022-03-29T14:48:07.003036Z"
    }
   },
   "outputs": [],
   "source": [
    "from torch.nn import functional as F"
   ]
  },
  {
   "cell_type": "code",
   "execution_count": 13,
   "id": "ff0094d8",
   "metadata": {
    "ExecuteTime": {
     "end_time": "2022-03-29T14:48:07.021784Z",
     "start_time": "2022-03-29T14:48:07.012064Z"
    }
   },
   "outputs": [
    {
     "data": {
      "text/plain": [
       "tensor(0.4485, dtype=torch.float64)"
      ]
     },
     "execution_count": 13,
     "metadata": {},
     "output_type": "execute_result"
    }
   ],
   "source": [
    "F.binary_cross_entropy(y_pred, y_true)"
   ]
  },
  {
   "cell_type": "code",
   "execution_count": 14,
   "id": "572f328b",
   "metadata": {
    "ExecuteTime": {
     "end_time": "2022-03-29T14:48:07.031556Z",
     "start_time": "2022-03-29T14:48:07.023214Z"
    }
   },
   "outputs": [
    {
     "data": {
      "text/plain": [
       "tensor(0.4485, dtype=torch.float64)"
      ]
     },
     "execution_count": 14,
     "metadata": {},
     "output_type": "execute_result"
    }
   ],
   "source": [
    "F.binary_cross_entropy_with_logits(logits, y_true)"
   ]
  },
  {
   "cell_type": "markdown",
   "id": "03e69c09",
   "metadata": {},
   "source": [
    "# Multiclass classification"
   ]
  },
  {
   "cell_type": "markdown",
   "id": "a3bb59f3",
   "metadata": {},
   "source": [
    "Consider we have 5 classes.\n",
    "Assume we have 4 samples of classes 0, 2, 3, 1, respectively"
   ]
  },
  {
   "cell_type": "code",
   "execution_count": 15,
   "id": "423a2cef",
   "metadata": {
    "ExecuteTime": {
     "end_time": "2022-03-29T14:48:07.040487Z",
     "start_time": "2022-03-29T14:48:07.032713Z"
    }
   },
   "outputs": [],
   "source": [
    "num_classes = 5"
   ]
  },
  {
   "cell_type": "code",
   "execution_count": 16,
   "id": "7a62c31c",
   "metadata": {
    "ExecuteTime": {
     "end_time": "2022-03-29T14:48:07.050347Z",
     "start_time": "2022-03-29T14:48:07.041705Z"
    }
   },
   "outputs": [],
   "source": [
    "y_true = torch.tensor([0, 2, 3, 1])"
   ]
  },
  {
   "cell_type": "markdown",
   "id": "8660d98b",
   "metadata": {},
   "source": [
    "We can encode the same information using *one-hot* encoding"
   ]
  },
  {
   "cell_type": "code",
   "execution_count": 17,
   "id": "ebd302e8",
   "metadata": {
    "ExecuteTime": {
     "end_time": "2022-03-29T14:48:07.061387Z",
     "start_time": "2022-03-29T14:48:07.051549Z"
    }
   },
   "outputs": [
    {
     "data": {
      "text/plain": [
       "tensor([[1, 0, 0, 0, 0],\n",
       "        [0, 0, 1, 0, 0],\n",
       "        [0, 0, 0, 1, 0],\n",
       "        [0, 1, 0, 0, 0]])"
      ]
     },
     "execution_count": 17,
     "metadata": {},
     "output_type": "execute_result"
    }
   ],
   "source": [
    "y_true_one_hot = F.one_hot(y_true, num_classes=num_classes)\n",
    "y_true_one_hot"
   ]
  },
  {
   "cell_type": "markdown",
   "id": "e7818aa9",
   "metadata": {},
   "source": [
    "In the case of *multiclass* (categorical) classification we create the model having `num_classes` neurons in the last layer. Assume the model outputs are are follows:"
   ]
  },
  {
   "cell_type": "code",
   "execution_count": 18,
   "id": "66ec19ca",
   "metadata": {
    "ExecuteTime": {
     "end_time": "2022-03-29T14:48:07.072468Z",
     "start_time": "2022-03-29T14:48:07.062751Z"
    }
   },
   "outputs": [
    {
     "data": {
      "text/plain": [
       "tensor([[-5.0000, 10.0000,  1.2000,  3.0000, -4.0000],\n",
       "        [ 5.0000, -4.0000,  0.1000,  1.0000,  0.1000],\n",
       "        [ 1.0000,  3.0000,  2.5000, -0.1000,  2.5000],\n",
       "        [-7.0000,  2.5000,  0.1000,  3.1000,  0.2000]])"
      ]
     },
     "execution_count": 18,
     "metadata": {},
     "output_type": "execute_result"
    }
   ],
   "source": [
    "logits = torch.tensor(\n",
    "    [[-5.0, 10.0, 1.2,  3.0, -4.0],\n",
    "     [ 5.0, -4.0, 0.1,  1.0,  0.1],\n",
    "     [ 1.0,  3.0, 2.5, -0.1,  2.5],\n",
    "     [-7.0,  2.5, 0.1,  3.1,  0.2]]\n",
    ")\n",
    "logits"
   ]
  },
  {
   "cell_type": "markdown",
   "id": "b8757ce7",
   "metadata": {},
   "source": [
    "## Softmax activation"
   ]
  },
  {
   "cell_type": "markdown",
   "id": "08a7ad58",
   "metadata": {},
   "source": [
    "In *multiclass* classification we use **Softmax** activation function, which:\n",
    "* give the nice probability interpretation, i.e. the output for each sample is the probability distribution between `num_classes` classes (values are positive and their sum is 1.0)\n",
    "* the *max* is being kept."
   ]
  },
  {
   "cell_type": "code",
   "execution_count": 19,
   "id": "49f42291",
   "metadata": {
    "ExecuteTime": {
     "end_time": "2022-03-29T14:48:07.082309Z",
     "start_time": "2022-03-29T14:48:07.073861Z"
    }
   },
   "outputs": [
    {
     "data": {
      "text/plain": [
       "tensor([[6.7379e-03, 2.2026e+04, 3.3201e+00, 2.0086e+01, 1.8316e-02],\n",
       "        [1.4841e+02, 1.8316e-02, 1.1052e+00, 2.7183e+00, 1.1052e+00],\n",
       "        [2.7183e+00, 2.0086e+01, 1.2182e+01, 9.0484e-01, 1.2182e+01],\n",
       "        [9.1188e-04, 1.2182e+01, 1.1052e+00, 2.2198e+01, 1.2214e+00]])"
      ]
     },
     "execution_count": 19,
     "metadata": {},
     "output_type": "execute_result"
    }
   ],
   "source": [
    "numerator = torch.exp(logits)\n",
    "numerator"
   ]
  },
  {
   "cell_type": "code",
   "execution_count": 20,
   "id": "1b7bb1c1",
   "metadata": {
    "ExecuteTime": {
     "end_time": "2022-03-29T14:48:07.091760Z",
     "start_time": "2022-03-29T14:48:07.083656Z"
    }
   },
   "outputs": [
    {
     "data": {
      "text/plain": [
       "torch.Size([4, 5])"
      ]
     },
     "execution_count": 20,
     "metadata": {},
     "output_type": "execute_result"
    }
   ],
   "source": [
    "numerator.shape"
   ]
  },
  {
   "cell_type": "code",
   "execution_count": 21,
   "id": "800e6194",
   "metadata": {
    "ExecuteTime": {
     "end_time": "2022-03-29T14:48:07.102225Z",
     "start_time": "2022-03-29T14:48:07.092985Z"
    }
   },
   "outputs": [
    {
     "data": {
      "text/plain": [
       "tensor([22049.8965,   153.3601,    48.0736,    36.7079])"
      ]
     },
     "execution_count": 21,
     "metadata": {},
     "output_type": "execute_result"
    }
   ],
   "source": [
    "denominator = torch.sum( torch.exp(logits), dim=1 )\n",
    "denominator"
   ]
  },
  {
   "cell_type": "code",
   "execution_count": 22,
   "id": "af6946be",
   "metadata": {
    "ExecuteTime": {
     "end_time": "2022-03-29T14:48:07.111966Z",
     "start_time": "2022-03-29T14:48:07.103534Z"
    }
   },
   "outputs": [
    {
     "data": {
      "text/plain": [
       "torch.Size([4])"
      ]
     },
     "execution_count": 22,
     "metadata": {},
     "output_type": "execute_result"
    }
   ],
   "source": [
    "denominator.shape"
   ]
  },
  {
   "cell_type": "markdown",
   "id": "9f5dafaa",
   "metadata": {},
   "source": [
    "In fact, it is better to keep the sum in the following shape:"
   ]
  },
  {
   "cell_type": "code",
   "execution_count": 23,
   "id": "a5dbb95b",
   "metadata": {
    "ExecuteTime": {
     "end_time": "2022-03-29T14:48:07.122628Z",
     "start_time": "2022-03-29T14:48:07.113372Z"
    }
   },
   "outputs": [
    {
     "data": {
      "text/plain": [
       "tensor([[22049.8965],\n",
       "        [  153.3601],\n",
       "        [   48.0736],\n",
       "        [   36.7079]])"
      ]
     },
     "execution_count": 23,
     "metadata": {},
     "output_type": "execute_result"
    }
   ],
   "source": [
    "denominator = torch.sum( torch.exp(logits), dim=1, keepdim=True )\n",
    "denominator"
   ]
  },
  {
   "cell_type": "code",
   "execution_count": 24,
   "id": "92b3807c",
   "metadata": {
    "ExecuteTime": {
     "end_time": "2022-03-29T14:48:07.132191Z",
     "start_time": "2022-03-29T14:48:07.124022Z"
    }
   },
   "outputs": [
    {
     "data": {
      "text/plain": [
       "torch.Size([4, 1])"
      ]
     },
     "execution_count": 24,
     "metadata": {},
     "output_type": "execute_result"
    }
   ],
   "source": [
    "denominator.shape"
   ]
  },
  {
   "cell_type": "code",
   "execution_count": 25,
   "id": "bacbbd7a",
   "metadata": {
    "ExecuteTime": {
     "end_time": "2022-03-29T14:48:07.143047Z",
     "start_time": "2022-03-29T14:48:07.133410Z"
    }
   },
   "outputs": [
    {
     "data": {
      "text/plain": [
       "tensor([[3.0558e-07, 9.9894e-01, 1.5057e-04, 9.1091e-04, 8.3065e-07],\n",
       "        [9.6774e-01, 1.1943e-04, 7.2064e-03, 1.7725e-02, 7.2064e-03],\n",
       "        [5.6544e-02, 4.1781e-01, 2.5341e-01, 1.8822e-02, 2.5341e-01],\n",
       "        [2.4842e-05, 3.3188e-01, 3.0107e-02, 6.0472e-01, 3.3274e-02]])"
      ]
     },
     "execution_count": 25,
     "metadata": {},
     "output_type": "execute_result"
    }
   ],
   "source": [
    "y_pred = numerator / denominator\n",
    "y_pred"
   ]
  },
  {
   "cell_type": "code",
   "execution_count": 26,
   "id": "694a399a",
   "metadata": {
    "ExecuteTime": {
     "end_time": "2022-03-29T14:48:07.155014Z",
     "start_time": "2022-03-29T14:48:07.144305Z"
    }
   },
   "outputs": [
    {
     "data": {
      "text/plain": [
       "tensor([1.0000, 1.0000, 1.0000, 1.0000])"
      ]
     },
     "execution_count": 26,
     "metadata": {},
     "output_type": "execute_result"
    }
   ],
   "source": [
    "torch.sum(y_pred, dim=1)"
   ]
  },
  {
   "cell_type": "markdown",
   "id": "da822412",
   "metadata": {},
   "source": [
    "## `torch.softmax`, `torch.nn.Softmax` and `F.softmax`"
   ]
  },
  {
   "cell_type": "code",
   "execution_count": 27,
   "id": "be13e656",
   "metadata": {
    "ExecuteTime": {
     "end_time": "2022-03-29T14:48:07.164989Z",
     "start_time": "2022-03-29T14:48:07.156349Z"
    }
   },
   "outputs": [
    {
     "data": {
      "text/plain": [
       "tensor([[3.0558e-07, 9.9894e-01, 1.5057e-04, 9.1091e-04, 8.3065e-07],\n",
       "        [9.6774e-01, 1.1943e-04, 7.2064e-03, 1.7725e-02, 7.2064e-03],\n",
       "        [5.6544e-02, 4.1781e-01, 2.5341e-01, 1.8822e-02, 2.5341e-01],\n",
       "        [2.4842e-05, 3.3188e-01, 3.0107e-02, 6.0472e-01, 3.3274e-02]])"
      ]
     },
     "execution_count": 27,
     "metadata": {},
     "output_type": "execute_result"
    }
   ],
   "source": [
    "softmax = nn.Softmax(dim=1)\n",
    "softmax(logits)"
   ]
  },
  {
   "cell_type": "code",
   "execution_count": 28,
   "id": "16359202",
   "metadata": {
    "ExecuteTime": {
     "end_time": "2022-03-29T14:48:07.179428Z",
     "start_time": "2022-03-29T14:48:07.169281Z"
    }
   },
   "outputs": [
    {
     "data": {
      "text/plain": [
       "tensor([[3.0558e-07, 9.9894e-01, 1.5057e-04, 9.1091e-04, 8.3065e-07],\n",
       "        [9.6774e-01, 1.1943e-04, 7.2064e-03, 1.7725e-02, 7.2064e-03],\n",
       "        [5.6544e-02, 4.1781e-01, 2.5341e-01, 1.8822e-02, 2.5341e-01],\n",
       "        [2.4842e-05, 3.3188e-01, 3.0107e-02, 6.0472e-01, 3.3274e-02]])"
      ]
     },
     "execution_count": 28,
     "metadata": {},
     "output_type": "execute_result"
    }
   ],
   "source": [
    "F.softmax(logits, dim=1)"
   ]
  },
  {
   "cell_type": "code",
   "execution_count": 29,
   "id": "77f85859",
   "metadata": {
    "ExecuteTime": {
     "end_time": "2022-03-29T14:48:07.189325Z",
     "start_time": "2022-03-29T14:48:07.180633Z"
    }
   },
   "outputs": [
    {
     "data": {
      "text/plain": [
       "tensor([[3.0558e-07, 9.9894e-01, 1.5057e-04, 9.1091e-04, 8.3065e-07],\n",
       "        [9.6774e-01, 1.1943e-04, 7.2064e-03, 1.7725e-02, 7.2064e-03],\n",
       "        [5.6544e-02, 4.1781e-01, 2.5341e-01, 1.8822e-02, 2.5341e-01],\n",
       "        [2.4842e-05, 3.3188e-01, 3.0107e-02, 6.0472e-01, 3.3274e-02]])"
      ]
     },
     "execution_count": 29,
     "metadata": {},
     "output_type": "execute_result"
    }
   ],
   "source": [
    "torch.softmax(logits, dim=1)"
   ]
  },
  {
   "cell_type": "markdown",
   "id": "f1f670c4",
   "metadata": {},
   "source": [
    "## `argmax` = `predict_class`"
   ]
  },
  {
   "cell_type": "code",
   "execution_count": 30,
   "id": "16c4a98e",
   "metadata": {
    "ExecuteTime": {
     "end_time": "2022-03-29T14:48:07.199132Z",
     "start_time": "2022-03-29T14:48:07.190640Z"
    }
   },
   "outputs": [
    {
     "data": {
      "text/plain": [
       "tensor([1, 0, 1, 3])"
      ]
     },
     "execution_count": 30,
     "metadata": {},
     "output_type": "execute_result"
    }
   ],
   "source": [
    "y_pred = torch.softmax(logits, dim=1)\n",
    "torch.argmax(y_pred, dim=1)"
   ]
  },
  {
   "cell_type": "markdown",
   "id": "7adbb1ed",
   "metadata": {},
   "source": [
    "## Cross entropy loss"
   ]
  },
  {
   "cell_type": "code",
   "execution_count": 31,
   "id": "7215bfe2",
   "metadata": {
    "ExecuteTime": {
     "end_time": "2022-03-29T14:48:07.209927Z",
     "start_time": "2022-03-29T14:48:07.200452Z"
    }
   },
   "outputs": [
    {
     "data": {
      "text/plain": [
       "tensor([[3.0558e-07, 9.9894e-01, 1.5057e-04, 9.1091e-04, 8.3065e-07],\n",
       "        [9.6774e-01, 1.1943e-04, 7.2064e-03, 1.7725e-02, 7.2064e-03],\n",
       "        [5.6544e-02, 4.1781e-01, 2.5341e-01, 1.8822e-02, 2.5341e-01],\n",
       "        [2.4842e-05, 3.3188e-01, 3.0107e-02, 6.0472e-01, 3.3274e-02]])"
      ]
     },
     "execution_count": 31,
     "metadata": {},
     "output_type": "execute_result"
    }
   ],
   "source": [
    "y_pred"
   ]
  },
  {
   "cell_type": "code",
   "execution_count": 32,
   "id": "843b5dea",
   "metadata": {
    "ExecuteTime": {
     "end_time": "2022-03-29T14:48:07.219483Z",
     "start_time": "2022-03-29T14:48:07.211311Z"
    }
   },
   "outputs": [
    {
     "data": {
      "text/plain": [
       "tensor([[1, 0, 0, 0, 0],\n",
       "        [0, 0, 1, 0, 0],\n",
       "        [0, 0, 0, 1, 0],\n",
       "        [0, 1, 0, 0, 0]])"
      ]
     },
     "execution_count": 32,
     "metadata": {},
     "output_type": "execute_result"
    }
   ],
   "source": [
    "y_true_one_hot"
   ]
  },
  {
   "cell_type": "code",
   "execution_count": 33,
   "id": "7aa133c0",
   "metadata": {
    "ExecuteTime": {
     "end_time": "2022-03-29T14:48:07.229825Z",
     "start_time": "2022-03-29T14:48:07.220880Z"
    }
   },
   "outputs": [
    {
     "data": {
      "text/plain": [
       "tensor([[3.0558e-07, 0.0000e+00, 0.0000e+00, 0.0000e+00, 0.0000e+00],\n",
       "        [0.0000e+00, 0.0000e+00, 7.2064e-03, 0.0000e+00, 0.0000e+00],\n",
       "        [0.0000e+00, 0.0000e+00, 0.0000e+00, 1.8822e-02, 0.0000e+00],\n",
       "        [0.0000e+00, 3.3188e-01, 0.0000e+00, 0.0000e+00, 0.0000e+00]])"
      ]
     },
     "execution_count": 33,
     "metadata": {},
     "output_type": "execute_result"
    }
   ],
   "source": [
    "y_pred * y_true_one_hot"
   ]
  },
  {
   "cell_type": "code",
   "execution_count": 34,
   "id": "4ea03021",
   "metadata": {
    "ExecuteTime": {
     "end_time": "2022-03-29T14:48:07.239714Z",
     "start_time": "2022-03-29T14:48:07.231202Z"
    }
   },
   "outputs": [
    {
     "data": {
      "text/plain": [
       "tensor([[15.0011,     inf,     inf,     inf,     inf],\n",
       "        [    inf,     inf,  4.9328,     inf,     inf],\n",
       "        [    inf,     inf,     inf,  3.9727,     inf],\n",
       "        [    inf,  1.1030,     inf,     inf,     inf]])"
      ]
     },
     "execution_count": 34,
     "metadata": {},
     "output_type": "execute_result"
    }
   ],
   "source": [
    "- torch.log( y_pred * y_true_one_hot )"
   ]
  },
  {
   "cell_type": "markdown",
   "id": "032f7424",
   "metadata": {},
   "source": [
    "We should sum only the non-inf numbers."
   ]
  },
  {
   "cell_type": "code",
   "execution_count": 35,
   "id": "b292b6e5",
   "metadata": {
    "ExecuteTime": {
     "end_time": "2022-03-29T14:48:07.250325Z",
     "start_time": "2022-03-29T14:48:07.240924Z"
    }
   },
   "outputs": [
    {
     "data": {
      "text/plain": [
       "tensor([3.0558e-07, 7.2064e-03, 1.8822e-02, 3.3188e-01])"
      ]
     },
     "execution_count": 35,
     "metadata": {},
     "output_type": "execute_result"
    }
   ],
   "source": [
    "y_pred[torch.where(y_true_one_hot==1)]"
   ]
  },
  {
   "cell_type": "code",
   "execution_count": 36,
   "id": "32fcfc89",
   "metadata": {
    "ExecuteTime": {
     "end_time": "2022-03-29T14:48:07.260378Z",
     "start_time": "2022-03-29T14:48:07.251522Z"
    }
   },
   "outputs": [
    {
     "data": {
      "text/plain": [
       "tensor([15.0011,  4.9328,  3.9727,  1.1030])"
      ]
     },
     "execution_count": 36,
     "metadata": {},
     "output_type": "execute_result"
    }
   ],
   "source": [
    "- torch.log( y_pred[torch.where(y_true_one_hot==1)] )"
   ]
  },
  {
   "cell_type": "code",
   "execution_count": 37,
   "id": "38ba5e65",
   "metadata": {
    "ExecuteTime": {
     "end_time": "2022-03-29T14:48:07.270160Z",
     "start_time": "2022-03-29T14:48:07.261652Z"
    }
   },
   "outputs": [
    {
     "data": {
      "text/plain": [
       "tensor(6.2524)"
      ]
     },
     "execution_count": 37,
     "metadata": {},
     "output_type": "execute_result"
    }
   ],
   "source": [
    "torch.mean( - torch.log( y_pred[torch.where(y_true_one_hot==1)] ) )"
   ]
  },
  {
   "cell_type": "markdown",
   "id": "a44d6758",
   "metadata": {},
   "source": [
    "## `logits` + `torch.nn.CrossEntropy`"
   ]
  },
  {
   "cell_type": "markdown",
   "id": "6c96ec84",
   "metadata": {},
   "source": [
    "PyTorch provides very effective implementation of *cross entropy* loss.\n",
    "Remeber to not compute the `Softmax` activation and provide directly the `logits` only."
   ]
  },
  {
   "cell_type": "code",
   "execution_count": 38,
   "id": "c2f3c71f",
   "metadata": {
    "ExecuteTime": {
     "end_time": "2022-03-29T14:48:07.278882Z",
     "start_time": "2022-03-29T14:48:07.271360Z"
    }
   },
   "outputs": [],
   "source": [
    "loss_fn = nn.CrossEntropyLoss()"
   ]
  },
  {
   "cell_type": "code",
   "execution_count": 39,
   "id": "1e337de3",
   "metadata": {
    "ExecuteTime": {
     "end_time": "2022-03-29T14:48:07.289945Z",
     "start_time": "2022-03-29T14:48:07.280177Z"
    }
   },
   "outputs": [
    {
     "data": {
      "text/plain": [
       "tensor(6.2524)"
      ]
     },
     "execution_count": 39,
     "metadata": {},
     "output_type": "execute_result"
    }
   ],
   "source": [
    "loss_fn(logits, y_true)"
   ]
  },
  {
   "cell_type": "code",
   "execution_count": 40,
   "id": "0131ab46",
   "metadata": {
    "ExecuteTime": {
     "end_time": "2022-03-29T14:48:07.302711Z",
     "start_time": "2022-03-29T14:48:07.291079Z"
    }
   },
   "outputs": [
    {
     "data": {
      "text/plain": [
       "tensor(6.2524)"
      ]
     },
     "execution_count": 40,
     "metadata": {},
     "output_type": "execute_result"
    }
   ],
   "source": [
    "F.cross_entropy(logits, y_true)"
   ]
  },
  {
   "cell_type": "markdown",
   "id": "9c2788e5",
   "metadata": {},
   "source": [
    "## `logits` + `log_softmax` + `NLLLoss`"
   ]
  },
  {
   "cell_type": "markdown",
   "id": "2463a7f6",
   "metadata": {},
   "source": [
    "Alternatively, you can use `torch.nn.LogSoftmax` and `torch.nn.NLLLoss`."
   ]
  },
  {
   "cell_type": "code",
   "execution_count": 41,
   "id": "43af905a",
   "metadata": {
    "ExecuteTime": {
     "end_time": "2022-03-29T14:48:07.311619Z",
     "start_time": "2022-03-29T14:48:07.303741Z"
    }
   },
   "outputs": [],
   "source": [
    "log_likelihood = torch.log_softmax(logits, dim=1)"
   ]
  },
  {
   "cell_type": "code",
   "execution_count": 42,
   "id": "cb7933ad",
   "metadata": {
    "ExecuteTime": {
     "end_time": "2022-03-29T14:48:07.322528Z",
     "start_time": "2022-03-29T14:48:07.312739Z"
    }
   },
   "outputs": [
    {
     "data": {
      "text/plain": [
       "tensor([[3.0558e-07, 9.9894e-01, 1.5057e-04, 9.1091e-04, 8.3065e-07],\n",
       "        [9.6774e-01, 1.1943e-04, 7.2064e-03, 1.7725e-02, 7.2064e-03],\n",
       "        [5.6544e-02, 4.1781e-01, 2.5341e-01, 1.8822e-02, 2.5341e-01],\n",
       "        [2.4842e-05, 3.3188e-01, 3.0107e-02, 6.0472e-01, 3.3274e-02]])"
      ]
     },
     "execution_count": 42,
     "metadata": {},
     "output_type": "execute_result"
    }
   ],
   "source": [
    "torch.softmax(logits, dim=1)"
   ]
  },
  {
   "cell_type": "code",
   "execution_count": 43,
   "id": "a297e16d",
   "metadata": {
    "ExecuteTime": {
     "end_time": "2022-03-29T14:48:07.332194Z",
     "start_time": "2022-03-29T14:48:07.323481Z"
    }
   },
   "outputs": [
    {
     "data": {
      "text/plain": [
       "tensor([[-1.5001e+01, -1.0631e-03, -8.8011e+00, -7.0011e+00, -1.4001e+01],\n",
       "        [-3.2789e-02, -9.0328e+00, -4.9328e+00, -4.0328e+00, -4.9328e+00],\n",
       "        [-2.8727e+00, -8.7273e-01, -1.3727e+00, -3.9727e+00, -1.3727e+00],\n",
       "        [-1.0603e+01, -1.1030e+00, -3.5030e+00, -5.0299e-01, -3.4030e+00]])"
      ]
     },
     "execution_count": 43,
     "metadata": {},
     "output_type": "execute_result"
    }
   ],
   "source": [
    "log_likelihood"
   ]
  },
  {
   "cell_type": "code",
   "execution_count": 44,
   "id": "cb8a2cc0",
   "metadata": {
    "ExecuteTime": {
     "end_time": "2022-03-29T14:48:07.340960Z",
     "start_time": "2022-03-29T14:48:07.333191Z"
    }
   },
   "outputs": [],
   "source": [
    "assert log_likelihood.isclose( torch.log(torch.softmax(logits, dim=1))).all()"
   ]
  },
  {
   "cell_type": "code",
   "execution_count": 45,
   "id": "8f87880a",
   "metadata": {
    "ExecuteTime": {
     "end_time": "2022-03-29T14:48:07.351607Z",
     "start_time": "2022-03-29T14:48:07.342028Z"
    }
   },
   "outputs": [
    {
     "data": {
      "text/plain": [
       "tensor(6.2524)"
      ]
     },
     "execution_count": 45,
     "metadata": {},
     "output_type": "execute_result"
    }
   ],
   "source": [
    "nll_loss = torch.nn.NLLLoss()\n",
    "nll_loss(log_likelihood, y_true)"
   ]
  },
  {
   "cell_type": "code",
   "execution_count": 46,
   "id": "03b41de7",
   "metadata": {
    "ExecuteTime": {
     "end_time": "2022-03-29T14:48:07.361256Z",
     "start_time": "2022-03-29T14:48:07.352557Z"
    }
   },
   "outputs": [
    {
     "data": {
      "text/plain": [
       "tensor(6.2524)"
      ]
     },
     "execution_count": 46,
     "metadata": {},
     "output_type": "execute_result"
    }
   ],
   "source": [
    "F.nll_loss(log_likelihood, y_true)"
   ]
  }
 ],
 "metadata": {
  "hide_input": false,
  "kernelspec": {
   "display_name": "Python 3 (ipykernel)",
   "language": "python",
   "name": "python3"
  },
  "language_info": {
   "codemirror_mode": {
    "name": "ipython",
    "version": 3
   },
   "file_extension": ".py",
   "mimetype": "text/x-python",
   "name": "python",
   "nbconvert_exporter": "python",
   "pygments_lexer": "ipython3",
   "version": "3.9.7"
  },
  "toc": {
   "base_numbering": 1,
   "nav_menu": {},
   "number_sections": true,
   "sideBar": true,
   "skip_h1_title": false,
   "title_cell": "Table of Contents",
   "title_sidebar": "Contents",
   "toc_cell": false,
   "toc_position": {},
   "toc_section_display": true,
   "toc_window_display": false
  },
  "varInspector": {
   "cols": {
    "lenName": 16,
    "lenType": 16,
    "lenVar": 40
   },
   "kernels_config": {
    "python": {
     "delete_cmd_postfix": "",
     "delete_cmd_prefix": "del ",
     "library": "var_list.py",
     "varRefreshCmd": "print(var_dic_list())"
    },
    "r": {
     "delete_cmd_postfix": ") ",
     "delete_cmd_prefix": "rm(",
     "library": "var_list.r",
     "varRefreshCmd": "cat(var_dic_list()) "
    }
   },
   "types_to_exclude": [
    "module",
    "function",
    "builtin_function_or_method",
    "instance",
    "_Feature"
   ],
   "window_display": false
  }
 },
 "nbformat": 4,
 "nbformat_minor": 5
}
