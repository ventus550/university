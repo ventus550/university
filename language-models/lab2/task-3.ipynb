{
 "cells": [
  {
   "cell_type": "code",
   "execution_count": 1,
   "metadata": {},
   "outputs": [],
   "source": [
    "import torch\n",
    "from transformers import AutoTokenizer, AutoModelForCausalLM\n",
    "from torch.nn import functional as F\n",
    "import random\n",
    "\n",
    "\n",
    "model_name = 'eryk-mazus/polka-1.1b'\n",
    "device = 'cuda'\n",
    "\n",
    "tokenizer = AutoTokenizer.from_pretrained(model_name)\n",
    "model = AutoModelForCausalLM.from_pretrained(model_name).to(device)"
   ]
  },
  {
   "cell_type": "code",
   "execution_count": 4,
   "metadata": {},
   "outputs": [],
   "source": [
    "def log_probs_from_logits(logits, labels):\n",
    "    logp = F.log_softmax(logits, dim=-1)\n",
    "    logp_label = torch.gather(logp, 2, labels.unsqueeze(2)).squeeze(-1)\n",
    "    return logp_label\n",
    "\n",
    "def sentence_prob(sentence_txt):\n",
    "    input_ids = tokenizer(sentence_txt, return_tensors='pt')['input_ids'].to(device)\n",
    "    with torch.no_grad():\n",
    "        output = model(input_ids=input_ids)\n",
    "        log_probs = log_probs_from_logits(output.logits[:, :-1, :], input_ids[:, 1:])\n",
    "        seq_log_probs = torch.sum(log_probs)\n",
    "    return seq_log_probs.cpu().numpy()    "
   ]
  },
  {
   "cell_type": "code",
   "execution_count": 35,
   "metadata": {},
   "outputs": [],
   "source": [
    "corpus = [w.split(\"|\") for w in \"\"\"\n",
    "wprost|wyprosty|wyprostu|wyprost uwielbiała|wielbił|wielbiła|uwielbił|wielbiło|uwielbiał|uwielbiało|uwielbiały\n",
    "słuchać|osłuchać|słychać|usłuchać o|i|e|a|ó|ę|y|ą|u\n",
    "wartościach własnych|owłosionych macierzy|mocarz|macierzą|macierze|mocarza|mocarze|mocarzy|macierz\n",
    "\"\"\".split()]"
   ]
  },
  {
   "cell_type": "code",
   "execution_count": 36,
   "metadata": {},
   "outputs": [],
   "source": [
    "from itertools import chain\n",
    "def beam_search(k, corpus):\n",
    "\t\n",
    "\tbest_k = corpus[0]\n",
    "\tfor words in corpus[1:]:\n",
    "\t\tbest_k = sorted(chain(*[\n",
    "\t\t\tsorted((f\"{prefix} {w}\" for w in words), key=sentence_prob, reverse=True)[:k]\n",
    "\t\t\tfor prefix in best_k\n",
    "\t\t]), key=sentence_prob, reverse=True)[:k]\n",
    "\t\tprint(best_k)\n"
   ]
  },
  {
   "cell_type": "code",
   "execution_count": 38,
   "metadata": {},
   "outputs": [
    {
     "name": "stdout",
     "output_type": "stream",
     "text": [
      "['wprost uwielbiał', 'wprost uwielbiała', 'wprost wielbił', 'wprost wielbiła', 'wprost uwielbiało', 'wprost uwielbiały', 'wyprost wielbił', 'wprost wielbiło', 'wyprost wielbiła', 'wyprost uwielbiał']\n",
      "['wprost uwielbiał słuchać', 'wprost uwielbiała słuchać', 'wprost uwielbiało słuchać', 'wprost uwielbiały słuchać', 'wprost uwielbiał słychać', 'wprost uwielbiała słychać', 'wprost wielbił słuchać', 'wyprost uwielbiał słuchać', 'wprost uwielbiało słychać', 'wyprost wielbił słuchać']\n",
      "['wprost uwielbiała słuchać o', 'wprost uwielbiał słuchać o', 'wprost uwielbiał słuchać i', 'wprost uwielbiała słuchać i', 'wprost uwielbiało słuchać o', 'wprost uwielbiały słuchać o', 'wprost uwielbiało słuchać i', 'wprost uwielbiał słuchać u', 'wprost uwielbiał słuchać a', 'wprost uwielbiała słuchać u']\n",
      "['wprost uwielbiała słuchać o wartościach', 'wprost uwielbiał słuchać o wartościach', 'wprost uwielbiało słuchać o wartościach', 'wprost uwielbiały słuchać o wartościach', 'wprost uwielbiał słuchać i wartościach', 'wprost uwielbiała słuchać i wartościach', 'wprost uwielbiało słuchać i wartościach', 'wprost uwielbiał słuchać a wartościach', 'wprost uwielbiał słuchać u wartościach', 'wprost uwielbiała słuchać u wartościach']\n",
      "['wprost uwielbiał słuchać o wartościach własnych', 'wprost uwielbiała słuchać o wartościach własnych', 'wprost uwielbiało słuchać o wartościach własnych', 'wprost uwielbiały słuchać o wartościach własnych', 'wprost uwielbiał słuchać i wartościach własnych', 'wprost uwielbiała słuchać i wartościach własnych', 'wprost uwielbiał słuchać o wartościach owłosionych', 'wprost uwielbiała słuchać o wartościach owłosionych', 'wprost uwielbiało słuchać i wartościach własnych', 'wprost uwielbiał słuchać a wartościach własnych']\n",
      "['wprost uwielbiała słuchać o wartościach własnych macierzy', 'wprost uwielbiał słuchać o wartościach własnych macierzy', 'wprost uwielbiało słuchać o wartościach własnych macierzy', 'wprost uwielbiały słuchać o wartościach własnych macierzy', 'wprost uwielbiał słuchać o wartościach własnych macierz', 'wprost uwielbiała słuchać o wartościach własnych mocarzy', 'wprost uwielbiał słuchać o wartościach własnych mocarzy', 'wprost uwielbiało słuchać o wartościach własnych mocarzy', 'wprost uwielbiała słuchać o wartościach własnych macierz', 'wprost uwielbiała słuchać o wartościach własnych mocarz']\n"
     ]
    }
   ],
   "source": [
    "beam_search(k=10, corpus=corpus)"
   ]
  },
  {
   "cell_type": "code",
   "execution_count": null,
   "metadata": {},
   "outputs": [],
   "source": []
  }
 ],
 "metadata": {
  "kernelspec": {
   "display_name": "Python 3",
   "language": "python",
   "name": "python3"
  },
  "language_info": {
   "codemirror_mode": {
    "name": "ipython",
    "version": 3
   },
   "file_extension": ".py",
   "mimetype": "text/x-python",
   "name": "python",
   "nbconvert_exporter": "python",
   "pygments_lexer": "ipython3",
   "version": "3.12.7"
  }
 },
 "nbformat": 4,
 "nbformat_minor": 2
}
