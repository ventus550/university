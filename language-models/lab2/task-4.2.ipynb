{
 "cells": [
  {
   "cell_type": "code",
   "execution_count": 1,
   "metadata": {},
   "outputs": [],
   "source": [
    "import torch\n",
    "from transformers import AutoTokenizer, AutoModelForCausalLM\n",
    "from torch.nn import functional as F\n",
    "import random\n",
    "\n",
    "\n",
    "model_name = 'eryk-mazus/polka-1.1b'\n",
    "device = 'cuda'\n",
    "\n",
    "tokenizer = AutoTokenizer.from_pretrained(model_name)\n",
    "model = AutoModelForCausalLM.from_pretrained(model_name).to(device)"
   ]
  },
  {
   "cell_type": "code",
   "execution_count": 3,
   "metadata": {},
   "outputs": [],
   "source": [
    "vocab = tokenizer.get_vocab()"
   ]
  },
  {
   "cell_type": "code",
   "execution_count": 4,
   "metadata": {},
   "outputs": [
    {
     "data": {
      "text/plain": [
       "26700"
      ]
     },
     "execution_count": 4,
     "metadata": {},
     "output_type": "execute_result"
    }
   ],
   "source": [
    "vocab[\"▁Nau\"]"
   ]
  },
  {
   "cell_type": "code",
   "execution_count": 15,
   "metadata": {},
   "outputs": [],
   "source": [
    "import re\n",
    "\n",
    "def split_string_by_punctuation_and_whitespace(s: str) -> list:\n",
    "    return re.split(r'[\\s\\W]+', s)\n",
    "\n",
    "def restricted_sampling(input_ids):\n",
    "\twith torch.no_grad():\n",
    "\t\toutputs = model(torch.Tensor([input_ids]).long().to(device))\n",
    "\t\tnext_token_logits = outputs.logits[:, -1, :]  # Get logits for the last token\n",
    "\n",
    "\tprobs = F.softmax(next_token_logits, dim=-1).squeeze()\n",
    "\tfor token_id in range(len(probs)):\n",
    "\t\tif not tokenizer.convert_ids_to_tokens(token_id):\n",
    "\t\t\tprobs[token_id] = 0\n",
    "\t\t\tcontinue\n",
    "\n",
    "\t\tsentence = tokenizer.decode(input_ids + [token_id], skip_special_tokens=True)\n",
    "\t\tsplit = split_string_by_punctuation_and_whitespace(sentence)\n",
    "\t\tprefix = sentence[0]\n",
    "\t\tif not all(string.startswith(prefix) or not string for string in split):\n",
    "\t\t\tprobs[token_id] = 0\n",
    "\n",
    "\tprobs /= probs.sum()\n",
    "\treturn torch.multinomial(probs, num_samples=1).item()\n",
    "\n",
    "def extend_sentence(sentence_txt, iters=30):\n",
    "\tsentence_txt = sentence_txt.lower()\n",
    "\tletter = sentence_txt[0]\n",
    "\ttoken_chain = list(tokenizer.encode(sentence_txt))\n",
    "\n",
    "\tfor i in range(iters):\n",
    "\t\ttoken_chain.append(restricted_sampling(token_chain))\n",
    "\t\tprint(tokenizer.decode(token_chain, skip_special_tokens=True))\n",
    "\treturn token_chain"
   ]
  },
  {
   "cell_type": "code",
   "execution_count": 17,
   "metadata": {},
   "outputs": [
    {
     "name": "stdout",
     "output_type": "stream",
     "text": [
      "nowa nawierzchnia na n\n",
      "nowa nawierzchnia na naram\n",
      "nowa nawierzchnia na naramow\n",
      "nowa nawierzchnia na naramowick\n",
      "nowa nawierzchnia na naramowickiej\n",
      "nowa nawierzchnia na naramowickiej.\n",
      "nowa nawierzchnia na naramowickiej. -\n",
      "nowa nawierzchnia na naramowickiej. - nab\n",
      "nowa nawierzchnia na naramowickiej. - nabór\n",
      "nowa nawierzchnia na naramowickiej. - nabórciąż\n",
      "nowa nawierzchnia na naramowickiej. - nabórciążone\n",
      "nowa nawierzchnia na naramowickiej. - nabórciążone -\n",
      "nowa nawierzchnia na naramowickiej. - nabórciążone - n\n",
      "nowa nawierzchnia na naramowickiej. - nabórciążone - nied\n",
      "nowa nawierzchnia na naramowickiej. - nabórciążone - niedaw\n",
      "nowa nawierzchnia na naramowickiej. - nabórciążone - niedawno\n",
      "nowa nawierzchnia na naramowickiej. - nabórciążone - niedawno -\n",
      "nowa nawierzchnia na naramowickiej. - nabórciążone - niedawno - n\n",
      "nowa nawierzchnia na naramowickiej. - nabórciążone - niedawno - nisk\n",
      "nowa nawierzchnia na naramowickiej. - nabórciążone - niedawno - niskie\n",
      "nowa nawierzchnia na naramowickiej. - nabórciążone - niedawno - niskiebie\n",
      "nowa nawierzchnia na naramowickiej. - nabórciążone - niedawno - niskiebiecz\n",
      "nowa nawierzchnia na naramowickiej. - nabórciążone - niedawno - niskiebieczony\n",
      "nowa nawierzchnia na naramowickiej. - nabórciążone - niedawno - niskiebieczony -\n",
      "nowa nawierzchnia na naramowickiej. - nabórciążone - niedawno - niskiebieczony - now\n",
      "nowa nawierzchnia na naramowickiej. - nabórciążone - niedawno - niskiebieczony - nowe\n",
      "nowa nawierzchnia na naramowickiej. - nabórciążone - niedawno - niskiebieczony - nowe -\n",
      "nowa nawierzchnia na naramowickiej. - nabórciążone - niedawno - niskiebieczony - nowe - na\n",
      "nowa nawierzchnia na naramowickiej. - nabórciążone - niedawno - niskiebieczony - nowe - nanested\n",
      "nowa nawierzchnia na naramowickiej. - nabórciążone - niedawno - niskiebieczony - nowe - nanestedpow\n"
     ]
    }
   ],
   "source": [
    "sentence = extend_sentence(\"Nowa nawierzchnia na\")"
   ]
  },
  {
   "cell_type": "code",
   "execution_count": null,
   "metadata": {},
   "outputs": [],
   "source": []
  }
 ],
 "metadata": {
  "kernelspec": {
   "display_name": "Python 3",
   "language": "python",
   "name": "python3"
  },
  "language_info": {
   "codemirror_mode": {
    "name": "ipython",
    "version": 3
   },
   "file_extension": ".py",
   "mimetype": "text/x-python",
   "name": "python",
   "nbconvert_exporter": "python",
   "pygments_lexer": "ipython3",
   "version": "3.12.7"
  }
 },
 "nbformat": 4,
 "nbformat_minor": 2
}
