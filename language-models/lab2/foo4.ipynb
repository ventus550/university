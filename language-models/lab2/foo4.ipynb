{
 "cells": [
  {
   "cell_type": "code",
   "execution_count": 1,
   "metadata": {},
   "outputs": [],
   "source": [
    "import torch\n",
    "from transformers import AutoTokenizer, AutoModelForCausalLM\n",
    "from torch.nn import functional as F\n",
    "import random\n",
    "\n",
    "\n",
    "model_name = 'eryk-mazus/polka-1.1b'\n",
    "device = 'cuda'\n",
    "\n",
    "tokenizer = AutoTokenizer.from_pretrained(model_name)\n",
    "model = AutoModelForCausalLM.from_pretrained(model_name).to(device)"
   ]
  },
  {
   "cell_type": "code",
   "execution_count": 2,
   "metadata": {},
   "outputs": [
    {
     "data": {
      "text/plain": [
       "[1, 633]"
      ]
     },
     "execution_count": 2,
     "metadata": {},
     "output_type": "execute_result"
    }
   ],
   "source": [
    "tokenizer.encode(\"ab\")"
   ]
  },
  {
   "cell_type": "code",
   "execution_count": 4,
   "metadata": {},
   "outputs": [],
   "source": [
    "vocab = tokenizer.get_vocab()"
   ]
  },
  {
   "cell_type": "code",
   "execution_count": 6,
   "metadata": {},
   "outputs": [
    {
     "data": {
      "text/plain": [
       "26700"
      ]
     },
     "execution_count": 6,
     "metadata": {},
     "output_type": "execute_result"
    }
   ],
   "source": [
    "vocab[\"▁Nau\"]"
   ]
  },
  {
   "cell_type": "code",
   "execution_count": 57,
   "metadata": {},
   "outputs": [],
   "source": [
    "def restricted_sampling(input_ids, predicate):\n",
    "    # Generate logits for the next token\n",
    "    with torch.no_grad():\n",
    "        # input_ids = tokenizer(sentence_txt, return_tensors='pt')['input_ids'].to(device)\n",
    "        outputs = model(torch.Tensor([input_ids]).long().to(device))\n",
    "        next_token_logits = outputs.logits[:, -1, :]  # Get logits for the last token\n",
    "\n",
    "    # Convert logits to probabilities\n",
    "    probs = F.softmax(next_token_logits, dim=-1).squeeze()\n",
    "\n",
    "    # Get tokens that start with \"p\" or \"P\" and set their probability to 0\n",
    "    for token_id in range(len(probs)):\n",
    "        token = tokenizer.convert_ids_to_tokens(token_id)\n",
    "\n",
    "        if not token or not predicate(token):\n",
    "            probs[token_id] = 0\n",
    "\n",
    "    # Renormalize probabilities\n",
    "    probs /= probs.sum()\n",
    "\n",
    "    # Sample from the filtered distribution\n",
    "    filtered_token_id = torch.multinomial(probs, num_samples=1).item()\n",
    "    print(tokenizer.convert_ids_to_tokens(filtered_token_id))\n",
    "    # return tokenizer.decode([filtered_token_id])\n",
    "    return filtered_token_id\n",
    "\n",
    "def extend_sentence(sentence_txt, iter=10):\n",
    "    letter = sentence_txt[0]\n",
    "    token_chain = list(tokenizer.encode(sentence_txt))\n",
    "\n",
    "    for i in range(iter):\n",
    "        # token_chain.append(restricted_sampling(token_chain, lambda token: token.startswith(letter)))\n",
    "        if tokenizer.decode(token_chain)[-1] == \" \":\n",
    "            # print(tokenizer.decode(token_chain))\n",
    "            token_chain.append(restricted_sampling(token_chain, lambda token: token.startswith(letter)))\n",
    "        else:\n",
    "        \ttoken_chain.append(restricted_sampling(token_chain, lambda token: token.startswith(\"▁\" + letter) or not token.startswith(\"▁\")))\n",
    "\n",
    "        # if tokenizer.convert_ids_to_tokens(token_chain[-1])[-1] == \"▁\":\n",
    "        # \ttoken_chain.append(restricted_sampling(token_chain, lambda token: token.startswith(letter)))\n",
    "        # else:\n",
    "        # \ttoken_chain.append(restricted_sampling(token_chain, lambda token: token.startswith(\"▁\" + letter) or not token.startswith(\"▁\")))\n",
    "            \n",
    "    return token_chain"
   ]
  },
  {
   "cell_type": "code",
   "execution_count": 58,
   "metadata": {},
   "outputs": [
    {
     "name": "stdout",
     "output_type": "stream",
     "text": [
      ",▁z\n",
      "iom\n",
      "la\n",
      ",\n",
      "gu\n",
      "zach\n",
      "owego\n",
      ",\n",
      "Syn\n",
      "u\n"
     ]
    }
   ],
   "source": [
    "sentence = extend_sentence(\"Ala ma kota\")"
   ]
  },
  {
   "cell_type": "code",
   "execution_count": 59,
   "metadata": {},
   "outputs": [
    {
     "data": {
      "text/plain": [
       "'<s> Ala ma kota, ziomla,guzachowego,Synu'"
      ]
     },
     "execution_count": 59,
     "metadata": {},
     "output_type": "execute_result"
    }
   ],
   "source": [
    "tokenizer.decode(sentence)"
   ]
  },
  {
   "cell_type": "code",
   "execution_count": 31,
   "metadata": {},
   "outputs": [
    {
     "data": {
      "text/plain": [
       "'Ala ma kota'"
      ]
     },
     "execution_count": 31,
     "metadata": {},
     "output_type": "execute_result"
    }
   ],
   "source": [
    "tokenizer.decode(tokenizer.encode(\"Ala ma kota\"), skip_special_tokens=True)"
   ]
  },
  {
   "cell_type": "code",
   "execution_count": null,
   "metadata": {},
   "outputs": [],
   "source": []
  }
 ],
 "metadata": {
  "kernelspec": {
   "display_name": "Python 3",
   "language": "python",
   "name": "python3"
  },
  "language_info": {
   "codemirror_mode": {
    "name": "ipython",
    "version": 3
   },
   "file_extension": ".py",
   "mimetype": "text/x-python",
   "name": "python",
   "nbconvert_exporter": "python",
   "pygments_lexer": "ipython3",
   "version": "3.12.7"
  }
 },
 "nbformat": 4,
 "nbformat_minor": 2
}
