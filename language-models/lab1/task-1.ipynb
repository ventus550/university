{
 "cells": [
  {
   "cell_type": "code",
   "execution_count": 1,
   "metadata": {},
   "outputs": [
    {
     "name": "stdout",
     "output_type": "stream",
     "text": [
      "\n"
     ]
    },
    {
     "name": "stderr",
     "output_type": "stream",
     "text": [
      "Starting from v4.46, the `logits` model output will have the same type as the model (except at train time, where it will always be FP32)\n"
     ]
    },
    {
     "name": "stdout",
     "output_type": "stream",
     "text": [
      "--------------------------------------------------\n",
      "Użytkownik: \"Cześć!\"\n",
      "Chatbot: \"Cześć.\"\n",
      "--------------------------------------------------\n",
      "Użytkownik: \"Jaki jest twój ulubiony kolor?\"\n",
      "Chatbot: \"Pomarańczowy.\"\n",
      "--------------------------------------------------\n",
      "Użytkownik: \"Mój też!\"\n",
      "Chatbot: \"Nie ma sprawy.\"\n"
     ]
    }
   ],
   "source": [
    "import torch\n",
    "from transformers import AutoModelForCausalLM, AutoTokenizer\n",
    "\n",
    "model_name = \"eryk-mazus/polka-1.1b\"\n",
    "device = 'cuda'\n",
    "\n",
    "tokenizer = AutoTokenizer.from_pretrained(model_name, padding_side=\"left\")\n",
    "\n",
    "model = AutoModelForCausalLM.from_pretrained(model_name).to(device)\n",
    "model.generation_config.pad_token_id = tokenizer.pad_token_id\n",
    "model.eval()\n",
    "\n",
    "system_prompt = \"\"\"\n",
    "Wstęp:\n",
    "Użytkownik nawiązuje kontakt z asystentem. Asystent jest pomocny i odpowiada zwięźle.\n",
    "\n",
    "Dialog:\"\"\"\n",
    "\n",
    "\n",
    "print ()\n",
    "while (user_prompt := input().strip()):\n",
    "\n",
    "    prompt = f\"\"\"\n",
    "{system_prompt}\n",
    "Użytkownik: \\\"{user_prompt}\\\"\n",
    "Asystent: \\\"\"\"\"\n",
    "\n",
    "\n",
    "    model_inputs = tokenizer([prompt], return_tensors=\"pt\").to(device)\n",
    "    generated_ids = model.generate(\n",
    "      **model_inputs,\n",
    "      max_new_tokens=126,\n",
    "      do_sample=True,\n",
    "      penalty_alpha=0.6,\n",
    "      top_k=10\n",
    "    )\n",
    "\n",
    "    output = tokenizer.batch_decode(generated_ids, skip_special_tokens=True)[0]\n",
    "    print (50 * '-', flush=True)\n",
    "    print (f\"Użytkownik: \\\"{user_prompt}\\\"\", flush=True)\n",
    "\n",
    "    response = output.removeprefix(prompt).strip().replace(\"\\\\n\", \"\\n\").split(\"\\n\")[0].split(\"\\\"\")[0] + \"\\\"\"\n",
    "    system_prompt = prompt + response\n",
    "    print (f\"Chatbot: \\\"{response}\", flush=True)\n"
   ]
  },
  {
   "cell_type": "code",
   "execution_count": null,
   "metadata": {},
   "outputs": [],
   "source": []
  }
 ],
 "metadata": {
  "kernelspec": {
   "display_name": "Python 3",
   "language": "python",
   "name": "python3"
  },
  "language_info": {
   "codemirror_mode": {
    "name": "ipython",
    "version": 3
   },
   "file_extension": ".py",
   "mimetype": "text/x-python",
   "name": "python",
   "nbconvert_exporter": "python",
   "pygments_lexer": "ipython3",
   "version": "3.12.4"
  }
 },
 "nbformat": 4,
 "nbformat_minor": 2
}
