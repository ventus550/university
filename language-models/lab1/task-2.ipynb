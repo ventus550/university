{
 "cells": [
  {
   "cell_type": "code",
   "execution_count": 1,
   "metadata": {},
   "outputs": [],
   "source": [
    "import torch\n",
    "from transformers import AutoTokenizer, AutoModelForCausalLM\n",
    "from torch.nn import functional as F\n",
    "import random\n",
    "\n",
    "model_name = 'flax-community/papuGaPT2'\n",
    "device = 'cuda'\n",
    "\n",
    "tokenizer = AutoTokenizer.from_pretrained(model_name)\n",
    "model = AutoModelForCausalLM.from_pretrained(model_name).to(device)\n",
    "\n",
    "def log_probs_from_logits(logits, labels):\n",
    "    logp = F.log_softmax(logits, dim=-1)\n",
    "    logp_label = torch.gather(logp, 2, labels.unsqueeze(2)).squeeze(-1)\n",
    "    return logp_label\n",
    "\n",
    "def sentence_prob(sentence_txt):\n",
    "    input_ids = tokenizer(sentence_txt, return_tensors='pt')['input_ids'].to(device)\n",
    "    with torch.no_grad():\n",
    "        output = model(input_ids=input_ids)\n",
    "        log_probs = log_probs_from_logits(output.logits[:, :-1, :], input_ids[:, 1:])\n",
    "        seq_log_probs = torch.sum(log_probs)\n",
    "    return seq_log_probs.cpu().numpy()  "
   ]
  },
  {
   "cell_type": "code",
   "execution_count": 2,
   "metadata": {},
   "outputs": [
    {
     "data": {
      "text/plain": [
       "[('miała', 'babuleńka', 'dwa', 'rogate', 'koziołki'),\n",
       " ('miała', 'babuleńka', 'dwa', 'koziołki', 'rogate'),\n",
       " ('dwa', 'rogate', 'koziołki', 'miała', 'babuleńka'),\n",
       " ('dwa', 'babuleńka', 'miała', 'koziołki', 'rogate'),\n",
       " ('miała', 'dwa', 'koziołki', 'rogate', 'babuleńka'),\n",
       " ('miała', 'koziołki', 'babuleńka', 'dwa', 'rogate'),\n",
       " ('miała', 'dwa', 'rogate', 'koziołki', 'babuleńka'),\n",
       " ('miała', 'babuleńka', 'rogate', 'dwa', 'koziołki'),\n",
       " ('miała', 'dwa', 'koziołki', 'babuleńka', 'rogate'),\n",
       " ('dwa', 'rogate', 'koziołki', 'babuleńka', 'miała')]"
      ]
     },
     "execution_count": 2,
     "metadata": {},
     "output_type": "execute_result"
    }
   ],
   "source": [
    "from itertools import permutations\n",
    "words = \"babuleńka miała dwa rogate koziołki\".split()\n",
    "sorted(permutations(words), key=lambda l: sentence_prob(\" \".join(l)), reverse=True)[:10]"
   ]
  },
  {
   "cell_type": "code",
   "execution_count": 41,
   "metadata": {},
   "outputs": [
    {
     "name": "stdout",
     "output_type": "stream",
     "text": [
      "{'wczoraj wieczorem', 'wspaniałą pasją', 'pewną', 'modelach spotkałem kobietę, która opowiadała o', 'językowych', 'z'}\n"
     ]
    },
    {
     "data": {
      "text/plain": [
       "[('językowych',\n",
       "  'modelach spotkałem kobietę, która opowiadała o',\n",
       "  'wczoraj wieczorem',\n",
       "  'z',\n",
       "  'pewną',\n",
       "  'wspaniałą pasją'),\n",
       " ('językowych',\n",
       "  'wczoraj wieczorem',\n",
       "  'z',\n",
       "  'pewną',\n",
       "  'wspaniałą pasją',\n",
       "  'modelach spotkałem kobietę, która opowiadała o'),\n",
       " ('wczoraj wieczorem',\n",
       "  'z',\n",
       "  'pewną',\n",
       "  'wspaniałą pasją',\n",
       "  'modelach spotkałem kobietę, która opowiadała o',\n",
       "  'językowych'),\n",
       " ('wczoraj wieczorem',\n",
       "  'z',\n",
       "  'pewną',\n",
       "  'wspaniałą pasją',\n",
       "  'językowych',\n",
       "  'modelach spotkałem kobietę, która opowiadała o'),\n",
       " ('językowych',\n",
       "  'modelach spotkałem kobietę, która opowiadała o',\n",
       "  'z',\n",
       "  'pewną',\n",
       "  'wspaniałą pasją',\n",
       "  'wczoraj wieczorem'),\n",
       " ('modelach spotkałem kobietę, która opowiadała o',\n",
       "  'wczoraj wieczorem',\n",
       "  'z',\n",
       "  'pewną',\n",
       "  'wspaniałą pasją',\n",
       "  'językowych'),\n",
       " ('modelach spotkałem kobietę, która opowiadała o',\n",
       "  'językowych',\n",
       "  'wczoraj wieczorem',\n",
       "  'z',\n",
       "  'pewną',\n",
       "  'wspaniałą pasją'),\n",
       " ('językowych',\n",
       "  'z',\n",
       "  'pewną',\n",
       "  'wspaniałą pasją',\n",
       "  'wczoraj wieczorem',\n",
       "  'modelach spotkałem kobietę, która opowiadała o'),\n",
       " ('językowych',\n",
       "  'modelach spotkałem kobietę, która opowiadała o',\n",
       "  'wczoraj wieczorem',\n",
       "  'z',\n",
       "  'wspaniałą pasją',\n",
       "  'pewną'),\n",
       " ('wczoraj wieczorem',\n",
       "  'językowych',\n",
       "  'modelach spotkałem kobietę, która opowiadała o',\n",
       "  'z',\n",
       "  'pewną',\n",
       "  'wspaniałą pasją')]"
      ]
     },
     "execution_count": 41,
     "metadata": {},
     "output_type": "execute_result"
    }
   ],
   "source": [
    "words = set(\"wczoraj wieczorem spotkałem pewną wspaniałą kobietę, która z pasją opowiadała o modelach językowych\".split())\n",
    "\n",
    "def test_synergy(w: str, v: str, wv: str):\n",
    "\treturn 0.94*sentence_prob(wv) > sentence_prob(w) + sentence_prob(v)\n",
    "\n",
    "def synergize(words: set):\n",
    "\tsynergies = filter(lambda args: test_synergy(*args) and args[0] != args[1], ((w, v, f\"{w} {v}\") for w, v in product(words, words)))\n",
    "\treturn max(synergies, key=lambda args: sentence_prob(args[-1]), default=None)\n",
    "\n",
    "while (s := synergize(words)):\n",
    "\tw, v, wv = s\n",
    "\twords.remove(w)\n",
    "\twords.remove(v)\n",
    "\twords.add(wv)\n",
    "\n",
    "print(words)\n",
    "sorted(permutations(words), key=lambda l: sentence_prob(\" \".join(l)), reverse=True)[:10]"
   ]
  },
  {
   "cell_type": "code",
   "execution_count": null,
   "metadata": {},
   "outputs": [],
   "source": []
  }
 ],
 "metadata": {
  "kernelspec": {
   "display_name": "Python 3",
   "language": "python",
   "name": "python3"
  },
  "language_info": {
   "codemirror_mode": {
    "name": "ipython",
    "version": 3
   },
   "file_extension": ".py",
   "mimetype": "text/x-python",
   "name": "python",
   "nbconvert_exporter": "python",
   "pygments_lexer": "ipython3",
   "version": "3.12.4"
  }
 },
 "nbformat": 4,
 "nbformat_minor": 2
}
