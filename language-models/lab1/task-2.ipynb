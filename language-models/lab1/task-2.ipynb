{
 "cells": [
  {
   "cell_type": "code",
   "execution_count": 1,
   "metadata": {},
   "outputs": [],
   "source": [
    "import torch\n",
    "from transformers import AutoTokenizer, AutoModelForCausalLM\n",
    "from torch.nn import functional as F\n",
    "import random\n",
    "\n",
    "model_name = 'flax-community/papuGaPT2'\n",
    "device = 'cuda'\n",
    "\n",
    "tokenizer = AutoTokenizer.from_pretrained(model_name)\n",
    "model = AutoModelForCausalLM.from_pretrained(model_name).to(device)\n",
    "\n",
    "def log_probs_from_logits(logits, labels):\n",
    "    logp = F.log_softmax(logits, dim=-1)\n",
    "    logp_label = torch.gather(logp, 2, labels.unsqueeze(2)).squeeze(-1)\n",
    "    return logp_label\n",
    "\n",
    "def sentence_prob(sentence_txt):\n",
    "    input_ids = tokenizer(sentence_txt, return_tensors='pt')['input_ids'].to(device)\n",
    "    with torch.no_grad():\n",
    "        output = model(input_ids=input_ids)\n",
    "        log_probs = log_probs_from_logits(output.logits[:, :-1, :], input_ids[:, 1:])\n",
    "        seq_log_probs = torch.sum(log_probs)\n",
    "    return seq_log_probs.cpu().numpy()  "
   ]
  },
  {
   "cell_type": "code",
   "execution_count": 2,
   "metadata": {},
   "outputs": [
    {
     "data": {
      "text/plain": [
       "[('miała', 'babuleńka', 'dwa', 'rogate', 'koziołki'),\n",
       " ('miała', 'babuleńka', 'dwa', 'koziołki', 'rogate'),\n",
       " ('dwa', 'rogate', 'koziołki', 'miała', 'babuleńka'),\n",
       " ('dwa', 'babuleńka', 'miała', 'koziołki', 'rogate'),\n",
       " ('miała', 'dwa', 'koziołki', 'rogate', 'babuleńka'),\n",
       " ('miała', 'koziołki', 'babuleńka', 'dwa', 'rogate'),\n",
       " ('miała', 'dwa', 'rogate', 'koziołki', 'babuleńka'),\n",
       " ('miała', 'babuleńka', 'rogate', 'dwa', 'koziołki'),\n",
       " ('miała', 'dwa', 'koziołki', 'babuleńka', 'rogate'),\n",
       " ('dwa', 'rogate', 'koziołki', 'babuleńka', 'miała')]"
      ]
     },
     "execution_count": 2,
     "metadata": {},
     "output_type": "execute_result"
    }
   ],
   "source": [
    "from itertools import permutations\n",
    "words = \"babuleńka miała dwa rogate koziołki\".split()\n",
    "sorted(permutations(words), key=lambda l: sentence_prob(\" \".join(l)), reverse=True)[:10]"
   ]
  },
  {
   "cell_type": "code",
   "execution_count": null,
   "metadata": {},
   "outputs": [],
   "source": []
  }
 ],
 "metadata": {
  "kernelspec": {
   "display_name": "Python 3",
   "language": "python",
   "name": "python3"
  },
  "language_info": {
   "codemirror_mode": {
    "name": "ipython",
    "version": 3
   },
   "file_extension": ".py",
   "mimetype": "text/x-python",
   "name": "python",
   "nbconvert_exporter": "python",
   "pygments_lexer": "ipython3",
   "version": "3.12.4"
  }
 },
 "nbformat": 4,
 "nbformat_minor": 2
}
