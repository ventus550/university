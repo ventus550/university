{
 "cells": [
  {
   "cell_type": "code",
   "execution_count": 1,
   "metadata": {},
   "outputs": [
    {
     "name": "stderr",
     "output_type": "stream",
     "text": [
      "2024-10-09 17:33:18.483120: E external/local_xla/xla/stream_executor/cuda/cuda_fft.cc:485] Unable to register cuFFT factory: Attempting to register factory for plugin cuFFT when one has already been registered\n",
      "2024-10-09 17:33:18.497001: E external/local_xla/xla/stream_executor/cuda/cuda_dnn.cc:8454] Unable to register cuDNN factory: Attempting to register factory for plugin cuDNN when one has already been registered\n",
      "2024-10-09 17:33:18.500790: E external/local_xla/xla/stream_executor/cuda/cuda_blas.cc:1452] Unable to register cuBLAS factory: Attempting to register factory for plugin cuBLAS when one has already been registered\n",
      "2024-10-09 17:33:18.511504: I tensorflow/core/platform/cpu_feature_guard.cc:210] This TensorFlow binary is optimized to use available CPU instructions in performance-critical operations.\n",
      "To enable the following instructions: AVX2 FMA, in other operations, rebuild TensorFlow with the appropriate compiler flags.\n",
      "2024-10-09 17:33:19.624248: W tensorflow/compiler/tf2tensorrt/utils/py_utils.cc:38] TF-TRT Warning: Could not find TensorRT\n"
     ]
    },
    {
     "name": "stdout",
     "output_type": "stream",
     "text": [
      "Model loaded\n",
      "\n",
      "Wstęp:\n",
      "Uzytkownik nawiązuje kontakt z chatbotem szukając towarzystwa i ciekawej interakcji.\n",
      "\n",
      "Dialog:\n",
      "Użytkownik: Hej\n",
      "Chatbot: ครัดสูห\n",
      "==================================================\n",
      "\n",
      "\n",
      "Wstęp:\n",
      "Uzytkownik nawiązuje kontakt z chatbotem szukając towarzystwa i ciekawej interakcji.\n",
      "\n",
      "Dialog:\n",
      "Użytkownik: Co tam?\n",
      "Chatbot: \u0007Chatbot.pl \u0007Chatbot.\n",
      "==================================================\n",
      "\n"
     ]
    }
   ],
   "source": [
    "from transformers import pipeline, set_seed\n",
    "\n",
    "generator = pipeline('text-generation', model='flax-community/papuGaPT2', device=0)\n",
    "\n",
    "print ('Model loaded')\n",
    "\n",
    "# system_prompt = \"\"\"\n",
    "# Ty i ja prowadzimy luźną, nieformalną rozmowę na różne tematy. Twoje odpowiedzi powinny być przyjacielskie, ale pełne informacji.\n",
    "# \"\"\"\n",
    "\n",
    "# system_prompt = \"\"\"\n",
    "# W mrocznym parku, gdzie latarnie ledwo oświetlają alejki, spotykają się dwie nieznajome osoby, a ich rozmowa szybko przekształca się w niezwykle interesującą wymianę myśli.\n",
    "# \"\"\"\n",
    "\n",
    "system_prompt = \"\"\"\n",
    "Wstęp:\n",
    "Uzytkownik nawiązuje kontakt z chatbotem szukając towarzystwa i ciekawej interakcji.\n",
    "\n",
    "Dialog:\n",
    "Użytkownik: \"\"\"\n",
    "\n",
    "while (user_prompt := input().strip()):\n",
    "    g = generator(system_prompt + user_prompt + \"\\nChatbot: \", pad_token_id=generator.tokenizer.eos_token_id)[0]['generated_text']\n",
    "    \n",
    "    print (g)\n",
    "    print (50 * '=')\n",
    "    print ()\n",
    "    # last_prompt = prompt\n",
    "    "
   ]
  },
  {
   "cell_type": "code",
   "execution_count": null,
   "metadata": {},
   "outputs": [],
   "source": []
  }
 ],
 "metadata": {
  "kernelspec": {
   "display_name": "Python 3",
   "language": "python",
   "name": "python3"
  },
  "language_info": {
   "codemirror_mode": {
    "name": "ipython",
    "version": 3
   },
   "file_extension": ".py",
   "mimetype": "text/x-python",
   "name": "python",
   "nbconvert_exporter": "python",
   "pygments_lexer": "ipython3",
   "version": "3.12.4"
  }
 },
 "nbformat": 4,
 "nbformat_minor": 2
}
