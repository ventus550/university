{
 "cells": [
  {
   "cell_type": "code",
   "execution_count": 1,
   "metadata": {},
   "outputs": [],
   "source": [
    "import torch\n",
    "from transformers import AutoTokenizer, AutoModelForCausalLM\n",
    "from torch.nn import functional as F\n",
    "import random\n",
    "\n",
    "model_name = 'flax-community/papuGaPT2'\n",
    "device = 'cuda'\n",
    "\n",
    "tokenizer = AutoTokenizer.from_pretrained(model_name)\n",
    "model = AutoModelForCausalLM.from_pretrained(model_name).to(device)\n",
    "\n",
    "def log_probs_from_logits(logits, labels):\n",
    "    logp = F.log_softmax(logits, dim=-1)\n",
    "    logp_label = torch.gather(logp, 2, labels.unsqueeze(2)).squeeze(-1)\n",
    "    return logp_label\n",
    "\n",
    "def sentence_prob(sentence_txt):\n",
    "    input_ids = tokenizer(sentence_txt, return_tensors='pt')['input_ids'].to(device)\n",
    "    with torch.no_grad():\n",
    "        output = model(input_ids=input_ids)\n",
    "        log_probs = log_probs_from_logits(output.logits[:, :-1, :], input_ids[:, 1:])\n",
    "        seq_log_probs = torch.sum(log_probs)\n",
    "    return seq_log_probs.cpu().numpy()  "
   ]
  },
  {
   "cell_type": "code",
   "execution_count": 18,
   "metadata": {},
   "outputs": [],
   "source": [
    "def measure_accuracy(classifier):\n",
    "\tdata = []\n",
    "\tfor line in open(\"reviews_for_task3.txt\").readlines():\n",
    "\t\tlabel, *review = line.strip().split()\n",
    "\t\treview = \" \".join(review)\n",
    "\t\tdata.append(label == classifier(review))\n",
    "\treturn sum(data) / len(data)"
   ]
  },
  {
   "cell_type": "code",
   "execution_count": 21,
   "metadata": {},
   "outputs": [
    {
     "data": {
      "text/plain": [
       "0.7875"
      ]
     },
     "execution_count": 21,
     "metadata": {},
     "output_type": "execute_result"
    }
   ],
   "source": [
    "def classify_review_with_prefix(review):\n",
    "    pos_sentence = f\"Opinia jest pozytywna.\"\n",
    "    neg_sentence = f\"Opinia jest negatywna.\"\n",
    "\n",
    "    pos_prob = sentence_prob(review + \" \" + pos_sentence)\n",
    "    neg_prob = sentence_prob(review + \" \" + neg_sentence)\n",
    "\n",
    "    if pos_prob > neg_prob:\n",
    "        return \"GOOD\"\n",
    "    else:\n",
    "        return \"BAD\"\n",
    "\n",
    "measure_accuracy(classify_review_with_prefix)"
   ]
  },
  {
   "cell_type": "code",
   "execution_count": 22,
   "metadata": {},
   "outputs": [
    {
     "data": {
      "text/plain": [
       "0.5175"
      ]
     },
     "execution_count": 22,
     "metadata": {},
     "output_type": "execute_result"
    }
   ],
   "source": [
    "def classify_review_with_suffix(review):\n",
    "    pos_sentence = f\"Opinia jest pozytywna.\"\n",
    "    neg_sentence = f\"Opinia jest negatywna.\"\n",
    "\n",
    "    pos_prob = sentence_prob(pos_sentence + \" \" + review)\n",
    "    neg_prob = sentence_prob(neg_sentence + \" \" + review)\n",
    "\n",
    "    if pos_prob > neg_prob:\n",
    "        return \"GOOD\"\n",
    "    else:\n",
    "        return \"BAD\"\n",
    "\n",
    "measure_accuracy(classify_review_with_suffix)"
   ]
  },
  {
   "cell_type": "code",
   "execution_count": null,
   "metadata": {},
   "outputs": [],
   "source": []
  }
 ],
 "metadata": {
  "kernelspec": {
   "display_name": "Python 3",
   "language": "python",
   "name": "python3"
  },
  "language_info": {
   "codemirror_mode": {
    "name": "ipython",
    "version": 3
   },
   "file_extension": ".py",
   "mimetype": "text/x-python",
   "name": "python",
   "nbconvert_exporter": "python",
   "pygments_lexer": "ipython3",
   "version": "3.12.4"
  }
 },
 "nbformat": 4,
 "nbformat_minor": 2
}
